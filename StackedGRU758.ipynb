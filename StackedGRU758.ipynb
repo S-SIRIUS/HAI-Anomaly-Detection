{
 "cells": [
  {
   "cell_type": "code",
   "execution_count": 1,
   "metadata": {
    "colab": {
     "base_uri": "https://localhost:8080/"
    },
    "id": "XNhODmveyXo3",
    "outputId": "8fb3f038-24ed-42ff-fa03-041b8b01487e"
   },
   "outputs": [
    {
     "name": "stdout",
     "output_type": "stream",
     "text": [
      "Mounted at /content/drive\n"
     ]
    }
   ],
   "source": [
    "from google.colab import drive\n",
    "drive.mount('/content/drive')"
   ]
  },
  {
   "cell_type": "code",
   "execution_count": 2,
   "metadata": {
    "colab": {
     "base_uri": "https://localhost:8080/"
    },
    "id": "4F9Hv0JIyYyz",
    "outputId": "536e6b76-273e-4374-b550-0564e6db664c"
   },
   "outputs": [
    {
     "name": "stdout",
     "output_type": "stream",
     "text": [
      "Looking in indexes: https://pypi.org/simple, https://us-python.pkg.dev/colab-wheels/public/simple/\n",
      "Processing ./drive/MyDrive/HAI/eTaPR-21.8.2-py3-none-any.whl\n",
      "Installing collected packages: eTaPR\n",
      "Successfully installed eTaPR-21.8.2\n"
     ]
    }
   ],
   "source": [
    "!pip install /content/drive/MyDrive/HAI/eTaPR-21.8.2-py3-none-any.whl"
   ]
  },
  {
   "cell_type": "code",
   "execution_count": 3,
   "metadata": {
    "id": "KiusibeqyaE9"
   },
   "outputs": [],
   "source": [
    "import numpy as np\n",
    "import torch"
   ]
  },
  {
   "cell_type": "code",
   "execution_count": 4,
   "metadata": {
    "id": "efN1QuZrydJr"
   },
   "outputs": [],
   "source": [
    "import random\n",
    "\n",
    "SEED = 42\n",
    "\n",
    "random.seed(SEED)\n",
    "np.random.seed(SEED)\n",
    "torch.manual_seed(SEED)\n",
    "torch.cuda.manual_seed(SEED)\n",
    "torch.backends.cudnn.deterministic = True"
   ]
  },
  {
   "cell_type": "code",
   "execution_count": 5,
   "metadata": {
    "id": "sB47BjmLyfvo"
   },
   "outputs": [],
   "source": [
    "import sys\n",
    "\n",
    "from pathlib import Path\n",
    "from datetime import timedelta\n",
    "\n",
    "import dateutil\n",
    "import numpy as np\n",
    "import matplotlib.pyplot as plt\n",
    "import pandas as pd\n",
    "import torch\n",
    "\n",
    "from torch.utils.data import Dataset, DataLoader\n",
    "from tqdm.notebook import trange\n",
    "from TaPR_pkg import etapr"
   ]
  },
  {
   "cell_type": "code",
   "execution_count": 6,
   "metadata": {
    "id": "bVP_IC-5ymyd"
   },
   "outputs": [],
   "source": [
    "train_data1 = pd.read_csv(\"/content/drive/MyDrive/HAI/train1.csv\", sep=\";\", engine=\"python\")\n",
    "train_data2 = pd.read_csv(\"/content/drive/MyDrive/HAI/train2.csv\", sep=\";\", engine=\"python\")"
   ]
  },
  {
   "cell_type": "code",
   "execution_count": 7,
   "metadata": {
    "id": "oYJMWQIhyoHp"
   },
   "outputs": [],
   "source": [
    "TRAIN_DF_RAW = pd.concat([train_data1, train_data2], axis=0).reset_index(drop=True)"
   ]
  },
  {
   "cell_type": "code",
   "execution_count": 8,
   "metadata": {
    "colab": {
     "base_uri": "https://localhost:8080/"
    },
    "id": "Xxhg7_OsypvZ",
    "outputId": "f7f45653-edfc-451a-d4a5-461703e1f5e7"
   },
   "outputs": [
    {
     "data": {
      "text/plain": [
       "Index(['P1_B2004', 'P1_B2016', 'P1_B3004', 'P1_B3005', 'P1_B4002', 'P1_B4005',\n",
       "       'P1_B400B', 'P1_B4022', 'P1_FCV01D', 'P1_FCV01Z', 'P1_FCV02D',\n",
       "       'P1_FCV02Z', 'P1_FCV03D', 'P1_FCV03Z', 'P1_FT01', 'P1_FT01Z', 'P1_FT02',\n",
       "       'P1_FT02Z', 'P1_FT03', 'P1_FT03Z', 'P1_LCV01D', 'P1_LCV01Z', 'P1_LIT01',\n",
       "       'P1_PCV01D', 'P1_PCV01Z', 'P1_PCV02D', 'P1_PCV02Z', 'P1_PIT01',\n",
       "       'P1_PIT02', 'P1_TIT01', 'P1_TIT02', 'P2_24Vdc', 'P2_Auto', 'P2_Emgy',\n",
       "       'P2_On', 'P2_SD01', 'P2_SIT01', 'P2_TripEx', 'P2_VT01e', 'P2_VXT02',\n",
       "       'P2_VXT03', 'P2_VYT02', 'P2_VYT03', 'P3_LCP01D', 'P3_LCV01D', 'P3_LH',\n",
       "       'P3_LL', 'P3_LT01', 'P4_HT_FD', 'P4_HT_LD', 'P4_HT_PO', 'P4_HT_PS',\n",
       "       'P4_LD', 'P4_ST_FD', 'P4_ST_LD', 'P4_ST_PO', 'P4_ST_PS', 'P4_ST_PT01',\n",
       "       'P4_ST_TT01'],\n",
       "      dtype='object')"
      ]
     },
     "execution_count": 8,
     "metadata": {},
     "output_type": "execute_result"
    }
   ],
   "source": [
    "TIMESTAMP_FIELD = \"time\"\n",
    "ATTACK_FIELD = \"attack\"\n",
    "USELESS_FIELDS = [\"attack_P1\", \"attack_P2\", \"attack_P3\"]\n",
    "VALID_COLUMNS_IN_TRAIN_DATASET = TRAIN_DF_RAW.columns.drop(\n",
    "    [TIMESTAMP_FIELD, ATTACK_FIELD] + USELESS_FIELDS\n",
    ")\n",
    "VALID_COLUMNS_IN_TRAIN_DATASET"
   ]
  },
  {
   "cell_type": "code",
   "execution_count": 9,
   "metadata": {
    "id": "PESuw7LiysMF"
   },
   "outputs": [],
   "source": [
    "TAG_MIN = TRAIN_DF_RAW[VALID_COLUMNS_IN_TRAIN_DATASET].min()\n",
    "TAG_MAX = TRAIN_DF_RAW[VALID_COLUMNS_IN_TRAIN_DATASET].max()"
   ]
  },
  {
   "cell_type": "code",
   "execution_count": 10,
   "metadata": {
    "id": "BmuLg6vuyuVT"
   },
   "outputs": [],
   "source": [
    "def normalize(df):\n",
    "    ndf = df.copy()\n",
    "    for c in df.columns:\n",
    "        if TAG_MIN[c] == TAG_MAX[c]:\n",
    "            ndf[c] = df[c] - TAG_MIN[c]\n",
    "        else:\n",
    "            ndf[c] = (df[c] - TAG_MIN[c]) / (TAG_MAX[c] - TAG_MIN[c])\n",
    "    return ndf"
   ]
  },
  {
   "cell_type": "code",
   "execution_count": 11,
   "metadata": {
    "colab": {
     "base_uri": "https://localhost:8080/",
     "height": 487
    },
    "id": "LFBXnU11yvlH",
    "outputId": "8693c23c-975f-460c-eba4-09602d5d248d"
   },
   "outputs": [
    {
     "data": {
      "text/html": [
       "\n",
       "  <div id=\"df-b367dd61-b204-4aba-b9df-5fd6241000e4\">\n",
       "    <div class=\"colab-df-container\">\n",
       "      <div>\n",
       "<style scoped>\n",
       "    .dataframe tbody tr th:only-of-type {\n",
       "        vertical-align: middle;\n",
       "    }\n",
       "\n",
       "    .dataframe tbody tr th {\n",
       "        vertical-align: top;\n",
       "    }\n",
       "\n",
       "    .dataframe thead th {\n",
       "        text-align: right;\n",
       "    }\n",
       "</style>\n",
       "<table border=\"1\" class=\"dataframe\">\n",
       "  <thead>\n",
       "    <tr style=\"text-align: right;\">\n",
       "      <th></th>\n",
       "      <th>P1_B2004</th>\n",
       "      <th>P1_B2016</th>\n",
       "      <th>P1_B3004</th>\n",
       "      <th>P1_B3005</th>\n",
       "      <th>P1_B4002</th>\n",
       "      <th>P1_B4005</th>\n",
       "      <th>P1_B400B</th>\n",
       "      <th>P1_B4022</th>\n",
       "      <th>P1_FCV01D</th>\n",
       "      <th>P1_FCV01Z</th>\n",
       "      <th>...</th>\n",
       "      <th>P4_HT_LD</th>\n",
       "      <th>P4_HT_PO</th>\n",
       "      <th>P4_HT_PS</th>\n",
       "      <th>P4_LD</th>\n",
       "      <th>P4_ST_FD</th>\n",
       "      <th>P4_ST_LD</th>\n",
       "      <th>P4_ST_PO</th>\n",
       "      <th>P4_ST_PS</th>\n",
       "      <th>P4_ST_PT01</th>\n",
       "      <th>P4_ST_TT01</th>\n",
       "    </tr>\n",
       "  </thead>\n",
       "  <tbody>\n",
       "    <tr>\n",
       "      <th>0</th>\n",
       "      <td>0.950413</td>\n",
       "      <td>0.482115</td>\n",
       "      <td>0.092349</td>\n",
       "      <td>0.924352</td>\n",
       "      <td>0.875635</td>\n",
       "      <td>0.0</td>\n",
       "      <td>0.003453</td>\n",
       "      <td>0.747782</td>\n",
       "      <td>0.0</td>\n",
       "      <td>0.000303</td>\n",
       "      <td>...</td>\n",
       "      <td>0.774283</td>\n",
       "      <td>0.695151</td>\n",
       "      <td>0.0</td>\n",
       "      <td>0.611301</td>\n",
       "      <td>0.482464</td>\n",
       "      <td>0.512735</td>\n",
       "      <td>0.510764</td>\n",
       "      <td>0.990676</td>\n",
       "      <td>0.28169</td>\n",
       "      <td>0.999920</td>\n",
       "    </tr>\n",
       "    <tr>\n",
       "      <th>1</th>\n",
       "      <td>0.950413</td>\n",
       "      <td>0.481979</td>\n",
       "      <td>0.092349</td>\n",
       "      <td>0.924352</td>\n",
       "      <td>0.875635</td>\n",
       "      <td>0.0</td>\n",
       "      <td>0.003767</td>\n",
       "      <td>0.747643</td>\n",
       "      <td>0.0</td>\n",
       "      <td>0.000303</td>\n",
       "      <td>...</td>\n",
       "      <td>0.777126</td>\n",
       "      <td>0.701872</td>\n",
       "      <td>0.0</td>\n",
       "      <td>0.622405</td>\n",
       "      <td>0.475571</td>\n",
       "      <td>0.510729</td>\n",
       "      <td>0.512880</td>\n",
       "      <td>0.990676</td>\n",
       "      <td>0.28169</td>\n",
       "      <td>0.999920</td>\n",
       "    </tr>\n",
       "    <tr>\n",
       "      <th>2</th>\n",
       "      <td>0.950413</td>\n",
       "      <td>0.482146</td>\n",
       "      <td>0.092349</td>\n",
       "      <td>0.924352</td>\n",
       "      <td>0.875635</td>\n",
       "      <td>0.0</td>\n",
       "      <td>0.002862</td>\n",
       "      <td>0.747848</td>\n",
       "      <td>0.0</td>\n",
       "      <td>0.000371</td>\n",
       "      <td>...</td>\n",
       "      <td>0.779809</td>\n",
       "      <td>0.710901</td>\n",
       "      <td>0.0</td>\n",
       "      <td>0.621954</td>\n",
       "      <td>0.500568</td>\n",
       "      <td>0.518915</td>\n",
       "      <td>0.514905</td>\n",
       "      <td>0.990676</td>\n",
       "      <td>0.28169</td>\n",
       "      <td>0.999920</td>\n",
       "    </tr>\n",
       "    <tr>\n",
       "      <th>3</th>\n",
       "      <td>0.950413</td>\n",
       "      <td>0.482878</td>\n",
       "      <td>0.092349</td>\n",
       "      <td>0.924352</td>\n",
       "      <td>0.875635</td>\n",
       "      <td>0.0</td>\n",
       "      <td>0.004637</td>\n",
       "      <td>0.748913</td>\n",
       "      <td>0.0</td>\n",
       "      <td>0.000242</td>\n",
       "      <td>...</td>\n",
       "      <td>0.782420</td>\n",
       "      <td>0.717861</td>\n",
       "      <td>0.0</td>\n",
       "      <td>0.624446</td>\n",
       "      <td>0.515840</td>\n",
       "      <td>0.517326</td>\n",
       "      <td>0.521391</td>\n",
       "      <td>0.990676</td>\n",
       "      <td>0.28169</td>\n",
       "      <td>0.999920</td>\n",
       "    </tr>\n",
       "    <tr>\n",
       "      <th>4</th>\n",
       "      <td>0.950413</td>\n",
       "      <td>0.482549</td>\n",
       "      <td>0.092349</td>\n",
       "      <td>0.924352</td>\n",
       "      <td>0.875635</td>\n",
       "      <td>0.0</td>\n",
       "      <td>0.004193</td>\n",
       "      <td>0.748428</td>\n",
       "      <td>0.0</td>\n",
       "      <td>0.000297</td>\n",
       "      <td>...</td>\n",
       "      <td>0.785652</td>\n",
       "      <td>0.723841</td>\n",
       "      <td>0.0</td>\n",
       "      <td>0.633393</td>\n",
       "      <td>0.502010</td>\n",
       "      <td>0.524698</td>\n",
       "      <td>0.522562</td>\n",
       "      <td>0.990676</td>\n",
       "      <td>0.28169</td>\n",
       "      <td>0.999920</td>\n",
       "    </tr>\n",
       "    <tr>\n",
       "      <th>...</th>\n",
       "      <td>...</td>\n",
       "      <td>...</td>\n",
       "      <td>...</td>\n",
       "      <td>...</td>\n",
       "      <td>...</td>\n",
       "      <td>...</td>\n",
       "      <td>...</td>\n",
       "      <td>...</td>\n",
       "      <td>...</td>\n",
       "      <td>...</td>\n",
       "      <td>...</td>\n",
       "      <td>...</td>\n",
       "      <td>...</td>\n",
       "      <td>...</td>\n",
       "      <td>...</td>\n",
       "      <td>...</td>\n",
       "      <td>...</td>\n",
       "      <td>...</td>\n",
       "      <td>...</td>\n",
       "      <td>...</td>\n",
       "      <td>...</td>\n",
       "    </tr>\n",
       "    <tr>\n",
       "      <th>550795</th>\n",
       "      <td>0.975207</td>\n",
       "      <td>0.704943</td>\n",
       "      <td>0.040591</td>\n",
       "      <td>1.000000</td>\n",
       "      <td>0.000000</td>\n",
       "      <td>0.0</td>\n",
       "      <td>0.005161</td>\n",
       "      <td>0.250210</td>\n",
       "      <td>0.0</td>\n",
       "      <td>0.000075</td>\n",
       "      <td>...</td>\n",
       "      <td>0.877609</td>\n",
       "      <td>0.867004</td>\n",
       "      <td>0.0</td>\n",
       "      <td>0.778027</td>\n",
       "      <td>0.480090</td>\n",
       "      <td>0.697501</td>\n",
       "      <td>0.692088</td>\n",
       "      <td>0.000000</td>\n",
       "      <td>0.38833</td>\n",
       "      <td>0.993434</td>\n",
       "    </tr>\n",
       "    <tr>\n",
       "      <th>550796</th>\n",
       "      <td>0.975207</td>\n",
       "      <td>0.706494</td>\n",
       "      <td>0.040591</td>\n",
       "      <td>1.000000</td>\n",
       "      <td>0.000000</td>\n",
       "      <td>0.0</td>\n",
       "      <td>0.005800</td>\n",
       "      <td>0.251130</td>\n",
       "      <td>0.0</td>\n",
       "      <td>0.000075</td>\n",
       "      <td>...</td>\n",
       "      <td>0.878447</td>\n",
       "      <td>0.868500</td>\n",
       "      <td>0.0</td>\n",
       "      <td>0.784467</td>\n",
       "      <td>0.479668</td>\n",
       "      <td>0.692012</td>\n",
       "      <td>0.697079</td>\n",
       "      <td>0.000000</td>\n",
       "      <td>0.38833</td>\n",
       "      <td>0.993477</td>\n",
       "    </tr>\n",
       "    <tr>\n",
       "      <th>550797</th>\n",
       "      <td>0.975207</td>\n",
       "      <td>0.707320</td>\n",
       "      <td>0.040591</td>\n",
       "      <td>1.000000</td>\n",
       "      <td>0.000000</td>\n",
       "      <td>0.0</td>\n",
       "      <td>0.006174</td>\n",
       "      <td>0.253390</td>\n",
       "      <td>0.0</td>\n",
       "      <td>0.000075</td>\n",
       "      <td>...</td>\n",
       "      <td>0.879079</td>\n",
       "      <td>0.869432</td>\n",
       "      <td>0.0</td>\n",
       "      <td>0.780943</td>\n",
       "      <td>0.483038</td>\n",
       "      <td>0.697339</td>\n",
       "      <td>0.699062</td>\n",
       "      <td>0.000000</td>\n",
       "      <td>0.38833</td>\n",
       "      <td>0.993337</td>\n",
       "    </tr>\n",
       "    <tr>\n",
       "      <th>550798</th>\n",
       "      <td>0.975207</td>\n",
       "      <td>0.709370</td>\n",
       "      <td>0.040591</td>\n",
       "      <td>1.000000</td>\n",
       "      <td>0.000000</td>\n",
       "      <td>0.0</td>\n",
       "      <td>0.005901</td>\n",
       "      <td>0.253695</td>\n",
       "      <td>0.0</td>\n",
       "      <td>0.000075</td>\n",
       "      <td>...</td>\n",
       "      <td>0.879611</td>\n",
       "      <td>0.870701</td>\n",
       "      <td>0.0</td>\n",
       "      <td>0.780168</td>\n",
       "      <td>0.492759</td>\n",
       "      <td>0.700023</td>\n",
       "      <td>0.701268</td>\n",
       "      <td>0.000000</td>\n",
       "      <td>0.38833</td>\n",
       "      <td>0.993612</td>\n",
       "    </tr>\n",
       "    <tr>\n",
       "      <th>550799</th>\n",
       "      <td>0.975207</td>\n",
       "      <td>0.709665</td>\n",
       "      <td>0.040591</td>\n",
       "      <td>1.000000</td>\n",
       "      <td>0.000000</td>\n",
       "      <td>0.0</td>\n",
       "      <td>0.006806</td>\n",
       "      <td>0.253213</td>\n",
       "      <td>0.0</td>\n",
       "      <td>0.000075</td>\n",
       "      <td>...</td>\n",
       "      <td>0.879976</td>\n",
       "      <td>0.871610</td>\n",
       "      <td>0.0</td>\n",
       "      <td>0.776044</td>\n",
       "      <td>0.478375</td>\n",
       "      <td>0.700292</td>\n",
       "      <td>0.697735</td>\n",
       "      <td>0.000000</td>\n",
       "      <td>0.38833</td>\n",
       "      <td>0.993712</td>\n",
       "    </tr>\n",
       "  </tbody>\n",
       "</table>\n",
       "<p>550800 rows × 59 columns</p>\n",
       "</div>\n",
       "      <button class=\"colab-df-convert\" onclick=\"convertToInteractive('df-b367dd61-b204-4aba-b9df-5fd6241000e4')\"\n",
       "              title=\"Convert this dataframe to an interactive table.\"\n",
       "              style=\"display:none;\">\n",
       "        \n",
       "  <svg xmlns=\"http://www.w3.org/2000/svg\" height=\"24px\"viewBox=\"0 0 24 24\"\n",
       "       width=\"24px\">\n",
       "    <path d=\"M0 0h24v24H0V0z\" fill=\"none\"/>\n",
       "    <path d=\"M18.56 5.44l.94 2.06.94-2.06 2.06-.94-2.06-.94-.94-2.06-.94 2.06-2.06.94zm-11 1L8.5 8.5l.94-2.06 2.06-.94-2.06-.94L8.5 2.5l-.94 2.06-2.06.94zm10 10l.94 2.06.94-2.06 2.06-.94-2.06-.94-.94-2.06-.94 2.06-2.06.94z\"/><path d=\"M17.41 7.96l-1.37-1.37c-.4-.4-.92-.59-1.43-.59-.52 0-1.04.2-1.43.59L10.3 9.45l-7.72 7.72c-.78.78-.78 2.05 0 2.83L4 21.41c.39.39.9.59 1.41.59.51 0 1.02-.2 1.41-.59l7.78-7.78 2.81-2.81c.8-.78.8-2.07 0-2.86zM5.41 20L4 18.59l7.72-7.72 1.47 1.35L5.41 20z\"/>\n",
       "  </svg>\n",
       "      </button>\n",
       "      \n",
       "  <style>\n",
       "    .colab-df-container {\n",
       "      display:flex;\n",
       "      flex-wrap:wrap;\n",
       "      gap: 12px;\n",
       "    }\n",
       "\n",
       "    .colab-df-convert {\n",
       "      background-color: #E8F0FE;\n",
       "      border: none;\n",
       "      border-radius: 50%;\n",
       "      cursor: pointer;\n",
       "      display: none;\n",
       "      fill: #1967D2;\n",
       "      height: 32px;\n",
       "      padding: 0 0 0 0;\n",
       "      width: 32px;\n",
       "    }\n",
       "\n",
       "    .colab-df-convert:hover {\n",
       "      background-color: #E2EBFA;\n",
       "      box-shadow: 0px 1px 2px rgba(60, 64, 67, 0.3), 0px 1px 3px 1px rgba(60, 64, 67, 0.15);\n",
       "      fill: #174EA6;\n",
       "    }\n",
       "\n",
       "    [theme=dark] .colab-df-convert {\n",
       "      background-color: #3B4455;\n",
       "      fill: #D2E3FC;\n",
       "    }\n",
       "\n",
       "    [theme=dark] .colab-df-convert:hover {\n",
       "      background-color: #434B5C;\n",
       "      box-shadow: 0px 1px 3px 1px rgba(0, 0, 0, 0.15);\n",
       "      filter: drop-shadow(0px 1px 2px rgba(0, 0, 0, 0.3));\n",
       "      fill: #FFFFFF;\n",
       "    }\n",
       "  </style>\n",
       "\n",
       "      <script>\n",
       "        const buttonEl =\n",
       "          document.querySelector('#df-b367dd61-b204-4aba-b9df-5fd6241000e4 button.colab-df-convert');\n",
       "        buttonEl.style.display =\n",
       "          google.colab.kernel.accessAllowed ? 'block' : 'none';\n",
       "\n",
       "        async function convertToInteractive(key) {\n",
       "          const element = document.querySelector('#df-b367dd61-b204-4aba-b9df-5fd6241000e4');\n",
       "          const dataTable =\n",
       "            await google.colab.kernel.invokeFunction('convertToInteractive',\n",
       "                                                     [key], {});\n",
       "          if (!dataTable) return;\n",
       "\n",
       "          const docLinkHtml = 'Like what you see? Visit the ' +\n",
       "            '<a target=\"_blank\" href=https://colab.research.google.com/notebooks/data_table.ipynb>data table notebook</a>'\n",
       "            + ' to learn more about interactive tables.';\n",
       "          element.innerHTML = '';\n",
       "          dataTable['output_type'] = 'display_data';\n",
       "          await google.colab.output.renderOutput(dataTable, element);\n",
       "          const docLink = document.createElement('div');\n",
       "          docLink.innerHTML = docLinkHtml;\n",
       "          element.appendChild(docLink);\n",
       "        }\n",
       "      </script>\n",
       "    </div>\n",
       "  </div>\n",
       "  "
      ],
      "text/plain": [
       "        P1_B2004  P1_B2016  P1_B3004  P1_B3005  P1_B4002  P1_B4005  P1_B400B  \\\n",
       "0       0.950413  0.482115  0.092349  0.924352  0.875635       0.0  0.003453   \n",
       "1       0.950413  0.481979  0.092349  0.924352  0.875635       0.0  0.003767   \n",
       "2       0.950413  0.482146  0.092349  0.924352  0.875635       0.0  0.002862   \n",
       "3       0.950413  0.482878  0.092349  0.924352  0.875635       0.0  0.004637   \n",
       "4       0.950413  0.482549  0.092349  0.924352  0.875635       0.0  0.004193   \n",
       "...          ...       ...       ...       ...       ...       ...       ...   \n",
       "550795  0.975207  0.704943  0.040591  1.000000  0.000000       0.0  0.005161   \n",
       "550796  0.975207  0.706494  0.040591  1.000000  0.000000       0.0  0.005800   \n",
       "550797  0.975207  0.707320  0.040591  1.000000  0.000000       0.0  0.006174   \n",
       "550798  0.975207  0.709370  0.040591  1.000000  0.000000       0.0  0.005901   \n",
       "550799  0.975207  0.709665  0.040591  1.000000  0.000000       0.0  0.006806   \n",
       "\n",
       "        P1_B4022  P1_FCV01D  P1_FCV01Z  ...  P4_HT_LD  P4_HT_PO  P4_HT_PS  \\\n",
       "0       0.747782        0.0   0.000303  ...  0.774283  0.695151       0.0   \n",
       "1       0.747643        0.0   0.000303  ...  0.777126  0.701872       0.0   \n",
       "2       0.747848        0.0   0.000371  ...  0.779809  0.710901       0.0   \n",
       "3       0.748913        0.0   0.000242  ...  0.782420  0.717861       0.0   \n",
       "4       0.748428        0.0   0.000297  ...  0.785652  0.723841       0.0   \n",
       "...          ...        ...        ...  ...       ...       ...       ...   \n",
       "550795  0.250210        0.0   0.000075  ...  0.877609  0.867004       0.0   \n",
       "550796  0.251130        0.0   0.000075  ...  0.878447  0.868500       0.0   \n",
       "550797  0.253390        0.0   0.000075  ...  0.879079  0.869432       0.0   \n",
       "550798  0.253695        0.0   0.000075  ...  0.879611  0.870701       0.0   \n",
       "550799  0.253213        0.0   0.000075  ...  0.879976  0.871610       0.0   \n",
       "\n",
       "           P4_LD  P4_ST_FD  P4_ST_LD  P4_ST_PO  P4_ST_PS  P4_ST_PT01  \\\n",
       "0       0.611301  0.482464  0.512735  0.510764  0.990676     0.28169   \n",
       "1       0.622405  0.475571  0.510729  0.512880  0.990676     0.28169   \n",
       "2       0.621954  0.500568  0.518915  0.514905  0.990676     0.28169   \n",
       "3       0.624446  0.515840  0.517326  0.521391  0.990676     0.28169   \n",
       "4       0.633393  0.502010  0.524698  0.522562  0.990676     0.28169   \n",
       "...          ...       ...       ...       ...       ...         ...   \n",
       "550795  0.778027  0.480090  0.697501  0.692088  0.000000     0.38833   \n",
       "550796  0.784467  0.479668  0.692012  0.697079  0.000000     0.38833   \n",
       "550797  0.780943  0.483038  0.697339  0.699062  0.000000     0.38833   \n",
       "550798  0.780168  0.492759  0.700023  0.701268  0.000000     0.38833   \n",
       "550799  0.776044  0.478375  0.700292  0.697735  0.000000     0.38833   \n",
       "\n",
       "        P4_ST_TT01  \n",
       "0         0.999920  \n",
       "1         0.999920  \n",
       "2         0.999920  \n",
       "3         0.999920  \n",
       "4         0.999920  \n",
       "...            ...  \n",
       "550795    0.993434  \n",
       "550796    0.993477  \n",
       "550797    0.993337  \n",
       "550798    0.993612  \n",
       "550799    0.993712  \n",
       "\n",
       "[550800 rows x 59 columns]"
      ]
     },
     "execution_count": 11,
     "metadata": {},
     "output_type": "execute_result"
    }
   ],
   "source": [
    "TRAIN_DF = normalize(TRAIN_DF_RAW[VALID_COLUMNS_IN_TRAIN_DATASET]).ewm(alpha=0.9).mean()\n",
    "TRAIN_DF"
   ]
  },
  {
   "cell_type": "code",
   "execution_count": 12,
   "metadata": {
    "id": "1aSMj71syxBO"
   },
   "outputs": [],
   "source": [
    "def boundary_check(df):\n",
    "    x = np.array(df, dtype=np.float32)\n",
    "    return np.any(x > 1.0), np.any(x < 0), np.any(np.isnan(x))"
   ]
  },
  {
   "cell_type": "code",
   "execution_count": 13,
   "metadata": {
    "colab": {
     "base_uri": "https://localhost:8080/"
    },
    "id": "K9qax8Mxyyro",
    "outputId": "abf311ee-8c80-468d-a060-eea9dcc02863"
   },
   "outputs": [
    {
     "data": {
      "text/plain": [
       "(False, False, False)"
      ]
     },
     "execution_count": 13,
     "metadata": {},
     "output_type": "execute_result"
    }
   ],
   "source": [
    "boundary_check(TRAIN_DF)"
   ]
  },
  {
   "cell_type": "code",
   "execution_count": 14,
   "metadata": {
    "id": "sN8Lrg4Hy39b"
   },
   "outputs": [],
   "source": [
    "WINDOW_SIZE = 10\n",
    "WINDOW_GIVEN = WINDOW_SIZE-1\n",
    "\n",
    "\n",
    "class HaiDataset(Dataset):\n",
    "    def __init__(self, timestamps, df, stride=1, attacks=None):\n",
    "        self.ts = np.array(timestamps)\n",
    "        self.tag_values = np.array(df, dtype=np.float32)\n",
    "        self.valid_idxs = []\n",
    "        for L in trange(len(self.ts) - WINDOW_SIZE + 1):\n",
    "            R = L + WINDOW_SIZE - 1\n",
    "            if dateutil.parser.parse(self.ts[R]) - dateutil.parser.parse(\n",
    "                self.ts[L]\n",
    "            ) == timedelta(seconds=WINDOW_SIZE - 1):\n",
    "                self.valid_idxs.append(L)\n",
    "        self.valid_idxs = np.array(self.valid_idxs, dtype=np.int32)[::stride]\n",
    "        self.n_idxs = len(self.valid_idxs)\n",
    "        print(f\"# of valid windows: {self.n_idxs}\")\n",
    "        if attacks is not None:\n",
    "            self.attacks = np.array(attacks, dtype=np.float32)\n",
    "            self.with_attack = True\n",
    "        else:\n",
    "            self.with_attack = False\n",
    "\n",
    "    def __len__(self):\n",
    "        return self.n_idxs\n",
    "\n",
    "    def __getitem__(self, idx):\n",
    "        i = self.valid_idxs[idx]\n",
    "        last = i + WINDOW_SIZE - 1\n",
    "        item = {\"attack\": self.attacks[last]} if self.with_attack else {}\n",
    "        item[\"ts\"] = self.ts[i + WINDOW_SIZE - 1]\n",
    "        item[\"given\"] = torch.from_numpy(self.tag_values[i : i + WINDOW_GIVEN])\n",
    "        item[\"answer\"] = torch.from_numpy(self.tag_values[last])\n",
    "        return item"
   ]
  },
  {
   "cell_type": "code",
   "execution_count": 15,
   "metadata": {
    "colab": {
     "base_uri": "https://localhost:8080/",
     "height": 1000,
     "referenced_widgets": [
      "bd5490a41d214e54971050368796110b",
      "1ea6fca5affb4177997dd46e195bd915",
      "39c2987e4b53476083353193730d57bb",
      "f7f83cab0d814e229efcc2a790bc9cb3",
      "dd65f74ed9ed4598b6fa95f63b6051de",
      "2d52577d53d44ae99ec5e8c4a2e1c3c5",
      "3d860899755a4e6388c1e7690f59da10",
      "b03bde54734942c8a3c2a7b1e7bf3a42",
      "d5673424288340979c0852b6b5412c27",
      "1e3c0a528a854994a55f0f9219230a1a",
      "f536611a14584288a39384350b1ae234"
     ]
    },
    "id": "jWX8UdFUy62O",
    "outputId": "9a7a7bbc-31c0-4054-b61c-c12079418984"
   },
   "outputs": [
    {
     "data": {
      "application/vnd.jupyter.widget-view+json": {
       "model_id": "bd5490a41d214e54971050368796110b",
       "version_major": 2,
       "version_minor": 0
      },
      "text/plain": [
       "  0%|          | 0/550791 [00:00<?, ?it/s]"
      ]
     },
     "metadata": {},
     "output_type": "display_data"
    },
    {
     "name": "stdout",
     "output_type": "stream",
     "text": [
      "# of valid windows: 550782\n"
     ]
    },
    {
     "data": {
      "text/plain": [
       "{'ts': '2019-09-11 20:00:09',\n",
       " 'given': tensor([[9.5041e-01, 4.8211e-01, 9.2349e-02, 9.2435e-01, 8.7563e-01, 0.0000e+00,\n",
       "          3.4532e-03, 7.4778e-01, 0.0000e+00, 3.0276e-04, 1.0000e+00, 9.8877e-01,\n",
       "          4.7490e-01, 5.1176e-01, 4.1326e-01, 6.0996e-01, 7.4185e-04, 3.7986e-03,\n",
       "          8.6160e-01, 8.6856e-01, 5.7556e-01, 5.9470e-01, 2.6510e-01, 1.6595e-01,\n",
       "          1.7335e-01, 0.0000e+00, 1.1758e-01, 2.7688e-01, 1.6001e-02, 5.9639e-01,\n",
       "          4.0206e-01, 4.1554e-01, 0.0000e+00, 0.0000e+00, 0.0000e+00, 1.0000e+00,\n",
       "          7.5000e-01, 0.0000e+00, 9.1135e-01, 8.4772e-01, 6.7978e-01, 4.1184e-01,\n",
       "          4.3498e-01, 8.4418e-02, 7.0661e-01, 0.0000e+00, 0.0000e+00, 3.0888e-01,\n",
       "          5.1020e-01, 7.7428e-01, 6.9515e-01, 0.0000e+00, 6.1130e-01, 4.8246e-01,\n",
       "          5.1274e-01, 5.1076e-01, 9.9068e-01, 2.8169e-01, 9.9992e-01],\n",
       "         [9.5041e-01, 4.8198e-01, 9.2349e-02, 9.2435e-01, 8.7563e-01, 0.0000e+00,\n",
       "          3.7672e-03, 7.4764e-01, 0.0000e+00, 3.0276e-04, 1.0000e+00, 9.8814e-01,\n",
       "          4.6658e-01, 5.1176e-01, 4.0651e-01, 5.9525e-01, 1.2476e-03, 2.8568e-03,\n",
       "          8.7577e-01, 8.7183e-01, 5.7484e-01, 5.9470e-01, 2.6510e-01, 1.6594e-01,\n",
       "          1.7335e-01, 0.0000e+00, 1.1758e-01, 2.7615e-01, 1.8148e-02, 6.0185e-01,\n",
       "          4.0206e-01, 5.7525e-01, 0.0000e+00, 0.0000e+00, 0.0000e+00, 1.0000e+00,\n",
       "          7.5000e-01, 0.0000e+00, 3.9831e-01, 5.6268e-01, 6.7156e-01, 7.5948e-01,\n",
       "          7.5866e-01, 8.0473e-02, 7.1370e-01, 0.0000e+00, 0.0000e+00, 3.0888e-01,\n",
       "          5.1020e-01, 7.7713e-01, 7.0187e-01, 0.0000e+00, 6.2240e-01, 4.7557e-01,\n",
       "          5.1073e-01, 5.1288e-01, 9.9068e-01, 2.8169e-01, 9.9992e-01],\n",
       "         [9.5041e-01, 4.8215e-01, 9.2349e-02, 9.2435e-01, 8.7563e-01, 0.0000e+00,\n",
       "          2.8622e-03, 7.4785e-01, 0.0000e+00, 3.7073e-04, 1.0000e+00, 9.8808e-01,\n",
       "          4.6160e-01, 5.1176e-01, 4.1689e-01, 5.8319e-01, 1.1261e-03, 4.6385e-03,\n",
       "          8.8232e-01, 8.8510e-01, 5.7180e-01, 5.9470e-01, 2.6583e-01, 1.6593e-01,\n",
       "          1.7335e-01, 0.0000e+00, 1.1758e-01, 2.7609e-01, 1.8026e-02, 5.9693e-01,\n",
       "          4.0206e-01, 3.7963e-01, 0.0000e+00, 0.0000e+00, 0.0000e+00, 1.0000e+00,\n",
       "          7.5000e-01, 0.0000e+00, 7.9733e-01, 6.4046e-01, 5.5191e-01, 3.0650e-01,\n",
       "          4.9200e-01, 7.6663e-02, 7.2064e-01, 0.0000e+00, 0.0000e+00, 3.0888e-01,\n",
       "          5.1020e-01, 7.7981e-01, 7.1090e-01, 0.0000e+00, 6.2195e-01, 5.0057e-01,\n",
       "          5.1892e-01, 5.1491e-01, 9.9068e-01, 2.8169e-01, 9.9992e-01],\n",
       "         [9.5041e-01, 4.8288e-01, 9.2349e-02, 9.2435e-01, 8.7563e-01, 0.0000e+00,\n",
       "          4.6374e-03, 7.4891e-01, 0.0000e+00, 2.4165e-04, 1.0000e+00, 9.8815e-01,\n",
       "          4.4337e-01, 5.1176e-01, 4.1554e-01, 5.9962e-01, 9.4714e-04, 4.1933e-03,\n",
       "          9.1280e-01, 8.9128e-01, 5.6973e-01, 5.9470e-01, 2.6444e-01, 1.6588e-01,\n",
       "          1.7335e-01, 0.0000e+00, 1.4395e-01, 2.7608e-01, 1.9509e-02, 5.9645e-01,\n",
       "          4.0439e-01, 4.3628e-01, 0.0000e+00, 0.0000e+00, 0.0000e+00, 1.0000e+00,\n",
       "          7.5000e-01, 0.0000e+00, 5.5784e-01, 7.7659e-01, 7.6932e-01, 7.2232e-01,\n",
       "          6.3095e-01, 7.3031e-02, 7.2727e-01, 0.0000e+00, 0.0000e+00, 3.0888e-01,\n",
       "          5.1020e-01, 7.8242e-01, 7.1786e-01, 0.0000e+00, 6.2445e-01, 5.1584e-01,\n",
       "          5.1733e-01, 5.2139e-01, 9.9068e-01, 2.8169e-01, 9.9992e-01],\n",
       "         [9.5041e-01, 4.8255e-01, 9.2349e-02, 9.2435e-01, 8.7563e-01, 0.0000e+00,\n",
       "          4.1932e-03, 7.4843e-01, 0.0000e+00, 2.9665e-04, 1.0000e+00, 9.8815e-01,\n",
       "          4.5725e-01, 5.1176e-01, 4.1063e-01, 5.9743e-01, 1.1797e-03, 3.5272e-03,\n",
       "          8.8075e-01, 9.1945e-01, 5.6352e-01, 5.9470e-01, 2.6503e-01, 1.6590e-01,\n",
       "          1.7335e-01, 0.0000e+00, 1.2022e-01, 2.7569e-01, 1.9972e-02, 6.0180e-01,\n",
       "          3.9998e-01, 4.1761e-01, 0.0000e+00, 0.0000e+00, 0.0000e+00, 1.0000e+00,\n",
       "          7.5000e-01, 0.0000e+00, 5.6577e-01, 4.5293e-01, 5.1252e-01, 4.4990e-01,\n",
       "          6.5066e-01, 6.9347e-02, 7.3374e-01, 0.0000e+00, 0.0000e+00, 3.0888e-01,\n",
       "          5.1020e-01, 7.8565e-01, 7.2384e-01, 0.0000e+00, 6.3339e-01, 5.0201e-01,\n",
       "          5.2470e-01, 5.2256e-01, 9.9068e-01, 2.8169e-01, 9.9992e-01],\n",
       "         [9.5041e-01, 4.8372e-01, 9.2349e-02, 9.2435e-01, 8.7563e-01, 0.0000e+00,\n",
       "          3.5272e-03, 7.5017e-01, 0.0000e+00, 3.0215e-04, 1.0000e+00, 9.8822e-01,\n",
       "          4.6008e-01, 5.1176e-01, 4.2303e-01, 5.8955e-01, 1.2864e-03, 4.3930e-03,\n",
       "          8.7229e-01, 8.8985e-01, 5.6967e-01, 5.9470e-01, 2.6400e-01, 1.6583e-01,\n",
       "          1.7335e-01, 0.0000e+00, 1.1784e-01, 2.7677e-01, 1.8523e-02, 5.9693e-01,\n",
       "          4.0185e-01, 4.1575e-01, 0.0000e+00, 0.0000e+00, 0.0000e+00, 1.0000e+00,\n",
       "          7.3125e-01, 0.0000e+00, 7.6008e-01, 8.4646e-01, 7.3524e-01, 5.5644e-01,\n",
       "          5.1651e-01, 6.6049e-02, 7.3966e-01, 0.0000e+00, 0.0000e+00, 3.0888e-01,\n",
       "          5.0686e-01, 7.8817e-01, 7.3031e-01, 0.0000e+00, 6.3266e-01, 5.0660e-01,\n",
       "          5.3164e-01, 5.2617e-01, 9.9068e-01, 2.8169e-01, 9.9992e-01],\n",
       "         [9.5041e-01, 4.8456e-01, 9.2349e-02, 9.2435e-01, 8.7563e-01, 0.0000e+00,\n",
       "          4.3930e-03, 7.5141e-01, 0.0000e+00, 3.0270e-04, 1.0000e+00, 9.8802e-01,\n",
       "          4.6962e-01, 4.8106e-01, 4.0373e-01, 6.0946e-01, 1.7143e-03, 4.7904e-03,\n",
       "          8.5214e-01, 8.8203e-01, 5.7224e-01, 5.9470e-01, 2.6426e-01, 1.6578e-01,\n",
       "          1.7335e-01, 0.0000e+00, 1.1761e-01, 2.7615e-01, 1.8654e-02, 5.9101e-01,\n",
       "          3.9973e-01, 5.7367e-01, 0.0000e+00, 0.0000e+00, 0.0000e+00, 1.0000e+00,\n",
       "          7.2938e-01, 0.0000e+00, 3.7253e-01, 4.5708e-01, 5.9224e-01, 6.8028e-01,\n",
       "          7.7027e-01, 6.2855e-02, 7.4512e-01, 0.0000e+00, 0.0000e+00, 3.0888e-01,\n",
       "          5.0653e-01, 7.9068e-01, 7.3546e-01, 0.0000e+00, 6.3862e-01, 4.8488e-01,\n",
       "          5.3341e-01, 5.2740e-01, 9.9068e-01, 2.8169e-01, 9.9992e-01],\n",
       "         [9.5041e-01, 4.8607e-01, 9.2349e-02, 9.2435e-01, 8.7563e-01, 0.0000e+00,\n",
       "          4.7904e-03, 7.5364e-01, 0.0000e+00, 3.0276e-04, 1.0000e+00, 9.8891e-01,\n",
       "          4.6572e-01, 4.5257e-01, 4.1661e-01, 5.7849e-01, 1.0060e-03, 6.3840e-03,\n",
       "          8.5890e-01, 8.6342e-01, 5.7679e-01, 5.9470e-01, 2.6429e-01, 1.6591e-01,\n",
       "          1.7335e-01, 0.0000e+00, 1.1758e-01, 2.7570e-01, 1.8982e-02, 5.9585e-01,\n",
       "          4.0415e-01, 6.1683e-01, 0.0000e+00, 0.0000e+00, 0.0000e+00, 1.0000e+00,\n",
       "          7.2919e-01, 0.0000e+00, 8.6878e-01, 7.5273e-01, 6.1972e-01, 3.5007e-01,\n",
       "          4.5381e-01, 5.9736e-02, 7.5074e-01, 0.0000e+00, 0.0000e+00, 3.0888e-01,\n",
       "          5.0650e-01, 7.9297e-01, 7.4263e-01, 0.0000e+00, 6.3789e-01, 4.8527e-01,\n",
       "          5.4046e-01, 5.2805e-01, 9.9068e-01, 2.8169e-01, 9.9992e-01],\n",
       "         [9.5041e-01, 4.8672e-01, 9.2349e-02, 9.2435e-01, 8.7563e-01, 0.0000e+00,\n",
       "          6.3840e-03, 7.5454e-01, 0.0000e+00, 3.0276e-04, 1.0000e+00, 9.8893e-01,\n",
       "          4.7702e-01, 4.4814e-01, 4.1264e-01, 5.9915e-01, 1.1021e-03, 3.7463e-03,\n",
       "          8.3677e-01, 8.6966e-01, 5.7573e-01, 5.9470e-01, 2.6356e-01, 1.6612e-01,\n",
       "          1.7335e-01, 0.0000e+00, 1.1758e-01, 2.7566e-01, 1.8109e-02, 5.9634e-01,\n",
       "          4.0227e-01, 6.9716e-01, 0.0000e+00, 0.0000e+00, 0.0000e+00, 1.0000e+00,\n",
       "          7.2917e-01, 0.0000e+00, 4.4652e-01, 6.5285e-01, 7.2689e-01, 7.6721e-01,\n",
       "          7.2433e-01, 5.6820e-02, 7.5565e-01, 0.0000e+00, 0.0000e+00, 3.0802e-01,\n",
       "          5.0649e-01, 7.9515e-01, 7.4726e-01, 0.0000e+00, 6.4597e-01, 4.7848e-01,\n",
       "          5.3794e-01, 5.3161e-01, 9.9068e-01, 2.8169e-01, 9.9992e-01]]),\n",
       " 'answer': tensor([9.5041e-01, 4.8700e-01, 9.2349e-02, 9.2435e-01, 8.7563e-01, 0.0000e+00,\n",
       "         3.7463e-03, 7.5500e-01, 0.0000e+00, 3.0276e-04, 1.0000e+00, 9.8837e-01,\n",
       "         4.7590e-01, 4.4823e-01, 4.1272e-01, 5.9279e-01, 1.0282e-03, 4.1041e-03,\n",
       "         8.3982e-01, 8.4922e-01, 5.8173e-01, 5.9470e-01, 2.6349e-01, 1.6618e-01,\n",
       "         1.7335e-01, 0.0000e+00, 1.1758e-01, 2.7676e-01, 1.9242e-02, 5.9639e-01,\n",
       "         4.0208e-01, 6.0181e-01, 0.0000e+00, 0.0000e+00, 0.0000e+00, 1.0000e+00,\n",
       "         7.4792e-01, 0.0000e+00, 7.2375e-01, 5.6914e-01, 5.2316e-01, 3.2587e-01,\n",
       "         5.4200e-01, 5.4054e-02, 7.6048e-01, 0.0000e+00, 0.0000e+00, 3.0794e-01,\n",
       "         5.0649e-01, 7.9717e-01, 7.5222e-01, 0.0000e+00, 6.5052e-01, 4.5391e-01,\n",
       "         5.4472e-01, 5.3240e-01, 9.9068e-01, 2.8169e-01, 9.9992e-01])}"
      ]
     },
     "execution_count": 15,
     "metadata": {},
     "output_type": "execute_result"
    }
   ],
   "source": [
    "HAI_DATASET_TRAIN = HaiDataset(TRAIN_DF_RAW[TIMESTAMP_FIELD], TRAIN_DF, stride=1)\n",
    "HAI_DATASET_TRAIN[0]"
   ]
  },
  {
   "cell_type": "code",
   "execution_count": 16,
   "metadata": {
    "id": "qAmf0ufF-ImA"
   },
   "outputs": [],
   "source": [
    "import torch.nn.functional as F"
   ]
  },
  {
   "cell_type": "code",
   "execution_count": 17,
   "metadata": {
    "id": "FgMVCbjby8q1"
   },
   "outputs": [],
   "source": [
    "N_HIDDENS = 100\n",
    "N_LAYERS = 3\n",
    "BATCH_SIZE = 256\n",
    "\n",
    "\n",
    "class StackedGRU(torch.nn.Module):\n",
    "    def __init__(self, n_tags):\n",
    "        super().__init__()\n",
    "        self.rnn = torch.nn.GRU(\n",
    "            input_size=n_tags,\n",
    "            hidden_size=N_HIDDENS,\n",
    "            num_layers=N_LAYERS,\n",
    "            bidirectional=True,\n",
    "            dropout=0,\n",
    "        )\n",
    "        self.fc = torch.nn.Linear(N_HIDDENS * 2, n_tags)\n",
    "\n",
    "    def forward(self, x):\n",
    "        x = x.transpose(0, 1)  # (batch, seq, params) -> (seq, batch, params)\n",
    "        self.rnn.flatten_parameters()\n",
    "        outs, _ = self.rnn(x)\n",
    "        out = self.fc(outs[-1])\n",
    "        return x[0] + out"
   ]
  },
  {
   "cell_type": "code",
   "execution_count": 18,
   "metadata": {
    "colab": {
     "base_uri": "https://localhost:8080/"
    },
    "id": "3gvk-LiXy-nJ",
    "outputId": "62d1f058-e9dd-491b-adeb-76a31b53cc36"
   },
   "outputs": [
    {
     "data": {
      "text/plain": [
       "StackedGRU(\n",
       "  (rnn): GRU(59, 100, num_layers=3, bidirectional=True)\n",
       "  (fc): Linear(in_features=200, out_features=59, bias=True)\n",
       ")"
      ]
     },
     "execution_count": 18,
     "metadata": {},
     "output_type": "execute_result"
    }
   ],
   "source": [
    "MODEL = StackedGRU(n_tags=TRAIN_DF.shape[1])\n",
    "MODEL.cuda()"
   ]
  },
  {
   "cell_type": "code",
   "execution_count": 19,
   "metadata": {
    "id": "3fhuGC9LzAOr"
   },
   "outputs": [],
   "source": [
    "def train(dataset, model, batch_size, n_epochs):\n",
    "    dataloader = DataLoader(dataset, batch_size=batch_size, shuffle=True)\n",
    "    optimizer = torch.optim.AdamW(model.parameters())\n",
    "    loss_fn = torch.nn.MSELoss()\n",
    "    epochs = trange(n_epochs, desc=\"training\")\n",
    "    best = {\"loss\": sys.float_info.max}\n",
    "    loss_history = []\n",
    "    for e in epochs:\n",
    "        epoch_loss = 0\n",
    "        for batch in dataloader:\n",
    "            optimizer.zero_grad()\n",
    "            given = batch[\"given\"].cuda()\n",
    "            guess = model(given)\n",
    "            answer = batch[\"answer\"].cuda()\n",
    "            loss = loss_fn(answer, guess)\n",
    "            loss.backward()\n",
    "            epoch_loss += loss.item()\n",
    "            optimizer.step()\n",
    "        loss_history.append(epoch_loss)\n",
    "        epochs.set_postfix_str(f\"loss: {epoch_loss:.6f}\")\n",
    "        if epoch_loss < best[\"loss\"]:\n",
    "            best[\"state\"] = model.state_dict()\n",
    "            best[\"loss\"] = epoch_loss\n",
    "            best[\"epoch\"] = e + 1\n",
    "        epochs.set_postfix_str(f\"loss: {epoch_loss:.6f}\")\n",
    "    return best, loss_history"
   ]
  },
  {
   "cell_type": "code",
   "execution_count": 20,
   "metadata": {
    "colab": {
     "base_uri": "https://localhost:8080/",
     "height": 49,
     "referenced_widgets": [
      "7f2903eacc174ce3a4a904467051925f",
      "19e34a7dfa2a4dfc8aff702ab2774418",
      "52ef8d3454b34079baff3871807cd8fb",
      "2dd72abdcfe648a98fc0986adfc39160",
      "22333938f0f4495db7bd80a8c8af6869",
      "558b1241c82c4a0d9b2743c1f7ccbd85",
      "d09e52d4f3044403bb626c0234681132",
      "5128e49439fa4639b325548f363be20c",
      "6e37a2bcf1c6442f8ba166af87d23fef",
      "cbd7392b1fb94faa93b861e1ebee1cab",
      "03f3b029abdc4f3faf7ae1f210dea12a"
     ]
    },
    "id": "iaf4HgOczB-_",
    "outputId": "8f904e2f-df49-4ad1-927b-981bf43bc1db"
   },
   "outputs": [
    {
     "data": {
      "application/vnd.jupyter.widget-view+json": {
       "model_id": "7f2903eacc174ce3a4a904467051925f",
       "version_major": 2,
       "version_minor": 0
      },
      "text/plain": [
       "training:   0%|          | 0/32 [00:00<?, ?it/s]"
      ]
     },
     "metadata": {},
     "output_type": "display_data"
    }
   ],
   "source": [
    "MODEL.train()\n",
    "BEST_MODEL, LOSS_HISTORY = train(HAI_DATASET_TRAIN, MODEL, BATCH_SIZE, 32)"
   ]
  },
  {
   "cell_type": "code",
   "execution_count": 21,
   "metadata": {
    "colab": {
     "base_uri": "https://localhost:8080/"
    },
    "id": "CtkIpJIAzDe7",
    "outputId": "849d9e2d-eced-4a84-a999-6636ee780f84"
   },
   "outputs": [
    {
     "data": {
      "text/plain": [
       "(0.6815827093669213, 32)"
      ]
     },
     "execution_count": 21,
     "metadata": {},
     "output_type": "execute_result"
    }
   ],
   "source": [
    "BEST_MODEL[\"loss\"], BEST_MODEL[\"epoch\"]"
   ]
  },
  {
   "cell_type": "code",
   "execution_count": 22,
   "metadata": {
    "id": "lrCk2wMkzF2_"
   },
   "outputs": [],
   "source": [
    "with open(\"model.pt\", \"wb\") as f:\n",
    "    torch.save(\n",
    "        {\n",
    "            \"state\": BEST_MODEL[\"state\"],\n",
    "            \"best_epoch\": BEST_MODEL[\"epoch\"],\n",
    "            \"loss_history\": LOSS_HISTORY,\n",
    "        },\n",
    "        f,\n",
    "    )"
   ]
  },
  {
   "cell_type": "code",
   "execution_count": 23,
   "metadata": {
    "colab": {
     "base_uri": "https://localhost:8080/"
    },
    "id": "HpW21e4rzII4",
    "outputId": "572ecdb6-1ae0-4b77-e84d-7afa2bf597a3"
   },
   "outputs": [
    {
     "data": {
      "text/plain": [
       "<All keys matched successfully>"
      ]
     },
     "execution_count": 23,
     "metadata": {},
     "output_type": "execute_result"
    }
   ],
   "source": [
    "with open(\"model.pt\", \"rb\") as f:\n",
    "    SAVED_MODEL = torch.load(f)\n",
    "\n",
    "MODEL.load_state_dict(SAVED_MODEL[\"state\"])"
   ]
  },
  {
   "cell_type": "code",
   "execution_count": 24,
   "metadata": {
    "colab": {
     "base_uri": "https://localhost:8080/",
     "height": 295
    },
    "id": "CGBEIrkqzJwC",
    "outputId": "7e2c43c8-57b8-49d3-8464-389d071915dd"
   },
   "outputs": [
    {
     "data": {
      "image/png": "[encoded data removed]",
      "text/plain": [
       "<Figure size 1152x288 with 1 Axes>"
      ]
     },
     "metadata": {
      "needs_background": "light"
     },
     "output_type": "display_data"
    }
   ],
   "source": [
    "plt.figure(figsize=(16, 4))\n",
    "plt.title(\"Training Loss Graph\")\n",
    "plt.xlabel(\"epochs\")\n",
    "plt.ylabel(\"loss\")\n",
    "plt.yscale(\"log\")\n",
    "plt.plot(SAVED_MODEL[\"loss_history\"])\n",
    "plt.show()"
   ]
  },
  {
   "cell_type": "code",
   "execution_count": 25,
   "metadata": {
    "id": "g_WzRML7zLNa"
   },
   "outputs": [],
   "source": [
    "test_data1 = pd.read_csv(\"/content/drive/MyDrive/HAI/test1.csv\", sep=\";\", engine=\"python\")\n",
    "test_data2 = pd.read_csv(\"/content/drive/MyDrive/HAI/test2.csv\", sep=\";\", engine=\"python\")"
   ]
  },
  {
   "cell_type": "code",
   "execution_count": 26,
   "metadata": {
    "id": "yzDc7k30zNd2"
   },
   "outputs": [],
   "source": [
    "TEST_DF_RAW = pd.concat([test_data1, test_data2], axis=0).reset_index(drop=True)"
   ]
  },
  {
   "cell_type": "code",
   "execution_count": 27,
   "metadata": {
    "colab": {
     "base_uri": "https://localhost:8080/",
     "height": 661
    },
    "id": "0VFKsHjjzO0W",
    "outputId": "034060cc-1050-4eba-8c20-33b6aa803d77"
   },
   "outputs": [
    {
     "data": {
      "text/html": [
       "\n",
       "  <div id=\"df-0a02aa22-d793-4f53-a714-e9e6521f0508\">\n",
       "    <div class=\"colab-df-container\">\n",
       "      <div>\n",
       "<style scoped>\n",
       "    .dataframe tbody tr th:only-of-type {\n",
       "        vertical-align: middle;\n",
       "    }\n",
       "\n",
       "    .dataframe tbody tr th {\n",
       "        vertical-align: top;\n",
       "    }\n",
       "\n",
       "    .dataframe thead th {\n",
       "        text-align: right;\n",
       "    }\n",
       "</style>\n",
       "<table border=\"1\" class=\"dataframe\">\n",
       "  <thead>\n",
       "    <tr style=\"text-align: right;\">\n",
       "      <th></th>\n",
       "      <th>P1_B2004</th>\n",
       "      <th>P1_B2016</th>\n",
       "      <th>P1_B3004</th>\n",
       "      <th>P1_B3005</th>\n",
       "      <th>P1_B4002</th>\n",
       "      <th>P1_B4005</th>\n",
       "      <th>P1_B400B</th>\n",
       "      <th>P1_B4022</th>\n",
       "      <th>P1_FCV01D</th>\n",
       "      <th>P1_FCV01Z</th>\n",
       "      <th>...</th>\n",
       "      <th>P4_HT_LD</th>\n",
       "      <th>P4_HT_PO</th>\n",
       "      <th>P4_HT_PS</th>\n",
       "      <th>P4_LD</th>\n",
       "      <th>P4_ST_FD</th>\n",
       "      <th>P4_ST_LD</th>\n",
       "      <th>P4_ST_PO</th>\n",
       "      <th>P4_ST_PS</th>\n",
       "      <th>P4_ST_PT01</th>\n",
       "      <th>P4_ST_TT01</th>\n",
       "    </tr>\n",
       "  </thead>\n",
       "  <tbody>\n",
       "    <tr>\n",
       "      <th>0</th>\n",
       "      <td>0.949036</td>\n",
       "      <td>0.676348</td>\n",
       "      <td>0.929214</td>\n",
       "      <td>0.846920</td>\n",
       "      <td>0.875635</td>\n",
       "      <td>0.000000e+00</td>\n",
       "      <td>0.032806</td>\n",
       "      <td>0.784467</td>\n",
       "      <td>9.252600e-02</td>\n",
       "      <td>0.094592</td>\n",
       "      <td>...</td>\n",
       "      <td>8.437011e-01</td>\n",
       "      <td>0.808436</td>\n",
       "      <td>0.0</td>\n",
       "      <td>0.728609</td>\n",
       "      <td>0.460664</td>\n",
       "      <td>0.638897</td>\n",
       "      <td>0.622091</td>\n",
       "      <td>0.0</td>\n",
       "      <td>0.442656</td>\n",
       "      <td>0.999920</td>\n",
       "    </tr>\n",
       "    <tr>\n",
       "      <th>1</th>\n",
       "      <td>0.949036</td>\n",
       "      <td>0.674902</td>\n",
       "      <td>0.929214</td>\n",
       "      <td>0.846920</td>\n",
       "      <td>0.875635</td>\n",
       "      <td>0.000000e+00</td>\n",
       "      <td>0.033748</td>\n",
       "      <td>0.782875</td>\n",
       "      <td>9.219418e-02</td>\n",
       "      <td>0.087019</td>\n",
       "      <td>...</td>\n",
       "      <td>8.452013e-01</td>\n",
       "      <td>0.812588</td>\n",
       "      <td>0.0</td>\n",
       "      <td>0.728182</td>\n",
       "      <td>0.466695</td>\n",
       "      <td>0.645250</td>\n",
       "      <td>0.622884</td>\n",
       "      <td>0.0</td>\n",
       "      <td>0.442656</td>\n",
       "      <td>0.999920</td>\n",
       "    </tr>\n",
       "    <tr>\n",
       "      <th>2</th>\n",
       "      <td>0.949036</td>\n",
       "      <td>0.678712</td>\n",
       "      <td>0.929214</td>\n",
       "      <td>0.846920</td>\n",
       "      <td>0.875635</td>\n",
       "      <td>0.000000e+00</td>\n",
       "      <td>0.033832</td>\n",
       "      <td>0.787092</td>\n",
       "      <td>9.778861e-02</td>\n",
       "      <td>0.085245</td>\n",
       "      <td>...</td>\n",
       "      <td>8.469801e-01</td>\n",
       "      <td>0.815508</td>\n",
       "      <td>0.0</td>\n",
       "      <td>0.733101</td>\n",
       "      <td>0.468093</td>\n",
       "      <td>0.647396</td>\n",
       "      <td>0.625752</td>\n",
       "      <td>0.0</td>\n",
       "      <td>0.442656</td>\n",
       "      <td>0.999920</td>\n",
       "    </tr>\n",
       "    <tr>\n",
       "      <th>3</th>\n",
       "      <td>0.949036</td>\n",
       "      <td>0.680074</td>\n",
       "      <td>0.929214</td>\n",
       "      <td>0.846920</td>\n",
       "      <td>0.875635</td>\n",
       "      <td>0.000000e+00</td>\n",
       "      <td>0.020786</td>\n",
       "      <td>0.788554</td>\n",
       "      <td>9.912289e-02</td>\n",
       "      <td>0.084524</td>\n",
       "      <td>...</td>\n",
       "      <td>8.484859e-01</td>\n",
       "      <td>0.818537</td>\n",
       "      <td>0.0</td>\n",
       "      <td>0.730326</td>\n",
       "      <td>0.454580</td>\n",
       "      <td>0.651250</td>\n",
       "      <td>0.627083</td>\n",
       "      <td>0.0</td>\n",
       "      <td>0.442656</td>\n",
       "      <td>0.999920</td>\n",
       "    </tr>\n",
       "    <tr>\n",
       "      <th>4</th>\n",
       "      <td>0.949036</td>\n",
       "      <td>0.681507</td>\n",
       "      <td>0.929214</td>\n",
       "      <td>0.846920</td>\n",
       "      <td>0.875635</td>\n",
       "      <td>0.000000e+00</td>\n",
       "      <td>0.017307</td>\n",
       "      <td>0.790139</td>\n",
       "      <td>9.892319e-02</td>\n",
       "      <td>0.084316</td>\n",
       "      <td>...</td>\n",
       "      <td>8.502783e-01</td>\n",
       "      <td>0.822165</td>\n",
       "      <td>0.0</td>\n",
       "      <td>0.737297</td>\n",
       "      <td>0.498444</td>\n",
       "      <td>0.652711</td>\n",
       "      <td>0.635857</td>\n",
       "      <td>0.0</td>\n",
       "      <td>0.442656</td>\n",
       "      <td>0.999920</td>\n",
       "    </tr>\n",
       "    <tr>\n",
       "      <th>...</th>\n",
       "      <td>...</td>\n",
       "      <td>...</td>\n",
       "      <td>...</td>\n",
       "      <td>...</td>\n",
       "      <td>...</td>\n",
       "      <td>...</td>\n",
       "      <td>...</td>\n",
       "      <td>...</td>\n",
       "      <td>...</td>\n",
       "      <td>...</td>\n",
       "      <td>...</td>\n",
       "      <td>...</td>\n",
       "      <td>...</td>\n",
       "      <td>...</td>\n",
       "      <td>...</td>\n",
       "      <td>...</td>\n",
       "      <td>...</td>\n",
       "      <td>...</td>\n",
       "      <td>...</td>\n",
       "      <td>...</td>\n",
       "      <td>...</td>\n",
       "    </tr>\n",
       "    <tr>\n",
       "      <th>444595</th>\n",
       "      <td>0.015152</td>\n",
       "      <td>0.554482</td>\n",
       "      <td>0.101153</td>\n",
       "      <td>0.895011</td>\n",
       "      <td>0.875635</td>\n",
       "      <td>1.017529e-04</td>\n",
       "      <td>0.003965</td>\n",
       "      <td>0.686397</td>\n",
       "      <td>5.868424e-93</td>\n",
       "      <td>0.000227</td>\n",
       "      <td>...</td>\n",
       "      <td>3.472055e-198</td>\n",
       "      <td>0.000219</td>\n",
       "      <td>0.0</td>\n",
       "      <td>0.294465</td>\n",
       "      <td>0.461483</td>\n",
       "      <td>0.400120</td>\n",
       "      <td>0.370521</td>\n",
       "      <td>0.0</td>\n",
       "      <td>0.361972</td>\n",
       "      <td>0.999365</td>\n",
       "    </tr>\n",
       "    <tr>\n",
       "      <th>444596</th>\n",
       "      <td>0.015152</td>\n",
       "      <td>0.552691</td>\n",
       "      <td>0.101153</td>\n",
       "      <td>0.895011</td>\n",
       "      <td>0.875635</td>\n",
       "      <td>1.017529e-05</td>\n",
       "      <td>0.005680</td>\n",
       "      <td>0.687438</td>\n",
       "      <td>5.868424e-94</td>\n",
       "      <td>0.000227</td>\n",
       "      <td>...</td>\n",
       "      <td>3.472055e-199</td>\n",
       "      <td>0.000219</td>\n",
       "      <td>0.0</td>\n",
       "      <td>0.294355</td>\n",
       "      <td>0.481219</td>\n",
       "      <td>0.405060</td>\n",
       "      <td>0.373854</td>\n",
       "      <td>0.0</td>\n",
       "      <td>0.360342</td>\n",
       "      <td>0.999647</td>\n",
       "    </tr>\n",
       "    <tr>\n",
       "      <th>444597</th>\n",
       "      <td>0.015152</td>\n",
       "      <td>0.554838</td>\n",
       "      <td>0.101153</td>\n",
       "      <td>0.895011</td>\n",
       "      <td>0.875635</td>\n",
       "      <td>1.017529e-06</td>\n",
       "      <td>0.004919</td>\n",
       "      <td>0.685354</td>\n",
       "      <td>5.868424e-95</td>\n",
       "      <td>0.000227</td>\n",
       "      <td>...</td>\n",
       "      <td>3.472055e-200</td>\n",
       "      <td>0.000219</td>\n",
       "      <td>0.0</td>\n",
       "      <td>0.292955</td>\n",
       "      <td>0.482340</td>\n",
       "      <td>0.402823</td>\n",
       "      <td>0.375758</td>\n",
       "      <td>0.0</td>\n",
       "      <td>0.360179</td>\n",
       "      <td>0.999603</td>\n",
       "    </tr>\n",
       "    <tr>\n",
       "      <th>444598</th>\n",
       "      <td>0.015152</td>\n",
       "      <td>0.556081</td>\n",
       "      <td>0.101153</td>\n",
       "      <td>0.895011</td>\n",
       "      <td>0.875635</td>\n",
       "      <td>1.017529e-07</td>\n",
       "      <td>0.005775</td>\n",
       "      <td>0.687708</td>\n",
       "      <td>5.868424e-96</td>\n",
       "      <td>0.000227</td>\n",
       "      <td>...</td>\n",
       "      <td>3.472055e-201</td>\n",
       "      <td>0.000219</td>\n",
       "      <td>0.0</td>\n",
       "      <td>0.297647</td>\n",
       "      <td>0.497807</td>\n",
       "      <td>0.404586</td>\n",
       "      <td>0.380051</td>\n",
       "      <td>0.0</td>\n",
       "      <td>0.360163</td>\n",
       "      <td>0.999598</td>\n",
       "    </tr>\n",
       "    <tr>\n",
       "      <th>444599</th>\n",
       "      <td>0.015152</td>\n",
       "      <td>0.558711</td>\n",
       "      <td>0.101153</td>\n",
       "      <td>0.895011</td>\n",
       "      <td>0.875635</td>\n",
       "      <td>8.731018e-05</td>\n",
       "      <td>0.006172</td>\n",
       "      <td>0.689067</td>\n",
       "      <td>5.868424e-97</td>\n",
       "      <td>0.000227</td>\n",
       "      <td>...</td>\n",
       "      <td>3.472055e-202</td>\n",
       "      <td>0.000219</td>\n",
       "      <td>0.0</td>\n",
       "      <td>0.297935</td>\n",
       "      <td>0.498501</td>\n",
       "      <td>0.409727</td>\n",
       "      <td>0.381091</td>\n",
       "      <td>0.0</td>\n",
       "      <td>0.361972</td>\n",
       "      <td>0.999453</td>\n",
       "    </tr>\n",
       "  </tbody>\n",
       "</table>\n",
       "<p>444600 rows × 59 columns</p>\n",
       "</div>\n",
       "      <button class=\"colab-df-convert\" onclick=\"convertToInteractive('df-0a02aa22-d793-4f53-a714-e9e6521f0508')\"\n",
       "              title=\"Convert this dataframe to an interactive table.\"\n",
       "              style=\"display:none;\">\n",
       "        \n",
       "  <svg xmlns=\"http://www.w3.org/2000/svg\" height=\"24px\"viewBox=\"0 0 24 24\"\n",
       "       width=\"24px\">\n",
       "    <path d=\"M0 0h24v24H0V0z\" fill=\"none\"/>\n",
       "    <path d=\"M18.56 5.44l.94 2.06.94-2.06 2.06-.94-2.06-.94-.94-2.06-.94 2.06-2.06.94zm-11 1L8.5 8.5l.94-2.06 2.06-.94-2.06-.94L8.5 2.5l-.94 2.06-2.06.94zm10 10l.94 2.06.94-2.06 2.06-.94-2.06-.94-.94-2.06-.94 2.06-2.06.94z\"/><path d=\"M17.41 7.96l-1.37-1.37c-.4-.4-.92-.59-1.43-.59-.52 0-1.04.2-1.43.59L10.3 9.45l-7.72 7.72c-.78.78-.78 2.05 0 2.83L4 21.41c.39.39.9.59 1.41.59.51 0 1.02-.2 1.41-.59l7.78-7.78 2.81-2.81c.8-.78.8-2.07 0-2.86zM5.41 20L4 18.59l7.72-7.72 1.47 1.35L5.41 20z\"/>\n",
       "  </svg>\n",
       "      </button>\n",
       "      \n",
       "  <style>\n",
       "    .colab-df-container {\n",
       "      display:flex;\n",
       "      flex-wrap:wrap;\n",
       "      gap: 12px;\n",
       "    }\n",
       "\n",
       "    .colab-df-convert {\n",
       "      background-color: #E8F0FE;\n",
       "      border: none;\n",
       "      border-radius: 50%;\n",
       "      cursor: pointer;\n",
       "      display: none;\n",
       "      fill: #1967D2;\n",
       "      height: 32px;\n",
       "      padding: 0 0 0 0;\n",
       "      width: 32px;\n",
       "    }\n",
       "\n",
       "    .colab-df-convert:hover {\n",
       "      background-color: #E2EBFA;\n",
       "      box-shadow: 0px 1px 2px rgba(60, 64, 67, 0.3), 0px 1px 3px 1px rgba(60, 64, 67, 0.15);\n",
       "      fill: #174EA6;\n",
       "    }\n",
       "\n",
       "    [theme=dark] .colab-df-convert {\n",
       "      background-color: #3B4455;\n",
       "      fill: #D2E3FC;\n",
       "    }\n",
       "\n",
       "    [theme=dark] .colab-df-convert:hover {\n",
       "      background-color: #434B5C;\n",
       "      box-shadow: 0px 1px 3px 1px rgba(0, 0, 0, 0.15);\n",
       "      filter: drop-shadow(0px 1px 2px rgba(0, 0, 0, 0.3));\n",
       "      fill: #FFFFFF;\n",
       "    }\n",
       "  </style>\n",
       "\n",
       "      <script>\n",
       "        const buttonEl =\n",
       "          document.querySelector('#df-0a02aa22-d793-4f53-a714-e9e6521f0508 button.colab-df-convert');\n",
       "        buttonEl.style.display =\n",
       "          google.colab.kernel.accessAllowed ? 'block' : 'none';\n",
       "\n",
       "        async function convertToInteractive(key) {\n",
       "          const element = document.querySelector('#df-0a02aa22-d793-4f53-a714-e9e6521f0508');\n",
       "          const dataTable =\n",
       "            await google.colab.kernel.invokeFunction('convertToInteractive',\n",
       "                                                     [key], {});\n",
       "          if (!dataTable) return;\n",
       "\n",
       "          const docLinkHtml = 'Like what you see? Visit the ' +\n",
       "            '<a target=\"_blank\" href=https://colab.research.google.com/notebooks/data_table.ipynb>data table notebook</a>'\n",
       "            + ' to learn more about interactive tables.';\n",
       "          element.innerHTML = '';\n",
       "          dataTable['output_type'] = 'display_data';\n",
       "          await google.colab.output.renderOutput(dataTable, element);\n",
       "          const docLink = document.createElement('div');\n",
       "          docLink.innerHTML = docLinkHtml;\n",
       "          element.appendChild(docLink);\n",
       "        }\n",
       "      </script>\n",
       "    </div>\n",
       "  </div>\n",
       "  "
      ],
      "text/plain": [
       "        P1_B2004  P1_B2016  P1_B3004  P1_B3005  P1_B4002      P1_B4005  \\\n",
       "0       0.949036  0.676348  0.929214  0.846920  0.875635  0.000000e+00   \n",
       "1       0.949036  0.674902  0.929214  0.846920  0.875635  0.000000e+00   \n",
       "2       0.949036  0.678712  0.929214  0.846920  0.875635  0.000000e+00   \n",
       "3       0.949036  0.680074  0.929214  0.846920  0.875635  0.000000e+00   \n",
       "4       0.949036  0.681507  0.929214  0.846920  0.875635  0.000000e+00   \n",
       "...          ...       ...       ...       ...       ...           ...   \n",
       "444595  0.015152  0.554482  0.101153  0.895011  0.875635  1.017529e-04   \n",
       "444596  0.015152  0.552691  0.101153  0.895011  0.875635  1.017529e-05   \n",
       "444597  0.015152  0.554838  0.101153  0.895011  0.875635  1.017529e-06   \n",
       "444598  0.015152  0.556081  0.101153  0.895011  0.875635  1.017529e-07   \n",
       "444599  0.015152  0.558711  0.101153  0.895011  0.875635  8.731018e-05   \n",
       "\n",
       "        P1_B400B  P1_B4022     P1_FCV01D  P1_FCV01Z  ...       P4_HT_LD  \\\n",
       "0       0.032806  0.784467  9.252600e-02   0.094592  ...   8.437011e-01   \n",
       "1       0.033748  0.782875  9.219418e-02   0.087019  ...   8.452013e-01   \n",
       "2       0.033832  0.787092  9.778861e-02   0.085245  ...   8.469801e-01   \n",
       "3       0.020786  0.788554  9.912289e-02   0.084524  ...   8.484859e-01   \n",
       "4       0.017307  0.790139  9.892319e-02   0.084316  ...   8.502783e-01   \n",
       "...          ...       ...           ...        ...  ...            ...   \n",
       "444595  0.003965  0.686397  5.868424e-93   0.000227  ...  3.472055e-198   \n",
       "444596  0.005680  0.687438  5.868424e-94   0.000227  ...  3.472055e-199   \n",
       "444597  0.004919  0.685354  5.868424e-95   0.000227  ...  3.472055e-200   \n",
       "444598  0.005775  0.687708  5.868424e-96   0.000227  ...  3.472055e-201   \n",
       "444599  0.006172  0.689067  5.868424e-97   0.000227  ...  3.472055e-202   \n",
       "\n",
       "        P4_HT_PO  P4_HT_PS     P4_LD  P4_ST_FD  P4_ST_LD  P4_ST_PO  P4_ST_PS  \\\n",
       "0       0.808436       0.0  0.728609  0.460664  0.638897  0.622091       0.0   \n",
       "1       0.812588       0.0  0.728182  0.466695  0.645250  0.622884       0.0   \n",
       "2       0.815508       0.0  0.733101  0.468093  0.647396  0.625752       0.0   \n",
       "3       0.818537       0.0  0.730326  0.454580  0.651250  0.627083       0.0   \n",
       "4       0.822165       0.0  0.737297  0.498444  0.652711  0.635857       0.0   \n",
       "...          ...       ...       ...       ...       ...       ...       ...   \n",
       "444595  0.000219       0.0  0.294465  0.461483  0.400120  0.370521       0.0   \n",
       "444596  0.000219       0.0  0.294355  0.481219  0.405060  0.373854       0.0   \n",
       "444597  0.000219       0.0  0.292955  0.482340  0.402823  0.375758       0.0   \n",
       "444598  0.000219       0.0  0.297647  0.497807  0.404586  0.380051       0.0   \n",
       "444599  0.000219       0.0  0.297935  0.498501  0.409727  0.381091       0.0   \n",
       "\n",
       "        P4_ST_PT01  P4_ST_TT01  \n",
       "0         0.442656    0.999920  \n",
       "1         0.442656    0.999920  \n",
       "2         0.442656    0.999920  \n",
       "3         0.442656    0.999920  \n",
       "4         0.442656    0.999920  \n",
       "...            ...         ...  \n",
       "444595    0.361972    0.999365  \n",
       "444596    0.360342    0.999647  \n",
       "444597    0.360179    0.999603  \n",
       "444598    0.360163    0.999598  \n",
       "444599    0.361972    0.999453  \n",
       "\n",
       "[444600 rows x 59 columns]"
      ]
     },
     "execution_count": 27,
     "metadata": {},
     "output_type": "execute_result"
    }
   ],
   "source": [
    "TEST_DF = normalize(TEST_DF_RAW[VALID_COLUMNS_IN_TRAIN_DATASET]).ewm(alpha=0.9).mean()\n",
    "TEST_DF"
   ]
  },
  {
   "cell_type": "code",
   "execution_count": 28,
   "metadata": {
    "colab": {
     "base_uri": "https://localhost:8080/"
    },
    "id": "LFfE2utnzQBz",
    "outputId": "f2d0f641-1541-4777-bdbd-949378f5837f"
   },
   "outputs": [
    {
     "data": {
      "text/plain": [
       "(True, True, False)"
      ]
     },
     "execution_count": 28,
     "metadata": {},
     "output_type": "execute_result"
    }
   ],
   "source": [
    "boundary_check(TEST_DF)"
   ]
  },
  {
   "cell_type": "code",
   "execution_count": 29,
   "metadata": {
    "colab": {
     "base_uri": "https://localhost:8080/",
     "height": 1000,
     "referenced_widgets": [
      "e8751db86b67492fac2243a9fcd35afb",
      "bdb5c54014c34307a21320a441d694fc",
      "ea05acfaea6f4db8855d3a9f449e8924",
      "657a266eb8514fbaad1fe49af96f338e",
      "033487d29680469696403aadf556bfa9",
      "bfbf09ce00ef4ba1af87fc8e954621cf",
      "820a84a3c40e4a6ba941bf9f8692cccc",
      "02eae71345eb44b0b118a1494d9520c5",
      "d8e1c817597543b0879981d9447c9adb",
      "1ae157c9224b4d5aa7234df50896ad49",
      "1b77ff89e7b94630a8cb40bf01af1bcd"
     ]
    },
    "id": "0Np8SmopzSC-",
    "outputId": "c6888492-a35d-4a12-9d89-7348d61a1722"
   },
   "outputs": [
    {
     "data": {
      "application/vnd.jupyter.widget-view+json": {
       "model_id": "e8751db86b67492fac2243a9fcd35afb",
       "version_major": 2,
       "version_minor": 0
      },
      "text/plain": [
       "  0%|          | 0/444591 [00:00<?, ?it/s]"
      ]
     },
     "metadata": {},
     "output_type": "display_data"
    },
    {
     "name": "stdout",
     "output_type": "stream",
     "text": [
      "# of valid windows: 444582\n"
     ]
    },
    {
     "data": {
      "text/plain": [
       "{'attack': 0.0,\n",
       " 'ts': '2019-10-29 11:00:09',\n",
       " 'given': tensor([[ 0.9490,  0.6763,  0.9292,  0.8469,  0.8756,  0.0000,  0.0328,  0.7845,\n",
       "           0.0925,  0.0946,  1.0000,  0.9976,  0.4336,  0.3924,  0.5554,  0.7305,\n",
       "           0.0091,  0.0338,  0.7973,  0.8181,  0.3690,  0.4418,  0.8066,  0.7793,\n",
       "           0.7746,  0.0000, -1.3531,  0.4331,  0.0080,  0.7289,  0.4304,  0.4426,\n",
       "           0.0000,  0.0000,  0.0000,  0.0000,  0.2917,  0.0000,  0.4935,  0.1582,\n",
       "           0.1334,  0.2080,  0.3037,  0.0862,  0.8029,  0.0000,  0.0000,  0.3667,\n",
       "           0.5009,  0.8437,  0.8084,  0.0000,  0.7286,  0.4607,  0.6389,  0.6221,\n",
       "           0.0000,  0.4427,  0.9999],\n",
       "         [ 0.9490,  0.6749,  0.9292,  0.8469,  0.8756,  0.0000,  0.0337,  0.7829,\n",
       "           0.0922,  0.0870,  1.0000,  0.9972,  0.4338,  0.3924,  0.5487,  0.7359,\n",
       "           0.0055,  0.0338,  0.7955,  0.8132,  0.3694,  0.4418,  0.8081,  0.7803,\n",
       "           0.7764,  0.0000, -1.3531,  0.4328,  0.0101,  0.7289,  0.4304,  0.3105,\n",
       "           0.0000,  0.0000,  0.0000,  0.0000,  0.2917,  0.0000,  0.1372,  0.1469,\n",
       "           0.2455,  0.5037,  0.4755,  0.0820,  0.8061,  0.0000,  0.0000,  0.3648,\n",
       "           0.5043,  0.8452,  0.8126,  0.0000,  0.7282,  0.4667,  0.6452,  0.6229,\n",
       "           0.0000,  0.4427,  0.9999],\n",
       "         [ 0.9490,  0.6787,  0.9292,  0.8469,  0.8756,  0.0000,  0.0338,  0.7871,\n",
       "           0.0978,  0.0852,  1.0000,  0.9973,  0.4398,  0.3924,  0.5423,  0.7317,\n",
       "           0.0046,  0.0208,  0.7830,  0.8112,  0.3682,  0.4328,  0.8079,  0.7807,\n",
       "           0.7757,  0.0000, -1.3531,  0.4346,  0.0100,  0.7289,  0.4304,  0.4569,\n",
       "           0.0000,  0.0000,  0.0000,  0.0000,  0.2917,  0.0000,  0.1635,  0.4061,\n",
       "           0.4414,  0.6715,  0.4325,  0.0780,  0.8087,  0.0000,  0.0000,  0.3613,\n",
       "           0.5013,  0.8470,  0.8155,  0.0000,  0.7331,  0.4681,  0.6474,  0.6258,\n",
       "           0.0000,  0.4427,  0.9999],\n",
       "         [ 0.9490,  0.6801,  0.9292,  0.8469,  0.8756,  0.0000,  0.0208,  0.7886,\n",
       "           0.0991,  0.0845,  1.0000,  0.9976,  0.4338,  0.3924,  0.5355,  0.7272,\n",
       "           0.0046,  0.0173,  0.7941,  0.7996,  0.3704,  0.4149,  0.8082,  0.7815,\n",
       "           0.7758,  0.0000, -1.3531,  0.4406,  0.0085,  0.7289,  0.4351,  0.4957,\n",
       "           0.0000,  0.0000,  0.0000,  0.0000,  0.2917,  0.0000,  0.4510,  0.6017,\n",
       "           0.4557,  0.4566,  0.2046,  0.0739,  0.8113,  0.0000,  0.0000,  0.3600,\n",
       "           0.5010,  0.8485,  0.8185,  0.0000,  0.7303,  0.4546,  0.6513,  0.6271,\n",
       "           0.0000,  0.4427,  0.9999],\n",
       "         [ 0.9490,  0.6815,  0.9292,  0.8469,  0.8756,  0.0000,  0.0173,  0.7901,\n",
       "           0.0989,  0.0843,  1.0000,  0.9972,  0.4269,  0.3924,  0.5339,  0.7224,\n",
       "           0.0047,  0.0173,  0.8057,  0.8098,  0.3673,  0.4131,  0.8079,  0.7815,\n",
       "           0.7762,  0.0000, -1.3531,  0.4438,  0.0078,  0.7289,  0.4309,  0.4752,\n",
       "           0.0000,  0.0000,  0.0000,  0.0000,  0.2729,  0.0000,  0.5883,  0.4655,\n",
       "           0.2759,  0.1715,  0.1218,  0.0704,  0.8139,  0.0000,  0.0000,  0.3586,\n",
       "           0.5009,  0.8503,  0.8222,  0.0000,  0.7373,  0.4984,  0.6527,  0.6359,\n",
       "           0.0000,  0.4427,  0.9999],\n",
       "         [ 0.9490,  0.6833,  0.9292,  0.8469,  0.8756,  0.0000,  0.0173,  0.7922,\n",
       "           0.0986,  0.0841,  1.0000,  0.9971,  0.4279,  0.3924,  0.5294,  0.7213,\n",
       "           0.0043,  0.0176,  0.8016,  0.8205,  0.3642,  0.4132,  0.8086,  0.7818,\n",
       "           0.7761,  0.0000, -1.3531,  0.4445,  0.0083,  0.7289,  0.4281,  0.5006,\n",
       "           0.0000,  0.0000,  0.0000,  0.0000,  0.2710,  0.0000,  0.7105,  0.3161,\n",
       "           0.2041,  0.2540,  0.2059,  0.0669,  0.8165,  0.0000,  0.0000,  0.3561,\n",
       "           0.5009,  0.8521,  0.8247,  0.0000,  0.7423,  0.4900,  0.6532,  0.6394,\n",
       "           0.0000,  0.4427,  0.9999],\n",
       "         [ 0.9490,  0.6813,  0.9292,  0.8469,  0.8756,  0.0000,  0.0176,  0.7900,\n",
       "           0.0990,  0.0841,  1.0000,  0.9973,  0.4271,  0.3924,  0.5328,  0.7182,\n",
       "           0.0040,  0.0161,  0.8012,  0.8168,  0.3638,  0.4132,  0.8079,  0.7825,\n",
       "           0.7755,  0.0000, -1.3531,  0.4453,  0.0087,  0.7289,  0.4325,  0.3967,\n",
       "           0.0000,  0.0000,  0.0000,  0.0000,  0.2896,  0.0000,  0.4947,  0.1653,\n",
       "           0.1430,  0.3732,  0.3067,  0.0635,  0.8199,  0.0000,  0.0000,  0.3539,\n",
       "           0.5009,  0.8535,  0.8275,  0.0000,  0.7416,  0.4730,  0.6524,  0.6401,\n",
       "           0.0000,  0.4427,  0.9999],\n",
       "         [ 0.9490,  0.6836,  0.9292,  0.8469,  0.8756,  0.0000,  0.0161,  0.7925,\n",
       "           0.0993,  0.0850,  1.0000,  0.9971,  0.4299,  0.3924,  0.5293,  0.7205,\n",
       "           0.0042,  0.0150,  0.7942,  0.8164,  0.3635,  0.4125,  0.8071,  0.7826,\n",
       "           0.7751,  0.0000, -1.3531,  0.4454,  0.0075,  0.7398,  0.4283,  0.5444,\n",
       "           0.0000,  0.0000,  0.0000,  0.0000,  0.2727,  0.0000,  0.1245,  0.1605,\n",
       "           0.2621,  0.5183,  0.4767,  0.0605,  0.8218,  0.0000,  0.0000,  0.3522,\n",
       "           0.5009,  0.8549,  0.8309,  0.0000,  0.7483,  0.4900,  0.6646,  0.6445,\n",
       "           0.0000,  0.4427,  0.9999],\n",
       "         [ 0.9490,  0.6853,  0.9292,  0.8469,  0.8756,  0.0000,  0.0150,  0.7943,\n",
       "           0.0988,  0.0852,  1.0000,  0.9972,  0.4372,  0.3924,  0.5328,  0.7181,\n",
       "           0.0044,  0.0158,  0.7794,  0.8099,  0.3648,  0.4131,  0.8067,  0.7834,\n",
       "           0.7751,  0.0000, -1.3531,  0.4465,  0.0083,  0.7354,  0.4302,  0.4801,\n",
       "           0.0000,  0.0000,  0.0000,  0.0000,  0.2710,  0.0000,  0.1738,  0.4161,\n",
       "           0.4458,  0.6660,  0.4195,  0.0587,  0.8243,  0.0000,  0.0000,  0.3496,\n",
       "           0.5009,  0.8565,  0.8334,  0.0000,  0.7503,  0.4977,  0.6604,  0.6482,\n",
       "           0.0000,  0.4427,  0.9999]]),\n",
       " 'answer': tensor([ 0.9490,  0.6853,  0.9292,  0.8469,  0.8756,  0.0000,  0.0158,  0.7944,\n",
       "          0.0982,  0.0852,  1.0000,  0.9972,  0.4268,  0.3924,  0.5288,  0.7205,\n",
       "          0.0045,  0.0165,  0.7990,  0.7962,  0.3677,  0.4123,  0.8081,  0.7839,\n",
       "          0.7751,  0.0000, -1.3531,  0.4477,  0.0078,  0.7296,  0.4281,  0.4463,\n",
       "          0.0000,  0.0000,  0.0000,  0.0000,  0.2709,  0.0000,  0.4595,  0.6034,\n",
       "          0.4543,  0.4467,  0.1983,  0.0559,  0.8269,  0.0000,  0.0000,  0.3483,\n",
       "          0.5059,  0.8579,  0.8356,  0.0000,  0.7468,  0.4917,  0.6612,  0.6491,\n",
       "          0.0000,  0.4427,  0.9999])}"
      ]
     },
     "execution_count": 29,
     "metadata": {},
     "output_type": "execute_result"
    }
   ],
   "source": [
    "HAI_DATASET_TEST = HaiDataset(\n",
    "    TEST_DF_RAW[TIMESTAMP_FIELD], TEST_DF, attacks=TEST_DF_RAW[ATTACK_FIELD]\n",
    ")\n",
    "HAI_DATASET_TEST[0]"
   ]
  },
  {
   "cell_type": "code",
   "execution_count": 30,
   "metadata": {
    "id": "J3rgDG0ozTWk"
   },
   "outputs": [],
   "source": [
    "def inference(dataset, model, batch_size):\n",
    "    dataloader = DataLoader(dataset, batch_size=batch_size)\n",
    "    ts, dist, att = [], [], []\n",
    "    with torch.no_grad():\n",
    "        for batch in dataloader:\n",
    "            given = batch[\"given\"].cuda()\n",
    "            answer = batch[\"answer\"].cuda()\n",
    "            guess = model(given)\n",
    "            ts.append(np.array(batch[\"ts\"]))\n",
    "            dist.append(torch.abs(answer - guess).cpu().numpy())\n",
    "            try:\n",
    "                att.append(np.array(batch[\"attack\"]))\n",
    "            except:\n",
    "                att.append(np.zeros(batch_size))\n",
    "    return (\n",
    "        np.concatenate(ts),\n",
    "        np.concatenate(dist),\n",
    "        np.concatenate(att),\n",
    "    )"
   ]
  },
  {
   "cell_type": "code",
   "execution_count": 31,
   "metadata": {
    "colab": {
     "base_uri": "https://localhost:8080/"
    },
    "id": "gMgdJ6WyzVFu",
    "outputId": "b9587af9-18b0-4085-d794-38c1e14effe4"
   },
   "outputs": [
    {
     "name": "stdout",
     "output_type": "stream",
     "text": [
      "CPU times: user 12.7 s, sys: 73.7 ms, total: 12.8 s\n",
      "Wall time: 12.8 s\n"
     ]
    }
   ],
   "source": [
    "%%time\n",
    "MODEL.eval()\n",
    "CHECK_TS, CHECK_DIST, CHECK_ATT = inference(HAI_DATASET_TEST, MODEL, BATCH_SIZE)"
   ]
  },
  {
   "cell_type": "code",
   "execution_count": 32,
   "metadata": {
    "colab": {
     "base_uri": "https://localhost:8080/"
    },
    "id": "m0oWg3n8zesf",
    "outputId": "29df5175-deef-4fbc-d019-1be4617e7496"
   },
   "outputs": [
    {
     "data": {
      "text/plain": [
       "(444582, 59)"
      ]
     },
     "execution_count": 32,
     "metadata": {},
     "output_type": "execute_result"
    }
   ],
   "source": [
    "CHECK_DIST.shape"
   ]
  },
  {
   "cell_type": "code",
   "execution_count": 33,
   "metadata": {
    "id": "whc0VHrbzeu_"
   },
   "outputs": [],
   "source": [
    "ANOMALY_SCORE = np.mean(CHECK_DIST, axis=1)"
   ]
  },
  {
   "cell_type": "code",
   "execution_count": 34,
   "metadata": {
    "id": "LkT2eid7zic_"
   },
   "outputs": [],
   "source": [
    "def check_graph(xs, att, piece=2, THRESHOLD=None):\n",
    "    l = xs.shape[0]\n",
    "    chunk = l // piece\n",
    "    fig, axs = plt.subplots(piece, figsize=(20, 4 * piece))\n",
    "    for i in range(piece):\n",
    "        L = i * chunk\n",
    "        R = min(L + chunk, l)\n",
    "        xticks = range(L, R)\n",
    "        axs[i].plot(xticks, xs[L:R])\n",
    "        if len(xs[L:R]) > 0:\n",
    "            peak = max(xs[L:R])\n",
    "            axs[i].plot(xticks, att[L:R] * peak * 0.3)\n",
    "        if THRESHOLD!=None:\n",
    "            axs[i].axhline(y=THRESHOLD, color='r')\n",
    "    plt.show()"
   ]
  },
  {
   "cell_type": "code",
   "execution_count": 35,
   "metadata": {
    "colab": {
     "base_uri": "https://localhost:8080/",
     "height": 700
    },
    "id": "GeaRIykmzkEP",
    "outputId": "2827eaf0-6109-4689-fd79-fa54f5a4475e"
   },
   "outputs": [
    {
     "data": {
      "image/png": "[encoded data removed]",
      "text/plain": [
       "<Figure size 1440x864 with 3 Axes>"
      ]
     },
     "metadata": {
      "needs_background": "light"
     },
     "output_type": "display_data"
    }
   ],
   "source": [
    "check_graph(ANOMALY_SCORE, CHECK_ATT, piece=3)"
   ]
  },
  {
   "cell_type": "code",
   "execution_count": 36,
   "metadata": {
    "id": "lZ53Mm3xzkGv"
   },
   "outputs": [],
   "source": [
    "from scipy import signal\n",
    "b, a = signal.butter(1, 0.01, btype='lowpass')"
   ]
  },
  {
   "cell_type": "code",
   "execution_count": 37,
   "metadata": {
    "colab": {
     "base_uri": "https://localhost:8080/",
     "height": 700
    },
    "id": "uA1YLvWtznsa",
    "outputId": "54f4d7f9-b020-4977-e42e-c78e9abd4fe3"
   },
   "outputs": [
    {
     "data": {
      "image/png": "[encoded data removed]",
      "text/plain": [
       "<Figure size 1440x864 with 3 Axes>"
      ]
     },
     "metadata": {
      "needs_background": "light"
     },
     "output_type": "display_data"
    }
   ],
   "source": [
    "check_graph(signal.filtfilt(b,a,ANOMALY_SCORE), CHECK_ATT, THRESHOLD=0.052,piece=3)"
   ]
  },
  {
   "cell_type": "code",
   "execution_count": 38,
   "metadata": {
    "colab": {
     "base_uri": "https://localhost:8080/"
    },
    "id": "hwi702pHzo5X",
    "outputId": "80305c6c-eda9-4b67-a998-0dfd265cba65"
   },
   "outputs": [
    {
     "data": {
      "text/plain": [
       "(array([0, 0, 0, ..., 0, 0, 0]), (444600,))"
      ]
     },
     "execution_count": 38,
     "metadata": {},
     "output_type": "execute_result"
    }
   ],
   "source": [
    "def put_labels(distance, threshold):\n",
    "    xs = np.zeros_like(distance)\n",
    "    xs[distance > threshold] = 1\n",
    "    return xs\n",
    "ATTACK_LABELS = put_labels(np.array(TEST_DF_RAW[ATTACK_FIELD]), threshold=0.5)\n",
    "ATTACK_LABELS, ATTACK_LABELS.shape"
   ]
  },
  {
   "cell_type": "code",
   "execution_count": 39,
   "metadata": {
    "id": "ceQKml1pzqna"
   },
   "outputs": [],
   "source": [
    "ANOMALY_SCORE_smooth = signal.filtfilt(b,a,ANOMALY_SCORE)"
   ]
  },
  {
   "cell_type": "code",
   "execution_count": 40,
   "metadata": {
    "id": "xP6gEdBWztQM"
   },
   "outputs": [],
   "source": [
    "def fill_blank(check_ts, labels, total_ts):\n",
    "    def ts_generator():\n",
    "        for t in total_ts:\n",
    "            yield dateutil.parser.parse(t)\n",
    "\n",
    "    def label_generator():\n",
    "        for t, label in zip(check_ts, labels):\n",
    "            yield dateutil.parser.parse(t), label\n",
    "    g_ts = ts_generator()\n",
    "    g_label = label_generator()\n",
    "    final_labels = []\n",
    "    try:\n",
    "        current = next(g_ts)\n",
    "        ts_label, label = next(g_label)\n",
    "        while True:\n",
    "            if current > ts_label:\n",
    "                ts_label, label = next(g_label)\n",
    "                continue\n",
    "            elif current < ts_label:\n",
    "                final_labels.append(0)\n",
    "                current = next(g_ts)\n",
    "                continue\n",
    "            final_labels.append(label)\n",
    "            current = next(g_ts)\n",
    "            ts_label, label = next(g_label)\n",
    "    except StopIteration:\n",
    "        return np.array(final_labels, dtype=np.int8)"
   ]
  },
  {
   "cell_type": "code",
   "execution_count": 41,
   "metadata": {
    "colab": {
     "base_uri": "https://localhost:8080/"
    },
    "id": "Tp40ZHvq_MX8",
    "outputId": "0fd5db29-4dfb-406d-91ca-63f49b8740a2"
   },
   "outputs": [
    {
     "name": "stdout",
     "output_type": "stream",
     "text": [
      "F1: 0.758 (TaP: 0.845, TaR: 0.687)\n",
      "# of detected anomalies: 31\n",
      "Detected anomalies: [<TaPR_pkg.DataManage.Range.Range object at 0x7fbf24282fd0>, <TaPR_pkg.DataManage.Range.Range object at 0x7fbf24282c70>, <TaPR_pkg.DataManage.Range.Range object at 0x7fbf24282940>, <TaPR_pkg.DataManage.Range.Range object at 0x7fbf24282b20>, <TaPR_pkg.DataManage.Range.Range object at 0x7fbf24282a00>, <TaPR_pkg.DataManage.Range.Range object at 0x7fbf58157190>, <TaPR_pkg.DataManage.Range.Range object at 0x7fbf242a7970>, <TaPR_pkg.DataManage.Range.Range object at 0x7fbf242a7d30>, <TaPR_pkg.DataManage.Range.Range object at 0x7fbf24282d00>, <TaPR_pkg.DataManage.Range.Range object at 0x7fbf242a76a0>, <TaPR_pkg.DataManage.Range.Range object at 0x7fbf242a7730>, <TaPR_pkg.DataManage.Range.Range object at 0x7fbf242a7a00>, <TaPR_pkg.DataManage.Range.Range object at 0x7fbf242a7400>, <TaPR_pkg.DataManage.Range.Range object at 0x7fbf242a7130>, <TaPR_pkg.DataManage.Range.Range object at 0x7fbf242a7c10>, <TaPR_pkg.DataManage.Range.Range object at 0x7fbf242a71f0>, <TaPR_pkg.DataManage.Range.Range object at 0x7fbf242a7340>, <TaPR_pkg.DataManage.Range.Range object at 0x7fbf242a7760>, <TaPR_pkg.DataManage.Range.Range object at 0x7fbf242a7b50>, <TaPR_pkg.DataManage.Range.Range object at 0x7fbf242a7fa0>, <TaPR_pkg.DataManage.Range.Range object at 0x7fbf242ada30>, <TaPR_pkg.DataManage.Range.Range object at 0x7fbf242ad730>, <TaPR_pkg.DataManage.Range.Range object at 0x7fbf242ada60>, <TaPR_pkg.DataManage.Range.Range object at 0x7fbf242ad940>, <TaPR_pkg.DataManage.Range.Range object at 0x7fbf242ad190>, <TaPR_pkg.DataManage.Range.Range object at 0x7fbf242ad640>, <TaPR_pkg.DataManage.Range.Range object at 0x7fbf242ad610>, <TaPR_pkg.DataManage.Range.Range object at 0x7fbf242ad310>, <TaPR_pkg.DataManage.Range.Range object at 0x7fbf242ad520>, <TaPR_pkg.DataManage.Range.Range object at 0x7fbf242ad4c0>, <TaPR_pkg.DataManage.Range.Range object at 0x7fbf242ad970>]\n"
     ]
    }
   ],
   "source": [
    "THRESHOLD = 0.0308\n",
    "LABELS = put_labels(ANOMALY_SCORE_smooth, THRESHOLD)\n",
    "FINAL_LABELS = fill_blank(CHECK_TS, LABELS, np.array(TEST_DF_RAW[TIMESTAMP_FIELD]))\n",
    "TaPR = etapr.evaluate_haicon(anomalies=ATTACK_LABELS, predictions=FINAL_LABELS)\n",
    "\n",
    "print(f\"F1: {TaPR['f1']:.3f} (TaP: {TaPR['TaP']:.3f}, TaR: {TaPR['TaR']:.3f})\")\n",
    "print(f\"# of detected anomalies: {len(TaPR['Detected_Anomalies'])}\")\n",
    "print(f\"Detected anomalies: {TaPR['Detected_Anomalies']}\")"
   ]
  },
  {
   "cell_type": "code",
   "execution_count": null,
   "metadata": {
    "colab": {
     "base_uri": "https://localhost:8080/"
    },
    "id": "u1tZQhcDzy44",
    "outputId": "c036219b-e01b-49f6-bcc2-4f12ba7e4160"
   },
   "outputs": [
    {
     "name": "stdout",
     "output_type": "stream",
     "text": [
      "Threshold : 0.03\n",
      "F1: 0.755 (TaP: 0.836, TaR: 0.689)\n",
      "# of detected anomalies: 31\n",
      "Detected anomalies: [<TaPR_pkg.DataManage.Range.Range object at 0x7f38c1eedbe0>, <TaPR_pkg.DataManage.Range.Range object at 0x7f38c1eedc70>, <TaPR_pkg.DataManage.Range.Range object at 0x7f38c1eedf10>, <TaPR_pkg.DataManage.Range.Range object at 0x7f38c1eed880>, <TaPR_pkg.DataManage.Range.Range object at 0x7f38bae9e520>, <TaPR_pkg.DataManage.Range.Range object at 0x7f38c072f4c0>, <TaPR_pkg.DataManage.Range.Range object at 0x7f38c072f9d0>, <TaPR_pkg.DataManage.Range.Range object at 0x7f38c072fc10>, <TaPR_pkg.DataManage.Range.Range object at 0x7f38bd6e8430>, <TaPR_pkg.DataManage.Range.Range object at 0x7f38bd6e8460>, <TaPR_pkg.DataManage.Range.Range object at 0x7f38bd6e8c70>, <TaPR_pkg.DataManage.Range.Range object at 0x7f38bd6e8490>, <TaPR_pkg.DataManage.Range.Range object at 0x7f38c2139e50>, <TaPR_pkg.DataManage.Range.Range object at 0x7f38c21398b0>, <TaPR_pkg.DataManage.Range.Range object at 0x7f38c2139040>, <TaPR_pkg.DataManage.Range.Range object at 0x7f38c2139dc0>, <TaPR_pkg.DataManage.Range.Range object at 0x7f38c2139910>, <TaPR_pkg.DataManage.Range.Range object at 0x7f38c21397f0>, <TaPR_pkg.DataManage.Range.Range object at 0x7f38c2139d30>, <TaPR_pkg.DataManage.Range.Range object at 0x7f38c377bcd0>, <TaPR_pkg.DataManage.Range.Range object at 0x7f38c377b730>, <TaPR_pkg.DataManage.Range.Range object at 0x7f38c377b6a0>, <TaPR_pkg.DataManage.Range.Range object at 0x7f38c377b250>, <TaPR_pkg.DataManage.Range.Range object at 0x7f38c377b310>, <TaPR_pkg.DataManage.Range.Range object at 0x7f38c377b2e0>, <TaPR_pkg.DataManage.Range.Range object at 0x7f38c377bb20>, <TaPR_pkg.DataManage.Range.Range object at 0x7f38c377b640>, <TaPR_pkg.DataManage.Range.Range object at 0x7f38c377b280>, <TaPR_pkg.DataManage.Range.Range object at 0x7f38c377b5e0>, <TaPR_pkg.DataManage.Range.Range object at 0x7f38c377bc70>, <TaPR_pkg.DataManage.Range.Range object at 0x7f38c377ba00>]\n",
      "Threshold : 0.0301\n",
      "F1: 0.755 (TaP: 0.836, TaR: 0.689)\n",
      "# of detected anomalies: 31\n",
      "Detected anomalies: [<TaPR_pkg.DataManage.Range.Range object at 0x7f38c2139640>, <TaPR_pkg.DataManage.Range.Range object at 0x7f38c072f5b0>, <TaPR_pkg.DataManage.Range.Range object at 0x7f38c072f4f0>, <TaPR_pkg.DataManage.Range.Range object at 0x7f38bae9edc0>, <TaPR_pkg.DataManage.Range.Range object at 0x7f38c1eede80>, <TaPR_pkg.DataManage.Range.Range object at 0x7f38c1eed040>, <TaPR_pkg.DataManage.Range.Range object at 0x7f38c1eedf70>, <TaPR_pkg.DataManage.Range.Range object at 0x7f38c3817fa0>, <TaPR_pkg.DataManage.Range.Range object at 0x7f38c3817910>, <TaPR_pkg.DataManage.Range.Range object at 0x7f38c3817b50>, <TaPR_pkg.DataManage.Range.Range object at 0x7f38c3817bb0>, <TaPR_pkg.DataManage.Range.Range object at 0x7f38c383bc70>, <TaPR_pkg.DataManage.Range.Range object at 0x7f38c383bb20>, <TaPR_pkg.DataManage.Range.Range object at 0x7f38c383b880>, <TaPR_pkg.DataManage.Range.Range object at 0x7f38c1ef5940>, <TaPR_pkg.DataManage.Range.Range object at 0x7f38c1ef5700>, <TaPR_pkg.DataManage.Range.Range object at 0x7f38c1ef5c70>, <TaPR_pkg.DataManage.Range.Range object at 0x7f38c1ef5ca0>, <TaPR_pkg.DataManage.Range.Range object at 0x7f38bd6e8c10>, <TaPR_pkg.DataManage.Range.Range object at 0x7f38bd6e8f70>, <TaPR_pkg.DataManage.Range.Range object at 0x7f38bd6e8160>, <TaPR_pkg.DataManage.Range.Range object at 0x7f38bab4d790>, <TaPR_pkg.DataManage.Range.Range object at 0x7f389086d0a0>, <TaPR_pkg.DataManage.Range.Range object at 0x7f389086d3a0>, <TaPR_pkg.DataManage.Range.Range object at 0x7f389086de20>, <TaPR_pkg.DataManage.Range.Range object at 0x7f389086d460>, <TaPR_pkg.DataManage.Range.Range object at 0x7f389086d160>, <TaPR_pkg.DataManage.Range.Range object at 0x7f389086d700>, <TaPR_pkg.DataManage.Range.Range object at 0x7f389088fd30>, <TaPR_pkg.DataManage.Range.Range object at 0x7f389088f580>, <TaPR_pkg.DataManage.Range.Range object at 0x7f388229c190>]\n",
      "Threshold : 0.030199999999999998\n",
      "F1: 0.755 (TaP: 0.836, TaR: 0.688)\n",
      "# of detected anomalies: 31\n",
      "Detected anomalies: [<TaPR_pkg.DataManage.Range.Range object at 0x7f38c1ef53d0>, <TaPR_pkg.DataManage.Range.Range object at 0x7f38c3817250>, <TaPR_pkg.DataManage.Range.Range object at 0x7f38c3817b80>, <TaPR_pkg.DataManage.Range.Range object at 0x7f388229c610>, <TaPR_pkg.DataManage.Range.Range object at 0x7f389088fca0>, <TaPR_pkg.DataManage.Range.Range object at 0x7f389088f760>, <TaPR_pkg.DataManage.Range.Range object at 0x7f389088f850>, <TaPR_pkg.DataManage.Range.Range object at 0x7f389088f5b0>, <TaPR_pkg.DataManage.Range.Range object at 0x7f389088f2e0>, <TaPR_pkg.DataManage.Range.Range object at 0x7f38c1eeda30>, <TaPR_pkg.DataManage.Range.Range object at 0x7f38c1eed9d0>, <TaPR_pkg.DataManage.Range.Range object at 0x7f38c1eed970>, <TaPR_pkg.DataManage.Range.Range object at 0x7f38c1eedf10>, <TaPR_pkg.DataManage.Range.Range object at 0x7f38c1eed880>, <TaPR_pkg.DataManage.Range.Range object at 0x7f38bae9e520>, <TaPR_pkg.DataManage.Range.Range object at 0x7f38c072f1f0>, <TaPR_pkg.DataManage.Range.Range object at 0x7f38c072ff10>, <TaPR_pkg.DataManage.Range.Range object at 0x7f38c072f9d0>, <TaPR_pkg.DataManage.Range.Range object at 0x7f38c072fc10>, <TaPR_pkg.DataManage.Range.Range object at 0x7f38c377bd30>, <TaPR_pkg.DataManage.Range.Range object at 0x7f38c377ba90>, <TaPR_pkg.DataManage.Range.Range object at 0x7f38c377b7f0>, <TaPR_pkg.DataManage.Range.Range object at 0x7f38c377be80>, <TaPR_pkg.DataManage.Range.Range object at 0x7f38c377b8b0>, <TaPR_pkg.DataManage.Range.Range object at 0x7f38c377b0a0>, <TaPR_pkg.DataManage.Range.Range object at 0x7f38c377b1c0>, <TaPR_pkg.DataManage.Range.Range object at 0x7f38c377bac0>, <TaPR_pkg.DataManage.Range.Range object at 0x7f38c377b460>, <TaPR_pkg.DataManage.Range.Range object at 0x7f38c377b760>, <TaPR_pkg.DataManage.Range.Range object at 0x7f38c377ba30>, <TaPR_pkg.DataManage.Range.Range object at 0x7f38c0739820>]\n",
      "Threshold : 0.0303\n",
      "F1: 0.756 (TaP: 0.837, TaR: 0.688)\n",
      "# of detected anomalies: 31\n",
      "Detected anomalies: [<TaPR_pkg.DataManage.Range.Range object at 0x7f38c383e9d0>, <TaPR_pkg.DataManage.Range.Range object at 0x7f38c377bcd0>, <TaPR_pkg.DataManage.Range.Range object at 0x7f38c213f880>, <TaPR_pkg.DataManage.Range.Range object at 0x7f38c213fb20>, <TaPR_pkg.DataManage.Range.Range object at 0x7f38c214ab50>, <TaPR_pkg.DataManage.Range.Range object at 0x7f38c214afa0>, <TaPR_pkg.DataManage.Range.Range object at 0x7f38c214a970>, <TaPR_pkg.DataManage.Range.Range object at 0x7f38c214a4f0>, <TaPR_pkg.DataManage.Range.Range object at 0x7f38c07391f0>, <TaPR_pkg.DataManage.Range.Range object at 0x7f38c0739640>, <TaPR_pkg.DataManage.Range.Range object at 0x7f38c0739280>, <TaPR_pkg.DataManage.Range.Range object at 0x7f38c0739af0>, <TaPR_pkg.DataManage.Range.Range object at 0x7f38c0739940>, <TaPR_pkg.DataManage.Range.Range object at 0x7f38c0739760>, <TaPR_pkg.DataManage.Range.Range object at 0x7f38c0739ac0>, <TaPR_pkg.DataManage.Range.Range object at 0x7f38c0739790>, <TaPR_pkg.DataManage.Range.Range object at 0x7f38c07398e0>, <TaPR_pkg.DataManage.Range.Range object at 0x7f38c213f760>, <TaPR_pkg.DataManage.Range.Range object at 0x7f38c377bb50>, <TaPR_pkg.DataManage.Range.Range object at 0x7f38c0739f70>, <TaPR_pkg.DataManage.Range.Range object at 0x7f38c0739a30>, <TaPR_pkg.DataManage.Range.Range object at 0x7f38c072f190>, <TaPR_pkg.DataManage.Range.Range object at 0x7f38c072ff70>, <TaPR_pkg.DataManage.Range.Range object at 0x7f38bae9e8b0>, <TaPR_pkg.DataManage.Range.Range object at 0x7f38c38175b0>, <TaPR_pkg.DataManage.Range.Range object at 0x7f38c3817d30>, <TaPR_pkg.DataManage.Range.Range object at 0x7f38c3817ee0>, <TaPR_pkg.DataManage.Range.Range object at 0x7f38c383b6d0>, <TaPR_pkg.DataManage.Range.Range object at 0x7f38c383b5e0>, <TaPR_pkg.DataManage.Range.Range object at 0x7f38c383bdc0>, <TaPR_pkg.DataManage.Range.Range object at 0x7f38c383b760>]\n",
      "Threshold : 0.0304\n",
      "F1: 0.755 (TaP: 0.838, TaR: 0.688)\n",
      "# of detected anomalies: 31\n",
      "Detected anomalies: [<TaPR_pkg.DataManage.Range.Range object at 0x7f389086d400>, <TaPR_pkg.DataManage.Range.Range object at 0x7f389086de20>, <TaPR_pkg.DataManage.Range.Range object at 0x7f389085d250>, <TaPR_pkg.DataManage.Range.Range object at 0x7f38c3817b80>, <TaPR_pkg.DataManage.Range.Range object at 0x7f38c21397f0>, <TaPR_pkg.DataManage.Range.Range object at 0x7f38c2139a60>, <TaPR_pkg.DataManage.Range.Range object at 0x7f38c2139a90>, <TaPR_pkg.DataManage.Range.Range object at 0x7f39553dc280>, <TaPR_pkg.DataManage.Range.Range object at 0x7f38c1eed9d0>, <TaPR_pkg.DataManage.Range.Range object at 0x7f38c1eed970>, <TaPR_pkg.DataManage.Range.Range object at 0x7f38c1eedf10>, <TaPR_pkg.DataManage.Range.Range object at 0x7f38c1eed880>, <TaPR_pkg.DataManage.Range.Range object at 0x7f38bae9e520>, <TaPR_pkg.DataManage.Range.Range object at 0x7f38c377bd30>, <TaPR_pkg.DataManage.Range.Range object at 0x7f38c377ba90>, <TaPR_pkg.DataManage.Range.Range object at 0x7f38c377b7f0>, <TaPR_pkg.DataManage.Range.Range object at 0x7f38c377be80>, <TaPR_pkg.DataManage.Range.Range object at 0x7f38c377b0a0>, <TaPR_pkg.DataManage.Range.Range object at 0x7f38c377b1c0>, <TaPR_pkg.DataManage.Range.Range object at 0x7f38c377b460>, <TaPR_pkg.DataManage.Range.Range object at 0x7f38c377b760>, <TaPR_pkg.DataManage.Range.Range object at 0x7f38c214ab80>, <TaPR_pkg.DataManage.Range.Range object at 0x7f38c214a580>, <TaPR_pkg.DataManage.Range.Range object at 0x7f38c214a910>, <TaPR_pkg.DataManage.Range.Range object at 0x7f38c214af40>, <TaPR_pkg.DataManage.Range.Range object at 0x7f38c0739970>, <TaPR_pkg.DataManage.Range.Range object at 0x7f38c0739d00>, <TaPR_pkg.DataManage.Range.Range object at 0x7f38c0739c70>, <TaPR_pkg.DataManage.Range.Range object at 0x7f38c0739070>, <TaPR_pkg.DataManage.Range.Range object at 0x7f38c0739430>, <TaPR_pkg.DataManage.Range.Range object at 0x7f38c0739730>]\n",
      "Threshold : 0.0305\n",
      "F1: 0.755 (TaP: 0.838, TaR: 0.687)\n",
      "# of detected anomalies: 31\n",
      "Detected anomalies: [<TaPR_pkg.DataManage.Range.Range object at 0x7f389086d0a0>, <TaPR_pkg.DataManage.Range.Range object at 0x7f389086d700>, <TaPR_pkg.DataManage.Range.Range object at 0x7f38c0729d30>, <TaPR_pkg.DataManage.Range.Range object at 0x7f388229cd30>, <TaPR_pkg.DataManage.Range.Range object at 0x7f388229c190>, <TaPR_pkg.DataManage.Range.Range object at 0x7f388229c6a0>, <TaPR_pkg.DataManage.Range.Range object at 0x7f38c1edcaf0>, <TaPR_pkg.DataManage.Range.Range object at 0x7f38c1ef5c70>, <TaPR_pkg.DataManage.Range.Range object at 0x7f38c1eed400>, <TaPR_pkg.DataManage.Range.Range object at 0x7f38c1eed160>, <TaPR_pkg.DataManage.Range.Range object at 0x7f38c1eed8e0>, <TaPR_pkg.DataManage.Range.Range object at 0x7f38c1eed490>, <TaPR_pkg.DataManage.Range.Range object at 0x7f38c1eedb80>, <TaPR_pkg.DataManage.Range.Range object at 0x7f38c1eed3d0>, <TaPR_pkg.DataManage.Range.Range object at 0x7f38c1eedc70>, <TaPR_pkg.DataManage.Range.Range object at 0x7f3890864550>, <TaPR_pkg.DataManage.Range.Range object at 0x7f38c383e9d0>, <TaPR_pkg.DataManage.Range.Range object at 0x7f38c213fb20>, <TaPR_pkg.DataManage.Range.Range object at 0x7f38c377bb20>, <TaPR_pkg.DataManage.Range.Range object at 0x7f38c377ba30>, <TaPR_pkg.DataManage.Range.Range object at 0x7f38c377b550>, <TaPR_pkg.DataManage.Range.Range object at 0x7f38c0739b80>, <TaPR_pkg.DataManage.Range.Range object at 0x7f38c07391f0>, <TaPR_pkg.DataManage.Range.Range object at 0x7f38c0739640>, <TaPR_pkg.DataManage.Range.Range object at 0x7f38c0739280>, <TaPR_pkg.DataManage.Range.Range object at 0x7f38c0739af0>, <TaPR_pkg.DataManage.Range.Range object at 0x7f38c0739940>, <TaPR_pkg.DataManage.Range.Range object at 0x7f38c0739760>, <TaPR_pkg.DataManage.Range.Range object at 0x7f38c0739ac0>, <TaPR_pkg.DataManage.Range.Range object at 0x7f38c0739790>, <TaPR_pkg.DataManage.Range.Range object at 0x7f38c0739370>]\n",
      "Threshold : 0.0306\n",
      "F1: 0.756 (TaP: 0.839, TaR: 0.687)\n",
      "# of detected anomalies: 31\n",
      "Detected anomalies: [<TaPR_pkg.DataManage.Range.Range object at 0x7f38c383bc70>, <TaPR_pkg.DataManage.Range.Range object at 0x7f38c1ef5700>, <TaPR_pkg.DataManage.Range.Range object at 0x7f38c1ef50a0>, <TaPR_pkg.DataManage.Range.Range object at 0x7f38c3874f40>, <TaPR_pkg.DataManage.Range.Range object at 0x7f38c211ba90>, <TaPR_pkg.DataManage.Range.Range object at 0x7f38c072f9d0>, <TaPR_pkg.DataManage.Range.Range object at 0x7f38c072fbb0>, <TaPR_pkg.DataManage.Range.Range object at 0x7f38c1edcdc0>, <TaPR_pkg.DataManage.Range.Range object at 0x7f38c3874c40>, <TaPR_pkg.DataManage.Range.Range object at 0x7f38c1edc7f0>, <TaPR_pkg.DataManage.Range.Range object at 0x7f38c1edca60>, <TaPR_pkg.DataManage.Range.Range object at 0x7f38c1edcfd0>, <TaPR_pkg.DataManage.Range.Range object at 0x7f38c1edc070>, <TaPR_pkg.DataManage.Range.Range object at 0x7f38c1edcee0>, <TaPR_pkg.DataManage.Range.Range object at 0x7f38c1edc130>, <TaPR_pkg.DataManage.Range.Range object at 0x7f38c1edc2b0>, <TaPR_pkg.DataManage.Range.Range object at 0x7f3890864460>, <TaPR_pkg.DataManage.Range.Range object at 0x7f38bf72ba00>, <TaPR_pkg.DataManage.Range.Range object at 0x7f38bf72b6d0>, <TaPR_pkg.DataManage.Range.Range object at 0x7f38c1f011c0>, <TaPR_pkg.DataManage.Range.Range object at 0x7f38c0729880>, <TaPR_pkg.DataManage.Range.Range object at 0x7f38c0046340>, <TaPR_pkg.DataManage.Range.Range object at 0x7f389085d250>, <TaPR_pkg.DataManage.Range.Range object at 0x7f38c2139c70>, <TaPR_pkg.DataManage.Range.Range object at 0x7f38bd6ec3a0>, <TaPR_pkg.DataManage.Range.Range object at 0x7f38c21398b0>, <TaPR_pkg.DataManage.Range.Range object at 0x7f38c2139dc0>, <TaPR_pkg.DataManage.Range.Range object at 0x7f38c2139e50>, <TaPR_pkg.DataManage.Range.Range object at 0x7f38a7c1d430>, <TaPR_pkg.DataManage.Range.Range object at 0x7f39553dc280>, <TaPR_pkg.DataManage.Range.Range object at 0x7f38c1eeda30>]\n",
      "Threshold : 0.030699999999999998\n",
      "F1: 0.756 (TaP: 0.841, TaR: 0.687)\n",
      "# of detected anomalies: 31\n",
      "Detected anomalies: [<TaPR_pkg.DataManage.Range.Range object at 0x7f38c1f01250>, <TaPR_pkg.DataManage.Range.Range object at 0x7f395437ae50>, <TaPR_pkg.DataManage.Range.Range object at 0x7f38c383b880>, <TaPR_pkg.DataManage.Range.Range object at 0x7f38c072fc10>, <TaPR_pkg.DataManage.Range.Range object at 0x7f38c072fb20>, <TaPR_pkg.DataManage.Range.Range object at 0x7f38c072f370>, <TaPR_pkg.DataManage.Range.Range object at 0x7f38c072f7f0>, <TaPR_pkg.DataManage.Range.Range object at 0x7f38c3817d30>, <TaPR_pkg.DataManage.Range.Range object at 0x7f38c2139e80>, <TaPR_pkg.DataManage.Range.Range object at 0x7f38c2139f70>, <TaPR_pkg.DataManage.Range.Range object at 0x7f38c2139f40>, <TaPR_pkg.DataManage.Range.Range object at 0x7f38c214afa0>, <TaPR_pkg.DataManage.Range.Range object at 0x7f38c214ab50>, <TaPR_pkg.DataManage.Range.Range object at 0x7f38c214a3a0>, <TaPR_pkg.DataManage.Range.Range object at 0x7f38c214a3d0>, <TaPR_pkg.DataManage.Range.Range object at 0x7f38c214a4c0>, <TaPR_pkg.DataManage.Range.Range object at 0x7f38c214ac40>, <TaPR_pkg.DataManage.Range.Range object at 0x7f389086d160>, <TaPR_pkg.DataManage.Range.Range object at 0x7f389086d3a0>, <TaPR_pkg.DataManage.Range.Range object at 0x7f38c07295e0>, <TaPR_pkg.DataManage.Range.Range object at 0x7f38c0729160>, <TaPR_pkg.DataManage.Range.Range object at 0x7f38c0e99af0>, <TaPR_pkg.DataManage.Range.Range object at 0x7f388229c3d0>, <TaPR_pkg.DataManage.Range.Range object at 0x7f388229c2e0>, <TaPR_pkg.DataManage.Range.Range object at 0x7f38c1edc8e0>, <TaPR_pkg.DataManage.Range.Range object at 0x7f38c1edc430>, <TaPR_pkg.DataManage.Range.Range object at 0x7f38c1edcfa0>, <TaPR_pkg.DataManage.Range.Range object at 0x7f38c1edcaf0>, <TaPR_pkg.DataManage.Range.Range object at 0x7f3890864400>, <TaPR_pkg.DataManage.Range.Range object at 0x7f3890864520>, <TaPR_pkg.DataManage.Range.Range object at 0x7f38c377b1c0>]\n",
      "Threshold : 0.030799999999999998\n",
      "F1: 0.758 (TaP: 0.845, TaR: 0.687)\n",
      "# of detected anomalies: 31\n",
      "Detected anomalies: [<TaPR_pkg.DataManage.Range.Range object at 0x7f38c214a2b0>, <TaPR_pkg.DataManage.Range.Range object at 0x7f38c214a850>, <TaPR_pkg.DataManage.Range.Range object at 0x7f38c3817ee0>, <TaPR_pkg.DataManage.Range.Range object at 0x7f38c3817b50>, <TaPR_pkg.DataManage.Range.Range object at 0x7f38c3817b80>, <TaPR_pkg.DataManage.Range.Range object at 0x7f38c3817fa0>, <TaPR_pkg.DataManage.Range.Range object at 0x7f38c377b310>, <TaPR_pkg.DataManage.Range.Range object at 0x7f38c377ba90>, <TaPR_pkg.DataManage.Range.Range object at 0x7f38c377b760>, <TaPR_pkg.DataManage.Range.Range object at 0x7f38c377b8b0>, <TaPR_pkg.DataManage.Range.Range object at 0x7f38c377baf0>, <TaPR_pkg.DataManage.Range.Range object at 0x7f389086d700>, <TaPR_pkg.DataManage.Range.Range object at 0x7f389086d400>, <TaPR_pkg.DataManage.Range.Range object at 0x7f389086de20>, <TaPR_pkg.DataManage.Range.Range object at 0x7f389086d760>, <TaPR_pkg.DataManage.Range.Range object at 0x7f38c1ef53d0>, <TaPR_pkg.DataManage.Range.Range object at 0x7f38c1ef5ca0>, <TaPR_pkg.DataManage.Range.Range object at 0x7f38c211b6a0>, <TaPR_pkg.DataManage.Range.Range object at 0x7f38c072f4f0>, <TaPR_pkg.DataManage.Range.Range object at 0x7f38c072fbb0>, <TaPR_pkg.DataManage.Range.Range object at 0x7f38c3874f40>, <TaPR_pkg.DataManage.Range.Range object at 0x7f3890864430>, <TaPR_pkg.DataManage.Range.Range object at 0x7f38c07297f0>, <TaPR_pkg.DataManage.Range.Range object at 0x7f38c07297c0>, <TaPR_pkg.DataManage.Range.Range object at 0x7f38c0046250>, <TaPR_pkg.DataManage.Range.Range object at 0x7f38c0046400>, <TaPR_pkg.DataManage.Range.Range object at 0x7f38bd6ec3a0>, <TaPR_pkg.DataManage.Range.Range object at 0x7f38c1edca90>, <TaPR_pkg.DataManage.Range.Range object at 0x7f38c1edc7f0>, <TaPR_pkg.DataManage.Range.Range object at 0x7f38c1edca60>, <TaPR_pkg.DataManage.Range.Range object at 0x7f38c1edcfd0>]\n",
      "Threshold : 0.0309\n",
      "F1: 0.757 (TaP: 0.845, TaR: 0.686)\n",
      "# of detected anomalies: 31\n",
      "Detected anomalies: [<TaPR_pkg.DataManage.Range.Range object at 0x7f38c213f9a0>, <TaPR_pkg.DataManage.Range.Range object at 0x7f38bae9edc0>, <TaPR_pkg.DataManage.Range.Range object at 0x7f38c1eed160>, <TaPR_pkg.DataManage.Range.Range object at 0x7f38c1eed400>, <TaPR_pkg.DataManage.Range.Range object at 0x7f38c1eed040>, <TaPR_pkg.DataManage.Range.Range object at 0x7f38c1eed490>, <TaPR_pkg.DataManage.Range.Range object at 0x7f38c1eed970>, <TaPR_pkg.DataManage.Range.Range object at 0x7f38c07391f0>, <TaPR_pkg.DataManage.Range.Range object at 0x7f38c0739940>, <TaPR_pkg.DataManage.Range.Range object at 0x7f38c0739ac0>, <TaPR_pkg.DataManage.Range.Range object at 0x7f38c0739790>, <TaPR_pkg.DataManage.Range.Range object at 0x7f38c0739370>, <TaPR_pkg.DataManage.Range.Range object at 0x7f38c0739880>, <TaPR_pkg.DataManage.Range.Range object at 0x7f38c1f01250>, <TaPR_pkg.DataManage.Range.Range object at 0x7f38bab4d880>, <TaPR_pkg.DataManage.Range.Range object at 0x7f38d071b6d0>, <TaPR_pkg.DataManage.Range.Range object at 0x7f38c383b5e0>, <TaPR_pkg.DataManage.Range.Range object at 0x7f38c3817d30>, <TaPR_pkg.DataManage.Range.Range object at 0x7f38c2139fd0>, <TaPR_pkg.DataManage.Range.Range object at 0x7f38c2139040>, <TaPR_pkg.DataManage.Range.Range object at 0x7f38c2139cd0>, <TaPR_pkg.DataManage.Range.Range object at 0x7f389086d3a0>, <TaPR_pkg.DataManage.Range.Range object at 0x7f38c07295e0>, <TaPR_pkg.DataManage.Range.Range object at 0x7f38c0729160>, <TaPR_pkg.DataManage.Range.Range object at 0x7f38c0e99af0>, <TaPR_pkg.DataManage.Range.Range object at 0x7f388229c3d0>, <TaPR_pkg.DataManage.Range.Range object at 0x7f388229c2e0>, <TaPR_pkg.DataManage.Range.Range object at 0x7f38c1edc490>, <TaPR_pkg.DataManage.Range.Range object at 0x7f38c1edc8e0>, <TaPR_pkg.DataManage.Range.Range object at 0x7f38c1edc430>, <TaPR_pkg.DataManage.Range.Range object at 0x7f38c1edcfa0>]\n",
      "Threshold : 0.031\n",
      "F1: 0.757 (TaP: 0.845, TaR: 0.686)\n",
      "# of detected anomalies: 31\n",
      "Detected anomalies: [<TaPR_pkg.DataManage.Range.Range object at 0x7f38bae9e8b0>, <TaPR_pkg.DataManage.Range.Range object at 0x7f38c383bdc0>, <TaPR_pkg.DataManage.Range.Range object at 0x7f38c383bc70>, <TaPR_pkg.DataManage.Range.Range object at 0x7f38c2139640>, <TaPR_pkg.DataManage.Range.Range object at 0x7f38c2139c70>, <TaPR_pkg.DataManage.Range.Range object at 0x7f38c21398b0>, <TaPR_pkg.DataManage.Range.Range object at 0x7f38c2139d30>, <TaPR_pkg.DataManage.Range.Range object at 0x7f39553dc6d0>, <TaPR_pkg.DataManage.Range.Range object at 0x7f38c214ac40>, <TaPR_pkg.DataManage.Range.Range object at 0x7f38c214a910>, <TaPR_pkg.DataManage.Range.Range object at 0x7f38c214a610>, <TaPR_pkg.DataManage.Range.Range object at 0x7f38c214ab80>, <TaPR_pkg.DataManage.Range.Range object at 0x7f38c214a9d0>, <TaPR_pkg.DataManage.Range.Range object at 0x7f38c3817bb0>, <TaPR_pkg.DataManage.Range.Range object at 0x7f38c3817ee0>, <TaPR_pkg.DataManage.Range.Range object at 0x7f38c383b760>, <TaPR_pkg.DataManage.Range.Range object at 0x7f38c3817b80>, <TaPR_pkg.DataManage.Range.Range object at 0x7f389086d700>, <TaPR_pkg.DataManage.Range.Range object at 0x7f389086d400>, <TaPR_pkg.DataManage.Range.Range object at 0x7f389086d760>, <TaPR_pkg.DataManage.Range.Range object at 0x7f38c1ef53d0>, <TaPR_pkg.DataManage.Range.Range object at 0x7f38c211b6a0>, <TaPR_pkg.DataManage.Range.Range object at 0x7f38c38748e0>, <TaPR_pkg.DataManage.Range.Range object at 0x7f38c1f011c0>, <TaPR_pkg.DataManage.Range.Range object at 0x7f38c0729880>, <TaPR_pkg.DataManage.Range.Range object at 0x7f389085d250>, <TaPR_pkg.DataManage.Range.Range object at 0x7f38c0046340>, <TaPR_pkg.DataManage.Range.Range object at 0x7f38c0046730>, <TaPR_pkg.DataManage.Range.Range object at 0x7f38c1edc070>, <TaPR_pkg.DataManage.Range.Range object at 0x7f38c1edcee0>, <TaPR_pkg.DataManage.Range.Range object at 0x7f38c1edc2b0>]\n",
      "Threshold : 0.0311\n",
      "F1: 0.757 (TaP: 0.845, TaR: 0.686)\n",
      "# of detected anomalies: 31\n",
      "Detected anomalies: [<TaPR_pkg.DataManage.Range.Range object at 0x7f38c211bd30>, <TaPR_pkg.DataManage.Range.Range object at 0x7f3890864400>, <TaPR_pkg.DataManage.Range.Range object at 0x7f38c1ef5ca0>, <TaPR_pkg.DataManage.Range.Range object at 0x7f38c1ef5c70>, <TaPR_pkg.DataManage.Range.Range object at 0x7f3890864460>, <TaPR_pkg.DataManage.Range.Range object at 0x7f38bf72bf10>, <TaPR_pkg.DataManage.Range.Range object at 0x7f38c377b1c0>, <TaPR_pkg.DataManage.Range.Range object at 0x7f38c377b6a0>, <TaPR_pkg.DataManage.Range.Range object at 0x7f38c214afa0>, <TaPR_pkg.DataManage.Range.Range object at 0x7f38c214ab50>, <TaPR_pkg.DataManage.Range.Range object at 0x7f38c214a400>, <TaPR_pkg.DataManage.Range.Range object at 0x7f38c214a1f0>, <TaPR_pkg.DataManage.Range.Range object at 0x7f38c214a3a0>, <TaPR_pkg.DataManage.Range.Range object at 0x7f38bae9e520>, <TaPR_pkg.DataManage.Range.Range object at 0x7f38c1eedc70>, <TaPR_pkg.DataManage.Range.Range object at 0x7f38c1eed6a0>, <TaPR_pkg.DataManage.Range.Range object at 0x7f38c1eed160>, <TaPR_pkg.DataManage.Range.Range object at 0x7f38c1eed040>, <TaPR_pkg.DataManage.Range.Range object at 0x7f38c1eed490>, <TaPR_pkg.DataManage.Range.Range object at 0x7f38c1f01250>, <TaPR_pkg.DataManage.Range.Range object at 0x7f38bab4d880>, <TaPR_pkg.DataManage.Range.Range object at 0x7f38c383b5e0>, <TaPR_pkg.DataManage.Range.Range object at 0x7f38c38175b0>, <TaPR_pkg.DataManage.Range.Range object at 0x7f38c3817910>, <TaPR_pkg.DataManage.Range.Range object at 0x7f389086deb0>, <TaPR_pkg.DataManage.Range.Range object at 0x7f389086d550>, <TaPR_pkg.DataManage.Range.Range object at 0x7f389086d0a0>, <TaPR_pkg.DataManage.Range.Range object at 0x7f38c0729cd0>, <TaPR_pkg.DataManage.Range.Range object at 0x7f38c0729d30>, <TaPR_pkg.DataManage.Range.Range object at 0x7f388229cd30>, <TaPR_pkg.DataManage.Range.Range object at 0x7f388229c190>]\n",
      "Threshold : 0.0312\n",
      "F1: 0.757 (TaP: 0.845, TaR: 0.686)\n",
      "# of detected anomalies: 31\n",
      "Detected anomalies: [<TaPR_pkg.DataManage.Range.Range object at 0x7f38c383e9d0>, <TaPR_pkg.DataManage.Range.Range object at 0x7f38bf72b850>, <TaPR_pkg.DataManage.Range.Range object at 0x7f38c383b760>, <TaPR_pkg.DataManage.Range.Range object at 0x7f38c383bc70>, <TaPR_pkg.DataManage.Range.Range object at 0x7f38c214ab80>, <TaPR_pkg.DataManage.Range.Range object at 0x7f38c214a580>, <TaPR_pkg.DataManage.Range.Range object at 0x7f38c214a910>, <TaPR_pkg.DataManage.Range.Range object at 0x7f38c3817fa0>, <TaPR_pkg.DataManage.Range.Range object at 0x7f388229c610>, <TaPR_pkg.DataManage.Range.Range object at 0x7f38c1ef5700>, <TaPR_pkg.DataManage.Range.Range object at 0x7f38c1ef5190>, <TaPR_pkg.DataManage.Range.Range object at 0x7f38c1f011c0>, <TaPR_pkg.DataManage.Range.Range object at 0x7f38c3874f40>, <TaPR_pkg.DataManage.Range.Range object at 0x7f389085d250>, <TaPR_pkg.DataManage.Range.Range object at 0x7f38c0729880>, <TaPR_pkg.DataManage.Range.Range object at 0x7f38c0046340>, <TaPR_pkg.DataManage.Range.Range object at 0x7f38c0046730>, <TaPR_pkg.DataManage.Range.Range object at 0x7f38c1edcdc0>, <TaPR_pkg.DataManage.Range.Range object at 0x7f38c1edc4f0>, <TaPR_pkg.DataManage.Range.Range object at 0x7f38c1edcee0>, <TaPR_pkg.DataManage.Range.Range object at 0x7f38c1edc070>, <TaPR_pkg.DataManage.Range.Range object at 0x7f38c1edc550>, <TaPR_pkg.DataManage.Range.Range object at 0x7f38c1eed9d0>, <TaPR_pkg.DataManage.Range.Range object at 0x7f38c1eedf10>, <TaPR_pkg.DataManage.Range.Range object at 0x7f38c1eed970>, <TaPR_pkg.DataManage.Range.Range object at 0x7f38c1eed8e0>, <TaPR_pkg.DataManage.Range.Range object at 0x7f38c1eeda30>, <TaPR_pkg.DataManage.Range.Range object at 0x7f39553dc6d0>, <TaPR_pkg.DataManage.Range.Range object at 0x7f38c1eed8b0>, <TaPR_pkg.DataManage.Range.Range object at 0x7f38c377bc70>, <TaPR_pkg.DataManage.Range.Range object at 0x7f38c214af40>]\n",
      "Threshold : 0.0313\n",
      "F1: 0.757 (TaP: 0.845, TaR: 0.685)\n",
      "# of detected anomalies: 31\n",
      "Detected anomalies: [<TaPR_pkg.DataManage.Range.Range object at 0x7f38c004a790>, <TaPR_pkg.DataManage.Range.Range object at 0x7f39553dc8b0>, <TaPR_pkg.DataManage.Range.Range object at 0x7f38a7c1d0d0>, <TaPR_pkg.DataManage.Range.Range object at 0x7f38c3874c40>, <TaPR_pkg.DataManage.Range.Range object at 0x7f38c072ff70>, <TaPR_pkg.DataManage.Range.Range object at 0x7f38c21183a0>, <TaPR_pkg.DataManage.Range.Range object at 0x7f38c21180d0>, <TaPR_pkg.DataManage.Range.Range object at 0x7f38c1edc8b0>, <TaPR_pkg.DataManage.Range.Range object at 0x7f38c1edcb20>, <TaPR_pkg.DataManage.Range.Range object at 0x7f38c1edcbb0>, <TaPR_pkg.DataManage.Range.Range object at 0x7f38c1edcbe0>, <TaPR_pkg.DataManage.Range.Range object at 0x7f38c211b6a0>, <TaPR_pkg.DataManage.Range.Range object at 0x7f38c1ef50a0>, <TaPR_pkg.DataManage.Range.Range object at 0x7f38c1ef5820>, <TaPR_pkg.DataManage.Range.Range object at 0x7f38c1ef5940>, <TaPR_pkg.DataManage.Range.Range object at 0x7f38bf72ba00>, <TaPR_pkg.DataManage.Range.Range object at 0x7f38bf72bf10>, <TaPR_pkg.DataManage.Range.Range object at 0x7f38c214ab50>, <TaPR_pkg.DataManage.Range.Range object at 0x7f38c214a400>, <TaPR_pkg.DataManage.Range.Range object at 0x7f38c214a3a0>, <TaPR_pkg.DataManage.Range.Range object at 0x7f38bae9e520>, <TaPR_pkg.DataManage.Range.Range object at 0x7f38c1eed6a0>, <TaPR_pkg.DataManage.Range.Range object at 0x7f38c1eed160>, <TaPR_pkg.DataManage.Range.Range object at 0x7f38c1eed040>, <TaPR_pkg.DataManage.Range.Range object at 0x7f38c1eed490>, <TaPR_pkg.DataManage.Range.Range object at 0x7f38c1f01250>, <TaPR_pkg.DataManage.Range.Range object at 0x7f38bab4d880>, <TaPR_pkg.DataManage.Range.Range object at 0x7f38c383bb20>, <TaPR_pkg.DataManage.Range.Range object at 0x7f38c383b880>, <TaPR_pkg.DataManage.Range.Range object at 0x7f38c3817bb0>, <TaPR_pkg.DataManage.Range.Range object at 0x7f38bd6e8cd0>]\n",
      "Threshold : 0.0314\n",
      "F1: 0.757 (TaP: 0.845, TaR: 0.685)\n",
      "# of detected anomalies: 31\n",
      "Detected anomalies: [<TaPR_pkg.DataManage.Range.Range object at 0x7f38c2139f70>, <TaPR_pkg.DataManage.Range.Range object at 0x7f38c2139e50>, <TaPR_pkg.DataManage.Range.Range object at 0x7f38c2139e80>, <TaPR_pkg.DataManage.Range.Range object at 0x7f38c2135610>, <TaPR_pkg.DataManage.Range.Range object at 0x7f38c2135460>, <TaPR_pkg.DataManage.Range.Range object at 0x7f38c21355b0>, <TaPR_pkg.DataManage.Range.Range object at 0x7f38c2135310>, <TaPR_pkg.DataManage.Range.Range object at 0x7f38c21350a0>, <TaPR_pkg.DataManage.Range.Range object at 0x7f38c072fdf0>, <TaPR_pkg.DataManage.Range.Range object at 0x7f38c072f190>, <TaPR_pkg.DataManage.Range.Range object at 0x7f38c072fb80>, <TaPR_pkg.DataManage.Range.Range object at 0x7f38c072f880>, <TaPR_pkg.DataManage.Range.Range object at 0x7f38c072f1f0>, <TaPR_pkg.DataManage.Range.Range object at 0x7f38c383e9d0>, <TaPR_pkg.DataManage.Range.Range object at 0x7f38c0e99ee0>, <TaPR_pkg.DataManage.Range.Range object at 0x7f38c383b6d0>, <TaPR_pkg.DataManage.Range.Range object at 0x7f38c383bdc0>, <TaPR_pkg.DataManage.Range.Range object at 0x7f38c1ef53d0>, <TaPR_pkg.DataManage.Range.Range object at 0x7f38c1f011c0>, <TaPR_pkg.DataManage.Range.Range object at 0x7f38c07297f0>, <TaPR_pkg.DataManage.Range.Range object at 0x7f38c0046340>, <TaPR_pkg.DataManage.Range.Range object at 0x7f38c2139640>, <TaPR_pkg.DataManage.Range.Range object at 0x7f38c38174f0>, <TaPR_pkg.DataManage.Range.Range object at 0x7f38c3817fa0>, <TaPR_pkg.DataManage.Range.Range object at 0x7f38c1eedc70>, <TaPR_pkg.DataManage.Range.Range object at 0x7f38c1eedf10>, <TaPR_pkg.DataManage.Range.Range object at 0x7f38c1eed9d0>, <TaPR_pkg.DataManage.Range.Range object at 0x7f38c1eed610>, <TaPR_pkg.DataManage.Range.Range object at 0x7f38c1eed400>, <TaPR_pkg.DataManage.Range.Range object at 0x7f38c1eedd90>, <TaPR_pkg.DataManage.Range.Range object at 0x7f38c1eed2b0>]\n"
     ]
    }
   ],
   "source": [
    "for i in range(0,15):\n",
    "    THRESHOLD = 0.03+i*0.0001\n",
    "    LABELS = put_labels(ANOMALY_SCORE_smooth, THRESHOLD)\n",
    "    FINAL_LABELS = fill_blank(CHECK_TS, LABELS, np.array(TEST_DF_RAW[TIMESTAMP_FIELD]))\n",
    "    TaPR = etapr.evaluate_haicon(anomalies=ATTACK_LABELS, predictions=FINAL_LABELS)\n",
    "    print(f\"Threshold : {THRESHOLD}\")\n",
    "    print(f\"F1: {TaPR['f1']:.3f} (TaP: {TaPR['TaP']:.3f}, TaR: {TaPR['TaR']:.3f})\")\n",
    "    print(f\"# of detected anomalies: {len(TaPR['Detected_Anomalies'])}\")\n",
    "    print(f\"Detected anomalies: {TaPR['Detected_Anomalies']}\")"
   ]
  },
  {
   "cell_type": "code",
   "execution_count": null,
   "metadata": {
    "id": "19XR3DS5SQSA"
   },
   "outputs": [],
   "source": []
  },
  {
   "cell_type": "code",
   "execution_count": 42,
   "metadata": {
    "id": "Y4aMcyqIz0Su"
   },
   "outputs": [],
   "source": [
    "submission = pd.read_csv('/content/drive/MyDrive/HAI/sample_submission.csv')\n",
    "submission.index = submission['timestamp']\n",
    "submission['attack'] = FINAL_LABELS"
   ]
  },
  {
   "cell_type": "code",
   "execution_count": 43,
   "metadata": {
    "colab": {
     "base_uri": "https://localhost:8080/"
    },
    "id": "vaphCq1bSRlX",
    "outputId": "b22b1459-9dab-49f7-96c1-4868465aa39f"
   },
   "outputs": [
    {
     "data": {
      "text/plain": [
       "0    430767\n",
       "1     13833\n",
       "Name: attack, dtype: int64"
      ]
     },
     "execution_count": 43,
     "metadata": {},
     "output_type": "execute_result"
    }
   ],
   "source": [
    "submission['attack'].value_counts()"
   ]
  },
  {
   "cell_type": "code",
   "execution_count": 44,
   "metadata": {
    "colab": {
     "base_uri": "https://localhost:8080/"
    },
    "id": "3rUVH6siz1pr",
    "outputId": "af03da35-9016-402d-c3a4-47bb1a2d5b8d"
   },
   "outputs": [
    {
     "data": {
      "text/plain": [
       "0    430767\n",
       "1     13833\n",
       "Name: attack, dtype: int64"
      ]
     },
     "execution_count": 44,
     "metadata": {},
     "output_type": "execute_result"
    }
   ],
   "source": [
    "submission['attack'].value_counts()"
   ]
  },
  {
   "cell_type": "code",
   "execution_count": 45,
   "metadata": {
    "id": "GJG5pGCqzo7u"
   },
   "outputs": [],
   "source": [
    "submission.to_csv('stackedGRU758.csv', index=False)"
   ]
  },
  {
   "cell_type": "code",
   "execution_count": null,
   "metadata": {
    "id": "ZpGTYPkMzifa"
   },
   "outputs": [],
   "source": []
  },
  {
   "cell_type": "code",
   "execution_count": null,
   "metadata": {
    "id": "TXRVvtkUzihp"
   },
   "outputs": [],
   "source": []
  },
  {
   "cell_type": "code",
   "execution_count": null,
   "metadata": {
    "id": "wqO9VZiWzijo"
   },
   "outputs": [],
   "source": []
  },
  {
   "cell_type": "code",
   "execution_count": null,
   "metadata": {
    "id": "rD6t6Hp1zimx"
   },
   "outputs": [],
   "source": []
  }
 ],
 "metadata": {
  "accelerator": "GPU",
  "colab": {
   "provenance": []
  },
  "gpuClass": "standard",
  "kernelspec": {
   "display_name": "Python 3 (ipykernel)",
   "language": "python",
   "name": "python3"
  },
  "language_info": {
   "codemirror_mode": {
    "name": "ipython",
    "version": 3
   },
   "file_extension": ".py",
   "mimetype": "text/x-python",
   "name": "python",
   "nbconvert_exporter": "python",
   "pygments_lexer": "ipython3",
   "version": "3.9.12"
  },
  "widgets": {
   "application/vnd.jupyter.widget-state+json": {
    "02eae71345eb44b0b118a1494d9520c5": {
     "model_module": "@jupyter-widgets/base",
     "model_module_version": "1.2.0",
     "model_name": "LayoutModel",
     "state": {
      "_model_module": "@jupyter-widgets/base",
      "_model_module_version": "1.2.0",
      "_model_name": "LayoutModel",
      "_view_count": null,
      "_view_module": "@jupyter-widgets/base",
      "_view_module_version": "1.2.0",
      "_view_name": "LayoutView",
      "align_content": null,
      "align_items": null,
      "align_self": null,
      "border": null,
      "bottom": null,
      "display": null,
      "flex": null,
      "flex_flow": null,
      "grid_area": null,
      "grid_auto_columns": null,
      "grid_auto_flow": null,
      "grid_auto_rows": null,
      "grid_column": null,
      "grid_gap": null,
      "grid_row": null,
      "grid_template_areas": null,
      "grid_template_columns": null,
      "grid_template_rows": null,
      "height": null,
      "justify_content": null,
      "justify_items": null,
      "left": null,
      "margin": null,
      "max_height": null,
      "max_width": null,
      "min_height": null,
      "min_width": null,
      "object_fit": null,
      "object_position": null,
      "order": null,
      "overflow": null,
      "overflow_x": null,
      "overflow_y": null,
      "padding": null,
      "right": null,
      "top": null,
      "visibility": null,
      "width": null
     }
    },
    "033487d29680469696403aadf556bfa9": {
     "model_module": "@jupyter-widgets/base",
     "model_module_version": "1.2.0",
     "model_name": "LayoutModel",
     "state": {
      "_model_module": "@jupyter-widgets/base",
      "_model_module_version": "1.2.0",
      "_model_name": "LayoutModel",
      "_view_count": null,
      "_view_module": "@jupyter-widgets/base",
      "_view_module_version": "1.2.0",
      "_view_name": "LayoutView",
      "align_content": null,
      "align_items": null,
      "align_self": null,
      "border": null,
      "bottom": null,
      "display": null,
      "flex": null,
      "flex_flow": null,
      "grid_area": null,
      "grid_auto_columns": null,
      "grid_auto_flow": null,
      "grid_auto_rows": null,
      "grid_column": null,
      "grid_gap": null,
      "grid_row": null,
      "grid_template_areas": null,
      "grid_template_columns": null,
      "grid_template_rows": null,
      "height": null,
      "justify_content": null,
      "justify_items": null,
      "left": null,
      "margin": null,
      "max_height": null,
      "max_width": null,
      "min_height": null,
      "min_width": null,
      "object_fit": null,
      "object_position": null,
      "order": null,
      "overflow": null,
      "overflow_x": null,
      "overflow_y": null,
      "padding": null,
      "right": null,
      "top": null,
      "visibility": null,
      "width": null
     }
    },
    "03f3b029abdc4f3faf7ae1f210dea12a": {
     "model_module": "@jupyter-widgets/controls",
     "model_module_version": "1.5.0",
     "model_name": "DescriptionStyleModel",
     "state": {
      "_model_module": "@jupyter-widgets/controls",
      "_model_module_version": "1.5.0",
      "_model_name": "DescriptionStyleModel",
      "_view_count": null,
      "_view_module": "@jupyter-widgets/base",
      "_view_module_version": "1.2.0",
      "_view_name": "StyleView",
      "description_width": ""
     }
    },
    "19e34a7dfa2a4dfc8aff702ab2774418": {
     "model_module": "@jupyter-widgets/controls",
     "model_module_version": "1.5.0",
     "model_name": "HTMLModel",
     "state": {
      "_dom_classes": [],
      "_model_module": "@jupyter-widgets/controls",
      "_model_module_version": "1.5.0",
      "_model_name": "HTMLModel",
      "_view_count": null,
      "_view_module": "@jupyter-widgets/controls",
      "_view_module_version": "1.5.0",
      "_view_name": "HTMLView",
      "description": "",
      "description_tooltip": null,
      "layout": "IPY_MODEL_558b1241c82c4a0d9b2743c1f7ccbd85",
      "placeholder": "​",
      "style": "IPY_MODEL_d09e52d4f3044403bb626c0234681132",
      "value": "training: 100%"
     }
    },
    "1ae157c9224b4d5aa7234df50896ad49": {
     "model_module": "@jupyter-widgets/base",
     "model_module_version": "1.2.0",
     "model_name": "LayoutModel",
     "state": {
      "_model_module": "@jupyter-widgets/base",
      "_model_module_version": "1.2.0",
      "_model_name": "LayoutModel",
      "_view_count": null,
      "_view_module": "@jupyter-widgets/base",
      "_view_module_version": "1.2.0",
      "_view_name": "LayoutView",
      "align_content": null,
      "align_items": null,
      "align_self": null,
      "border": null,
      "bottom": null,
      "display": null,
      "flex": null,
      "flex_flow": null,
      "grid_area": null,
      "grid_auto_columns": null,
      "grid_auto_flow": null,
      "grid_auto_rows": null,
      "grid_column": null,
      "grid_gap": null,
      "grid_row": null,
      "grid_template_areas": null,
      "grid_template_columns": null,
      "grid_template_rows": null,
      "height": null,
      "justify_content": null,
      "justify_items": null,
      "left": null,
      "margin": null,
      "max_height": null,
      "max_width": null,
      "min_height": null,
      "min_width": null,
      "object_fit": null,
      "object_position": null,
      "order": null,
      "overflow": null,
      "overflow_x": null,
      "overflow_y": null,
      "padding": null,
      "right": null,
      "top": null,
      "visibility": null,
      "width": null
     }
    },
    "1b77ff89e7b94630a8cb40bf01af1bcd": {
     "model_module": "@jupyter-widgets/controls",
     "model_module_version": "1.5.0",
     "model_name": "DescriptionStyleModel",
     "state": {
      "_model_module": "@jupyter-widgets/controls",
      "_model_module_version": "1.5.0",
      "_model_name": "DescriptionStyleModel",
      "_view_count": null,
      "_view_module": "@jupyter-widgets/base",
      "_view_module_version": "1.2.0",
      "_view_name": "StyleView",
      "description_width": ""
     }
    },
    "1e3c0a528a854994a55f0f9219230a1a": {
     "model_module": "@jupyter-widgets/base",
     "model_module_version": "1.2.0",
     "model_name": "LayoutModel",
     "state": {
      "_model_module": "@jupyter-widgets/base",
      "_model_module_version": "1.2.0",
      "_model_name": "LayoutModel",
      "_view_count": null,
      "_view_module": "@jupyter-widgets/base",
      "_view_module_version": "1.2.0",
      "_view_name": "LayoutView",
      "align_content": null,
      "align_items": null,
      "align_self": null,
      "border": null,
      "bottom": null,
      "display": null,
      "flex": null,
      "flex_flow": null,
      "grid_area": null,
      "grid_auto_columns": null,
      "grid_auto_flow": null,
      "grid_auto_rows": null,
      "grid_column": null,
      "grid_gap": null,
      "grid_row": null,
      "grid_template_areas": null,
      "grid_template_columns": null,
      "grid_template_rows": null,
      "height": null,
      "justify_content": null,
      "justify_items": null,
      "left": null,
      "margin": null,
      "max_height": null,
      "max_width": null,
      "min_height": null,
      "min_width": null,
      "object_fit": null,
      "object_position": null,
      "order": null,
      "overflow": null,
      "overflow_x": null,
      "overflow_y": null,
      "padding": null,
      "right": null,
      "top": null,
      "visibility": null,
      "width": null
     }
    },
    "1ea6fca5affb4177997dd46e195bd915": {
     "model_module": "@jupyter-widgets/controls",
     "model_module_version": "1.5.0",
     "model_name": "HTMLModel",
     "state": {
      "_dom_classes": [],
      "_model_module": "@jupyter-widgets/controls",
      "_model_module_version": "1.5.0",
      "_model_name": "HTMLModel",
      "_view_count": null,
      "_view_module": "@jupyter-widgets/controls",
      "_view_module_version": "1.5.0",
      "_view_name": "HTMLView",
      "description": "",
      "description_tooltip": null,
      "layout": "IPY_MODEL_2d52577d53d44ae99ec5e8c4a2e1c3c5",
      "placeholder": "​",
      "style": "IPY_MODEL_3d860899755a4e6388c1e7690f59da10",
      "value": "100%"
     }
    },
    "22333938f0f4495db7bd80a8c8af6869": {
     "model_module": "@jupyter-widgets/base",
     "model_module_version": "1.2.0",
     "model_name": "LayoutModel",
     "state": {
      "_model_module": "@jupyter-widgets/base",
      "_model_module_version": "1.2.0",
      "_model_name": "LayoutModel",
      "_view_count": null,
      "_view_module": "@jupyter-widgets/base",
      "_view_module_version": "1.2.0",
      "_view_name": "LayoutView",
      "align_content": null,
      "align_items": null,
      "align_self": null,
      "border": null,
      "bottom": null,
      "display": null,
      "flex": null,
      "flex_flow": null,
      "grid_area": null,
      "grid_auto_columns": null,
      "grid_auto_flow": null,
      "grid_auto_rows": null,
      "grid_column": null,
      "grid_gap": null,
      "grid_row": null,
      "grid_template_areas": null,
      "grid_template_columns": null,
      "grid_template_rows": null,
      "height": null,
      "justify_content": null,
      "justify_items": null,
      "left": null,
      "margin": null,
      "max_height": null,
      "max_width": null,
      "min_height": null,
      "min_width": null,
      "object_fit": null,
      "object_position": null,
      "order": null,
      "overflow": null,
      "overflow_x": null,
      "overflow_y": null,
      "padding": null,
      "right": null,
      "top": null,
      "visibility": null,
      "width": null
     }
    },
    "2d52577d53d44ae99ec5e8c4a2e1c3c5": {
     "model_module": "@jupyter-widgets/base",
     "model_module_version": "1.2.0",
     "model_name": "LayoutModel",
     "state": {
      "_model_module": "@jupyter-widgets/base",
      "_model_module_version": "1.2.0",
      "_model_name": "LayoutModel",
      "_view_count": null,
      "_view_module": "@jupyter-widgets/base",
      "_view_module_version": "1.2.0",
      "_view_name": "LayoutView",
      "align_content": null,
      "align_items": null,
      "align_self": null,
      "border": null,
      "bottom": null,
      "display": null,
      "flex": null,
      "flex_flow": null,
      "grid_area": null,
      "grid_auto_columns": null,
      "grid_auto_flow": null,
      "grid_auto_rows": null,
      "grid_column": null,
      "grid_gap": null,
      "grid_row": null,
      "grid_template_areas": null,
      "grid_template_columns": null,
      "grid_template_rows": null,
      "height": null,
      "justify_content": null,
      "justify_items": null,
      "left": null,
      "margin": null,
      "max_height": null,
      "max_width": null,
      "min_height": null,
      "min_width": null,
      "object_fit": null,
      "object_position": null,
      "order": null,
      "overflow": null,
      "overflow_x": null,
      "overflow_y": null,
      "padding": null,
      "right": null,
      "top": null,
      "visibility": null,
      "width": null
     }
    },
    "2dd72abdcfe648a98fc0986adfc39160": {
     "model_module": "@jupyter-widgets/controls",
     "model_module_version": "1.5.0",
     "model_name": "HTMLModel",
     "state": {
      "_dom_classes": [],
      "_model_module": "@jupyter-widgets/controls",
      "_model_module_version": "1.5.0",
      "_model_name": "HTMLModel",
      "_view_count": null,
      "_view_module": "@jupyter-widgets/controls",
      "_view_module_version": "1.5.0",
      "_view_name": "HTMLView",
      "description": "",
      "description_tooltip": null,
      "layout": "IPY_MODEL_cbd7392b1fb94faa93b861e1ebee1cab",
      "placeholder": "​",
      "style": "IPY_MODEL_03f3b029abdc4f3faf7ae1f210dea12a",
      "value": " 32/32 [14:21&lt;00:00, 26.78s/it, loss: 0.681583]"
     }
    },
    "39c2987e4b53476083353193730d57bb": {
     "model_module": "@jupyter-widgets/controls",
     "model_module_version": "1.5.0",
     "model_name": "FloatProgressModel",
     "state": {
      "_dom_classes": [],
      "_model_module": "@jupyter-widgets/controls",
      "_model_module_version": "1.5.0",
      "_model_name": "FloatProgressModel",
      "_view_count": null,
      "_view_module": "@jupyter-widgets/controls",
      "_view_module_version": "1.5.0",
      "_view_name": "ProgressView",
      "bar_style": "success",
      "description": "",
      "description_tooltip": null,
      "layout": "IPY_MODEL_b03bde54734942c8a3c2a7b1e7bf3a42",
      "max": 550791,
      "min": 0,
      "orientation": "horizontal",
      "style": "IPY_MODEL_d5673424288340979c0852b6b5412c27",
      "value": 550791
     }
    },
    "3d860899755a4e6388c1e7690f59da10": {
     "model_module": "@jupyter-widgets/controls",
     "model_module_version": "1.5.0",
     "model_name": "DescriptionStyleModel",
     "state": {
      "_model_module": "@jupyter-widgets/controls",
      "_model_module_version": "1.5.0",
      "_model_name": "DescriptionStyleModel",
      "_view_count": null,
      "_view_module": "@jupyter-widgets/base",
      "_view_module_version": "1.2.0",
      "_view_name": "StyleView",
      "description_width": ""
     }
    },
    "5128e49439fa4639b325548f363be20c": {
     "model_module": "@jupyter-widgets/base",
     "model_module_version": "1.2.0",
     "model_name": "LayoutModel",
     "state": {
      "_model_module": "@jupyter-widgets/base",
      "_model_module_version": "1.2.0",
      "_model_name": "LayoutModel",
      "_view_count": null,
      "_view_module": "@jupyter-widgets/base",
      "_view_module_version": "1.2.0",
      "_view_name": "LayoutView",
      "align_content": null,
      "align_items": null,
      "align_self": null,
      "border": null,
      "bottom": null,
      "display": null,
      "flex": null,
      "flex_flow": null,
      "grid_area": null,
      "grid_auto_columns": null,
      "grid_auto_flow": null,
      "grid_auto_rows": null,
      "grid_column": null,
      "grid_gap": null,
      "grid_row": null,
      "grid_template_areas": null,
      "grid_template_columns": null,
      "grid_template_rows": null,
      "height": null,
      "justify_content": null,
      "justify_items": null,
      "left": null,
      "margin": null,
      "max_height": null,
      "max_width": null,
      "min_height": null,
      "min_width": null,
      "object_fit": null,
      "object_position": null,
      "order": null,
      "overflow": null,
      "overflow_x": null,
      "overflow_y": null,
      "padding": null,
      "right": null,
      "top": null,
      "visibility": null,
      "width": null
     }
    },
    "52ef8d3454b34079baff3871807cd8fb": {
     "model_module": "@jupyter-widgets/controls",
     "model_module_version": "1.5.0",
     "model_name": "FloatProgressModel",
     "state": {
      "_dom_classes": [],
      "_model_module": "@jupyter-widgets/controls",
      "_model_module_version": "1.5.0",
      "_model_name": "FloatProgressModel",
      "_view_count": null,
      "_view_module": "@jupyter-widgets/controls",
      "_view_module_version": "1.5.0",
      "_view_name": "ProgressView",
      "bar_style": "success",
      "description": "",
      "description_tooltip": null,
      "layout": "IPY_MODEL_5128e49439fa4639b325548f363be20c",
      "max": 32,
      "min": 0,
      "orientation": "horizontal",
      "style": "IPY_MODEL_6e37a2bcf1c6442f8ba166af87d23fef",
      "value": 32
     }
    },
    "558b1241c82c4a0d9b2743c1f7ccbd85": {
     "model_module": "@jupyter-widgets/base",
     "model_module_version": "1.2.0",
     "model_name": "LayoutModel",
     "state": {
      "_model_module": "@jupyter-widgets/base",
      "_model_module_version": "1.2.0",
      "_model_name": "LayoutModel",
      "_view_count": null,
      "_view_module": "@jupyter-widgets/base",
      "_view_module_version": "1.2.0",
      "_view_name": "LayoutView",
      "align_content": null,
      "align_items": null,
      "align_self": null,
      "border": null,
      "bottom": null,
      "display": null,
      "flex": null,
      "flex_flow": null,
      "grid_area": null,
      "grid_auto_columns": null,
      "grid_auto_flow": null,
      "grid_auto_rows": null,
      "grid_column": null,
      "grid_gap": null,
      "grid_row": null,
      "grid_template_areas": null,
      "grid_template_columns": null,
      "grid_template_rows": null,
      "height": null,
      "justify_content": null,
      "justify_items": null,
      "left": null,
      "margin": null,
      "max_height": null,
      "max_width": null,
      "min_height": null,
      "min_width": null,
      "object_fit": null,
      "object_position": null,
      "order": null,
      "overflow": null,
      "overflow_x": null,
      "overflow_y": null,
      "padding": null,
      "right": null,
      "top": null,
      "visibility": null,
      "width": null
     }
    },
    "657a266eb8514fbaad1fe49af96f338e": {
     "model_module": "@jupyter-widgets/controls",
     "model_module_version": "1.5.0",
     "model_name": "HTMLModel",
     "state": {
      "_dom_classes": [],
      "_model_module": "@jupyter-widgets/controls",
      "_model_module_version": "1.5.0",
      "_model_name": "HTMLModel",
      "_view_count": null,
      "_view_module": "@jupyter-widgets/controls",
      "_view_module_version": "1.5.0",
      "_view_name": "HTMLView",
      "description": "",
      "description_tooltip": null,
      "layout": "IPY_MODEL_1ae157c9224b4d5aa7234df50896ad49",
      "placeholder": "​",
      "style": "IPY_MODEL_1b77ff89e7b94630a8cb40bf01af1bcd",
      "value": " 444591/444591 [00:54&lt;00:00, 8288.77it/s]"
     }
    },
    "6e37a2bcf1c6442f8ba166af87d23fef": {
     "model_module": "@jupyter-widgets/controls",
     "model_module_version": "1.5.0",
     "model_name": "ProgressStyleModel",
     "state": {
      "_model_module": "@jupyter-widgets/controls",
      "_model_module_version": "1.5.0",
      "_model_name": "ProgressStyleModel",
      "_view_count": null,
      "_view_module": "@jupyter-widgets/base",
      "_view_module_version": "1.2.0",
      "_view_name": "StyleView",
      "bar_color": null,
      "description_width": ""
     }
    },
    "7f2903eacc174ce3a4a904467051925f": {
     "model_module": "@jupyter-widgets/controls",
     "model_module_version": "1.5.0",
     "model_name": "HBoxModel",
     "state": {
      "_dom_classes": [],
      "_model_module": "@jupyter-widgets/controls",
      "_model_module_version": "1.5.0",
      "_model_name": "HBoxModel",
      "_view_count": null,
      "_view_module": "@jupyter-widgets/controls",
      "_view_module_version": "1.5.0",
      "_view_name": "HBoxView",
      "box_style": "",
      "children": [
       "IPY_MODEL_19e34a7dfa2a4dfc8aff702ab2774418",
       "IPY_MODEL_52ef8d3454b34079baff3871807cd8fb",
       "IPY_MODEL_2dd72abdcfe648a98fc0986adfc39160"
      ],
      "layout": "IPY_MODEL_22333938f0f4495db7bd80a8c8af6869"
     }
    },
    "820a84a3c40e4a6ba941bf9f8692cccc": {
     "model_module": "@jupyter-widgets/controls",
     "model_module_version": "1.5.0",
     "model_name": "DescriptionStyleModel",
     "state": {
      "_model_module": "@jupyter-widgets/controls",
      "_model_module_version": "1.5.0",
      "_model_name": "DescriptionStyleModel",
      "_view_count": null,
      "_view_module": "@jupyter-widgets/base",
      "_view_module_version": "1.2.0",
      "_view_name": "StyleView",
      "description_width": ""
     }
    },
    "b03bde54734942c8a3c2a7b1e7bf3a42": {
     "model_module": "@jupyter-widgets/base",
     "model_module_version": "1.2.0",
     "model_name": "LayoutModel",
     "state": {
      "_model_module": "@jupyter-widgets/base",
      "_model_module_version": "1.2.0",
      "_model_name": "LayoutModel",
      "_view_count": null,
      "_view_module": "@jupyter-widgets/base",
      "_view_module_version": "1.2.0",
      "_view_name": "LayoutView",
      "align_content": null,
      "align_items": null,
      "align_self": null,
      "border": null,
      "bottom": null,
      "display": null,
      "flex": null,
      "flex_flow": null,
      "grid_area": null,
      "grid_auto_columns": null,
      "grid_auto_flow": null,
      "grid_auto_rows": null,
      "grid_column": null,
      "grid_gap": null,
      "grid_row": null,
      "grid_template_areas": null,
      "grid_template_columns": null,
      "grid_template_rows": null,
      "height": null,
      "justify_content": null,
      "justify_items": null,
      "left": null,
      "margin": null,
      "max_height": null,
      "max_width": null,
      "min_height": null,
      "min_width": null,
      "object_fit": null,
      "object_position": null,
      "order": null,
      "overflow": null,
      "overflow_x": null,
      "overflow_y": null,
      "padding": null,
      "right": null,
      "top": null,
      "visibility": null,
      "width": null
     }
    },
    "bd5490a41d214e54971050368796110b": {
     "model_module": "@jupyter-widgets/controls",
     "model_module_version": "1.5.0",
     "model_name": "HBoxModel",
     "state": {
      "_dom_classes": [],
      "_model_module": "@jupyter-widgets/controls",
      "_model_module_version": "1.5.0",
      "_model_name": "HBoxModel",
      "_view_count": null,
      "_view_module": "@jupyter-widgets/controls",
      "_view_module_version": "1.5.0",
      "_view_name": "HBoxView",
      "box_style": "",
      "children": [
       "IPY_MODEL_1ea6fca5affb4177997dd46e195bd915",
       "IPY_MODEL_39c2987e4b53476083353193730d57bb",
       "IPY_MODEL_f7f83cab0d814e229efcc2a790bc9cb3"
      ],
      "layout": "IPY_MODEL_dd65f74ed9ed4598b6fa95f63b6051de"
     }
    },
    "bdb5c54014c34307a21320a441d694fc": {
     "model_module": "@jupyter-widgets/controls",
     "model_module_version": "1.5.0",
     "model_name": "HTMLModel",
     "state": {
      "_dom_classes": [],
      "_model_module": "@jupyter-widgets/controls",
      "_model_module_version": "1.5.0",
      "_model_name": "HTMLModel",
      "_view_count": null,
      "_view_module": "@jupyter-widgets/controls",
      "_view_module_version": "1.5.0",
      "_view_name": "HTMLView",
      "description": "",
      "description_tooltip": null,
      "layout": "IPY_MODEL_bfbf09ce00ef4ba1af87fc8e954621cf",
      "placeholder": "​",
      "style": "IPY_MODEL_820a84a3c40e4a6ba941bf9f8692cccc",
      "value": "100%"
     }
    },
    "bfbf09ce00ef4ba1af87fc8e954621cf": {
     "model_module": "@jupyter-widgets/base",
     "model_module_version": "1.2.0",
     "model_name": "LayoutModel",
     "state": {
      "_model_module": "@jupyter-widgets/base",
      "_model_module_version": "1.2.0",
      "_model_name": "LayoutModel",
      "_view_count": null,
      "_view_module": "@jupyter-widgets/base",
      "_view_module_version": "1.2.0",
      "_view_name": "LayoutView",
      "align_content": null,
      "align_items": null,
      "align_self": null,
      "border": null,
      "bottom": null,
      "display": null,
      "flex": null,
      "flex_flow": null,
      "grid_area": null,
      "grid_auto_columns": null,
      "grid_auto_flow": null,
      "grid_auto_rows": null,
      "grid_column": null,
      "grid_gap": null,
      "grid_row": null,
      "grid_template_areas": null,
      "grid_template_columns": null,
      "grid_template_rows": null,
      "height": null,
      "justify_content": null,
      "justify_items": null,
      "left": null,
      "margin": null,
      "max_height": null,
      "max_width": null,
      "min_height": null,
      "min_width": null,
      "object_fit": null,
      "object_position": null,
      "order": null,
      "overflow": null,
      "overflow_x": null,
      "overflow_y": null,
      "padding": null,
      "right": null,
      "top": null,
      "visibility": null,
      "width": null
     }
    },
    "cbd7392b1fb94faa93b861e1ebee1cab": {
     "model_module": "@jupyter-widgets/base",
     "model_module_version": "1.2.0",
     "model_name": "LayoutModel",
     "state": {
      "_model_module": "@jupyter-widgets/base",
      "_model_module_version": "1.2.0",
      "_model_name": "LayoutModel",
      "_view_count": null,
      "_view_module": "@jupyter-widgets/base",
      "_view_module_version": "1.2.0",
      "_view_name": "LayoutView",
      "align_content": null,
      "align_items": null,
      "align_self": null,
      "border": null,
      "bottom": null,
      "display": null,
      "flex": null,
      "flex_flow": null,
      "grid_area": null,
      "grid_auto_columns": null,
      "grid_auto_flow": null,
      "grid_auto_rows": null,
      "grid_column": null,
      "grid_gap": null,
      "grid_row": null,
      "grid_template_areas": null,
      "grid_template_columns": null,
      "grid_template_rows": null,
      "height": null,
      "justify_content": null,
      "justify_items": null,
      "left": null,
      "margin": null,
      "max_height": null,
      "max_width": null,
      "min_height": null,
      "min_width": null,
      "object_fit": null,
      "object_position": null,
      "order": null,
      "overflow": null,
      "overflow_x": null,
      "overflow_y": null,
      "padding": null,
      "right": null,
      "top": null,
      "visibility": null,
      "width": null
     }
    },
    "d09e52d4f3044403bb626c0234681132": {
     "model_module": "@jupyter-widgets/controls",
     "model_module_version": "1.5.0",
     "model_name": "DescriptionStyleModel",
     "state": {
      "_model_module": "@jupyter-widgets/controls",
      "_model_module_version": "1.5.0",
      "_model_name": "DescriptionStyleModel",
      "_view_count": null,
      "_view_module": "@jupyter-widgets/base",
      "_view_module_version": "1.2.0",
      "_view_name": "StyleView",
      "description_width": ""
     }
    },
    "d5673424288340979c0852b6b5412c27": {
     "model_module": "@jupyter-widgets/controls",
     "model_module_version": "1.5.0",
     "model_name": "ProgressStyleModel",
     "state": {
      "_model_module": "@jupyter-widgets/controls",
      "_model_module_version": "1.5.0",
      "_model_name": "ProgressStyleModel",
      "_view_count": null,
      "_view_module": "@jupyter-widgets/base",
      "_view_module_version": "1.2.0",
      "_view_name": "StyleView",
      "bar_color": null,
      "description_width": ""
     }
    },
    "d8e1c817597543b0879981d9447c9adb": {
     "model_module": "@jupyter-widgets/controls",
     "model_module_version": "1.5.0",
     "model_name": "ProgressStyleModel",
     "state": {
      "_model_module": "@jupyter-widgets/controls",
      "_model_module_version": "1.5.0",
      "_model_name": "ProgressStyleModel",
      "_view_count": null,
      "_view_module": "@jupyter-widgets/base",
      "_view_module_version": "1.2.0",
      "_view_name": "StyleView",
      "bar_color": null,
      "description_width": ""
     }
    },
    "dd65f74ed9ed4598b6fa95f63b6051de": {
     "model_module": "@jupyter-widgets/base",
     "model_module_version": "1.2.0",
     "model_name": "LayoutModel",
     "state": {
      "_model_module": "@jupyter-widgets/base",
      "_model_module_version": "1.2.0",
      "_model_name": "LayoutModel",
      "_view_count": null,
      "_view_module": "@jupyter-widgets/base",
      "_view_module_version": "1.2.0",
      "_view_name": "LayoutView",
      "align_content": null,
      "align_items": null,
      "align_self": null,
      "border": null,
      "bottom": null,
      "display": null,
      "flex": null,
      "flex_flow": null,
      "grid_area": null,
      "grid_auto_columns": null,
      "grid_auto_flow": null,
      "grid_auto_rows": null,
      "grid_column": null,
      "grid_gap": null,
      "grid_row": null,
      "grid_template_areas": null,
      "grid_template_columns": null,
      "grid_template_rows": null,
      "height": null,
      "justify_content": null,
      "justify_items": null,
      "left": null,
      "margin": null,
      "max_height": null,
      "max_width": null,
      "min_height": null,
      "min_width": null,
      "object_fit": null,
      "object_position": null,
      "order": null,
      "overflow": null,
      "overflow_x": null,
      "overflow_y": null,
      "padding": null,
      "right": null,
      "top": null,
      "visibility": null,
      "width": null
     }
    },
    "e8751db86b67492fac2243a9fcd35afb": {
     "model_module": "@jupyter-widgets/controls",
     "model_module_version": "1.5.0",
     "model_name": "HBoxModel",
     "state": {
      "_dom_classes": [],
      "_model_module": "@jupyter-widgets/controls",
      "_model_module_version": "1.5.0",
      "_model_name": "HBoxModel",
      "_view_count": null,
      "_view_module": "@jupyter-widgets/controls",
      "_view_module_version": "1.5.0",
      "_view_name": "HBoxView",
      "box_style": "",
      "children": [
       "IPY_MODEL_bdb5c54014c34307a21320a441d694fc",
       "IPY_MODEL_ea05acfaea6f4db8855d3a9f449e8924",
       "IPY_MODEL_657a266eb8514fbaad1fe49af96f338e"
      ],
      "layout": "IPY_MODEL_033487d29680469696403aadf556bfa9"
     }
    },
    "ea05acfaea6f4db8855d3a9f449e8924": {
     "model_module": "@jupyter-widgets/controls",
     "model_module_version": "1.5.0",
     "model_name": "FloatProgressModel",
     "state": {
      "_dom_classes": [],
      "_model_module": "@jupyter-widgets/controls",
      "_model_module_version": "1.5.0",
      "_model_name": "FloatProgressModel",
      "_view_count": null,
      "_view_module": "@jupyter-widgets/controls",
      "_view_module_version": "1.5.0",
      "_view_name": "ProgressView",
      "bar_style": "success",
      "description": "",
      "description_tooltip": null,
      "layout": "IPY_MODEL_02eae71345eb44b0b118a1494d9520c5",
      "max": 444591,
      "min": 0,
      "orientation": "horizontal",
      "style": "IPY_MODEL_d8e1c817597543b0879981d9447c9adb",
      "value": 444591
     }
    },
    "f536611a14584288a39384350b1ae234": {
     "model_module": "@jupyter-widgets/controls",
     "model_module_version": "1.5.0",
     "model_name": "DescriptionStyleModel",
     "state": {
      "_model_module": "@jupyter-widgets/controls",
      "_model_module_version": "1.5.0",
      "_model_name": "DescriptionStyleModel",
      "_view_count": null,
      "_view_module": "@jupyter-widgets/base",
      "_view_module_version": "1.2.0",
      "_view_name": "StyleView",
      "description_width": ""
     }
    },
    "f7f83cab0d814e229efcc2a790bc9cb3": {
     "model_module": "@jupyter-widgets/controls",
     "model_module_version": "1.5.0",
     "model_name": "HTMLModel",
     "state": {
      "_dom_classes": [],
      "_model_module": "@jupyter-widgets/controls",
      "_model_module_version": "1.5.0",
      "_model_name": "HTMLModel",
      "_view_count": null,
      "_view_module": "@jupyter-widgets/controls",
      "_view_module_version": "1.5.0",
      "_view_name": "HTMLView",
      "description": "",
      "description_tooltip": null,
      "layout": "IPY_MODEL_1e3c0a528a854994a55f0f9219230a1a",
      "placeholder": "​",
      "style": "IPY_MODEL_f536611a14584288a39384350b1ae234",
      "value": " 550791/550791 [01:09&lt;00:00, 8248.78it/s]"
     }
    }
   }
  }
 },
 "nbformat": 4,
 "nbformat_minor": 1
}
