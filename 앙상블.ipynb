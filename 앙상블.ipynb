{
  "nbformat": 4,
  "nbformat_minor": 0,
  "metadata": {
    "colab": {
      "provenance": []
    },
    "kernelspec": {
      "name": "python3",
      "display_name": "Python 3"
    },
    "language_info": {
      "name": "python"
    },
    "gpuClass": "standard"
  },
  "cells": [
    {
      "cell_type": "code",
      "execution_count": 1,
      "metadata": {
        "colab": {
          "base_uri": "https://localhost:8080/"
        },
        "id": "uOXB0I0NVpeV",
        "outputId": "bc9141bb-60aa-40bb-cb01-d2a108d23576"
      },
      "outputs": [
        {
          "output_type": "stream",
          "name": "stdout",
          "text": [
            "Mounted at /content/drive\n"
          ]
        }
      ],
      "source": [
        "from google.colab import drive\n",
        "drive.mount('/content/drive')"
      ]
    },
    {
      "cell_type": "code",
      "source": [
        "!pip install /content/drive/MyDrive/HAI/eTaPR-21.8.2-py3-none-any.whl"
      ],
      "metadata": {
        "colab": {
          "base_uri": "https://localhost:8080/"
        },
        "id": "LOKD66hdVupe",
        "outputId": "535f39f1-bcec-4f93-a2d3-aeacca702ae0"
      },
      "execution_count": 2,
      "outputs": [
        {
          "output_type": "stream",
          "name": "stdout",
          "text": [
            "Looking in indexes: https://pypi.org/simple, https://us-python.pkg.dev/colab-wheels/public/simple/\n",
            "Processing ./drive/MyDrive/HAI/eTaPR-21.8.2-py3-none-any.whl\n",
            "Installing collected packages: eTaPR\n",
            "Successfully installed eTaPR-21.8.2\n"
          ]
        }
      ]
    },
    {
      "cell_type": "code",
      "source": [
        "import pandas as pd"
      ],
      "metadata": {
        "id": "uFnfaEM8V1rW"
      },
      "execution_count": 3,
      "outputs": []
    },
    {
      "cell_type": "code",
      "source": [
        "submission = pd.read_csv('/content/drive/MyDrive/HAI/sample_submission.csv')\n",
        "submission['attack']=0\n",
        "submission['attack'].value_counts()"
      ],
      "metadata": {
        "id": "DYr8lrFlV5K4",
        "colab": {
          "base_uri": "https://localhost:8080/"
        },
        "outputId": "7f6132d6-01e0-4e92-c7eb-2de31349f914"
      },
      "execution_count": 4,
      "outputs": [
        {
          "output_type": "execute_result",
          "data": {
            "text/plain": [
              "0    444600\n",
              "Name: attack, dtype: int64"
            ]
          },
          "metadata": {},
          "execution_count": 4
        }
      ]
    },
    {
      "cell_type": "code",
      "source": [
        "pred_y_test = list(submission['attack'])"
      ],
      "metadata": {
        "id": "KmcCDQfouTSD"
      },
      "execution_count": 6,
      "outputs": []
    },
    {
      "cell_type": "code",
      "source": [
        "gru=pd.read_csv('/content/drive/MyDrive/HAI/stackedGRU758.csv')#758 base 최고성능\n",
        "#f1=pd.read_csv('/content/drive/MyDrive/HAI/f1-find450.csv')\n",
        "#f2=pd.read_csv('/content/drive/MyDrive/HAI/f2-find6825.csv')\n",
        "#f4=pd.read_csv('/content/drive/MyDrive/HAI/f4-find6506.csv')\n",
        "f9=pd.read_csv('/content/drive/MyDrive/HAI/f9-find6053.csv')\n",
        "#f10=pd.read_csv('/content/drive/MyDrive/HAI/f10-find6011.csv')\n",
        "f11=pd.read_csv('/content/drive/MyDrive/HAI/f11-find6031.csv')"
      ],
      "metadata": {
        "id": "HZlYDwn8Bhzb"
      },
      "execution_count": 7,
      "outputs": []
    },
    {
      "cell_type": "markdown",
      "source": [
        "# 찾아낸 공격들 중 최고 성능 조합으로 앙상블"
      ],
      "metadata": {
        "id": "IHnFDvi_yJVO"
      }
    },
    {
      "cell_type": "code",
      "source": [
        "for i in range(len(submission)):\n",
        "  if (f9['attack'][i]==1 or f11['attack'][i]==1) or gru['attack'][i]==1 :\n",
        "    pred_y_test[i] = 1"
      ],
      "metadata": {
        "id": "tcQZVAnCB3d4"
      },
      "execution_count": 8,
      "outputs": []
    },
    {
      "cell_type": "code",
      "source": [],
      "metadata": {
        "id": "mGFplQSiLBar"
      },
      "execution_count": 8,
      "outputs": []
    },
    {
      "cell_type": "code",
      "source": [
        "test_data1 = pd.read_csv(\"/content/drive/MyDrive/HAI/test1.csv\", sep=\";\", engine=\"python\")\n",
        "test_data2 = pd.read_csv(\"/content/drive/MyDrive/HAI/test2.csv\", sep=\";\", engine=\"python\")"
      ],
      "metadata": {
        "id": "MwD_hdtlB3f9"
      },
      "execution_count": 9,
      "outputs": []
    },
    {
      "cell_type": "code",
      "source": [
        "TEST_DF_RAW = pd.concat([test_data1, test_data2], axis=0).reset_index(drop=True)"
      ],
      "metadata": {
        "id": "E9zvee9DB3hy"
      },
      "execution_count": 10,
      "outputs": []
    },
    {
      "cell_type": "code",
      "source": [
        "import numpy as np\n",
        "ATTACK_FIELD = \"attack\"\n",
        "ATTACK_LABELS = np.array(TEST_DF_RAW[ATTACK_FIELD])\n",
        "FINAL_LABELS = np.array(pred_y_test)"
      ],
      "metadata": {
        "id": "Cy4fhB1qCEZ-"
      },
      "execution_count": 11,
      "outputs": []
    },
    {
      "cell_type": "code",
      "source": [
        "from TaPR_pkg import etapr\n",
        "TaPR = etapr.evaluate_haicon(anomalies=ATTACK_LABELS, predictions=FINAL_LABELS)\n",
        "print(f\"F1: {TaPR['f1']:.3f} (TaP: {TaPR['TaP']:.3f}, TaR: {TaPR['TaR']:.3f})\")\n",
        "print(f\"# of detected anomalies: {len(TaPR['Detected_Anomalies'])}\")\n",
        "print(f\"Detected anomalies: {TaPR['Detected_Anomalies']}\")"
      ],
      "metadata": {
        "colab": {
          "base_uri": "https://localhost:8080/"
        },
        "id": "b7eqTDxdCEcO",
        "outputId": "82b8f563-943a-4044-ec28-549922356dd5"
      },
      "execution_count": 12,
      "outputs": [
        {
          "output_type": "stream",
          "name": "stdout",
          "text": [
            "F1: 0.760 (TaP: 0.848, TaR: 0.689)\n",
            "# of detected anomalies: 31\n",
            "Detected anomalies: [<TaPR_pkg.DataManage.Range.Range object at 0x7f52049f4370>, <TaPR_pkg.DataManage.Range.Range object at 0x7f52049f4460>, <TaPR_pkg.DataManage.Range.Range object at 0x7f5204bc8220>, <TaPR_pkg.DataManage.Range.Range object at 0x7f5204a026a0>, <TaPR_pkg.DataManage.Range.Range object at 0x7f5204a02730>, <TaPR_pkg.DataManage.Range.Range object at 0x7f5204a027c0>, <TaPR_pkg.DataManage.Range.Range object at 0x7f5204a02d60>, <TaPR_pkg.DataManage.Range.Range object at 0x7f5204a0f520>, <TaPR_pkg.DataManage.Range.Range object at 0x7f5204a0fa60>, <TaPR_pkg.DataManage.Range.Range object at 0x7f5203f7d460>, <TaPR_pkg.DataManage.Range.Range object at 0x7f5203f7d550>, <TaPR_pkg.DataManage.Range.Range object at 0x7f5203f7d9a0>, <TaPR_pkg.DataManage.Range.Range object at 0x7f5203f964c0>, <TaPR_pkg.DataManage.Range.Range object at 0x7f5203f969a0>, <TaPR_pkg.DataManage.Range.Range object at 0x7f5203f96a00>, <TaPR_pkg.DataManage.Range.Range object at 0x7f5203f96a60>, <TaPR_pkg.DataManage.Range.Range object at 0x7f5203f96ac0>, <TaPR_pkg.DataManage.Range.Range object at 0x7f5203f96b80>, <TaPR_pkg.DataManage.Range.Range object at 0x7f5203f96be0>, <TaPR_pkg.DataManage.Range.Range object at 0x7f5203f96cd0>, <TaPR_pkg.DataManage.Range.Range object at 0x7f5203f96d30>, <TaPR_pkg.DataManage.Range.Range object at 0x7f5203f96df0>, <TaPR_pkg.DataManage.Range.Range object at 0x7f5203f96e50>, <TaPR_pkg.DataManage.Range.Range object at 0x7f5203f96eb0>, <TaPR_pkg.DataManage.Range.Range object at 0x7f5203f96f10>, <TaPR_pkg.DataManage.Range.Range object at 0x7f5203f96f70>, <TaPR_pkg.DataManage.Range.Range object at 0x7f5203f96fa0>, <TaPR_pkg.DataManage.Range.Range object at 0x7f5203f96910>, <TaPR_pkg.DataManage.Range.Range object at 0x7f5203f6d070>, <TaPR_pkg.DataManage.Range.Range object at 0x7f5203f6d0d0>, <TaPR_pkg.DataManage.Range.Range object at 0x7f5203f6d130>]\n"
          ]
        }
      ]
    },
    {
      "cell_type": "code",
      "source": [
        "submission = pd.read_csv('/content/drive/MyDrive/HAI/sample_submission.csv')\n",
        "submission.index = submission['timestamp']\n",
        "submission['attack'] = pred_y_test"
      ],
      "metadata": {
        "id": "iGjmJpTSCEeS"
      },
      "execution_count": 13,
      "outputs": []
    },
    {
      "cell_type": "code",
      "source": [
        "submission['attack'].value_counts()"
      ],
      "metadata": {
        "colab": {
          "base_uri": "https://localhost:8080/"
        },
        "id": "a0qR5aQCCEgj",
        "outputId": "812ca306-fc70-4681-f374-ae5990257842"
      },
      "execution_count": 14,
      "outputs": [
        {
          "output_type": "execute_result",
          "data": {
            "text/plain": [
              "0    430693\n",
              "1     13907\n",
              "Name: attack, dtype: int64"
            ]
          },
          "metadata": {},
          "execution_count": 14
        }
      ]
    },
    {
      "cell_type": "code",
      "source": [
        "submission.to_csv('20186600.csv', index=False)"
      ],
      "metadata": {
        "id": "hed2HiPWCgR0"
      },
      "execution_count": 15,
      "outputs": []
    },
    {
      "cell_type": "code",
      "source": [],
      "metadata": {
        "id": "VCm4oT8TCgUF"
      },
      "execution_count": null,
      "outputs": []
    },
    {
      "cell_type": "code",
      "source": [],
      "metadata": {
        "id": "DHIooMR95q46"
      },
      "execution_count": null,
      "outputs": []
    },
    {
      "cell_type": "code",
      "source": [],
      "metadata": {
        "id": "Yd2xJCy9uEiO"
      },
      "execution_count": null,
      "outputs": []
    }
  ]
}