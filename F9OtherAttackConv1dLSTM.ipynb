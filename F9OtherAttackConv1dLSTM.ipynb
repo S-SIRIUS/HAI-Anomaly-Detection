{
  "cells": [
    {
      "cell_type": "code",
      "execution_count": 1,
      "metadata": {
        "colab": {
          "base_uri": "https://localhost:8080/"
        },
        "id": "XnSkaUObHJdj",
        "outputId": "5c5b3c00-0e7c-431c-cf68-e655d84598ac"
      },
      "outputs": [
        {
          "output_type": "stream",
          "name": "stdout",
          "text": [
            "Drive already mounted at /content/drive; to attempt to forcibly remount, call drive.mount(\"/content/drive\", force_remount=True).\n"
          ]
        }
      ],
      "source": [
        "from google.colab import drive\n",
        "drive.mount('/content/drive')"
      ]
    },
    {
      "cell_type": "code",
      "execution_count": 2,
      "metadata": {
        "id": "_CkcyPb8rW0F"
      },
      "outputs": [],
      "source": [
        "import os\n",
        "\n",
        "import tensorflow\n",
        "import numpy as np\n",
        "from tensorflow import keras\n",
        "import random\n",
        "import pandas as pd\n",
        "\n",
        "\n",
        "SEED = 42\n",
        "\n",
        "\n",
        "\n",
        "os.environ['PYTHONHASHSEED'] = str(SEED)\n",
        "\n",
        "os.environ['TF_DETERMINISTIC_OPS'] = '1'\n",
        "\n",
        "\n",
        "\n",
        "tensorflow.random.set_seed(SEED)\n",
        "\n",
        "np.random.seed(SEED)\n",
        "\n",
        "random.seed(SEED)\n",
        "\n",
        "from keras import layers\n",
        "from keras.models import load_model\n",
        "from keras.callbacks import EarlyStopping\n",
        "from keras import backend as K\n",
        "session_conf = tensorflow.compat.v1.ConfigProto(intra_op_parallelism_threads=1, inter_op_parallelism_threads=1)\n",
        "sess = tensorflow.compat.v1.Session(graph=tensorflow.compat.v1.get_default_graph(), config=session_conf)\n",
        "K.set_session(sess)"
      ]
    },
    {
      "cell_type": "code",
      "execution_count": 3,
      "metadata": {
        "colab": {
          "base_uri": "https://localhost:8080/"
        },
        "id": "w4AFXXcLHOV3",
        "outputId": "8ddb3e1e-2533-47e3-e479-14bff2784646"
      },
      "outputs": [
        {
          "output_type": "stream",
          "name": "stdout",
          "text": [
            "Looking in indexes: https://pypi.org/simple, https://us-python.pkg.dev/colab-wheels/public/simple/\n",
            "Processing ./drive/MyDrive/HAI/eTaPR-21.8.2-py3-none-any.whl\n",
            "eTaPR is already installed with the same version as the provided wheel. Use --force-reinstall to force an installation of the wheel.\n"
          ]
        }
      ],
      "source": [
        "!pip install /content/drive/MyDrive/HAI/eTaPR-21.8.2-py3-none-any.whl"
      ]
    },
    {
      "cell_type": "code",
      "execution_count": 4,
      "metadata": {
        "id": "kYsLTkLoHhS0"
      },
      "outputs": [],
      "source": [
        "import matplotlib.pyplot as plt\n",
        "from sklearn.preprocessing import StandardScaler\n",
        "from sklearn import metrics\n",
        "\n",
        "from tqdm.notebook import trange\n",
        "from TaPR_pkg import etapr\n",
        "from pathlib import Path\n",
        "import time\n"
      ]
    },
    {
      "cell_type": "code",
      "execution_count": 5,
      "metadata": {
        "id": "GC5lWGrEHvrI"
      },
      "outputs": [],
      "source": [
        "train_data1 = pd.read_csv(\"/content/drive/MyDrive/HAI/train1.csv\", sep=\";\", engine=\"python\")\n",
        "train_data2 = pd.read_csv(\"/content/drive/MyDrive/HAI/train2.csv\", sep=\";\", engine=\"python\")"
      ]
    },
    {
      "cell_type": "code",
      "execution_count": 6,
      "metadata": {
        "id": "hbmEEB28HzXN"
      },
      "outputs": [],
      "source": [
        "TRAIN_DF_RAW = pd.concat([train_data1, train_data2], axis=0).reset_index(drop=True)"
      ]
    },
    {
      "cell_type": "code",
      "execution_count": 7,
      "metadata": {
        "id": "5dVKaapdH_OY"
      },
      "outputs": [],
      "source": [
        "TIMESTAMP_FIELD = \"time\"\n",
        "ATTACK_FIELD = \"attack\"\n",
        "USELESS_FIELDS = [\"attack_P1\", \"attack_P2\", \"attack_P3\",'P1_PCV02D', 'P2_Auto','P2_Emgy','P2_On','P2_TripEx','P3_LH','P3_LL','P4_HT_PS']\n",
        "VALID_COLUMNS_IN_TRAIN_DATASET = TRAIN_DF_RAW.columns.drop(\n",
        "    [TIMESTAMP_FIELD, ATTACK_FIELD] + USELESS_FIELDS\n",
        ")\n",
        "f1=['P1_B3004', 'P1_LIT01']\n",
        "f2=['P1_B3005', 'P1_FCV03D', 'P1_FCV03Z', 'P1_FT01', 'P1_FT01Z', 'P1_FT03', 'P1_FT03Z', 'P1_LCV01D', 'P1_LCV01Z']\n",
        "\n",
        "f3=['P1_B4002', 'P1_B4022', 'P1_TIT01', 'P4_ST_TT01']\n",
        "\n",
        "f4=['P1_B3005', 'P1_FCV03D', 'P1_FCV03Z', 'P1_FT03', 'P1_FT03Z']\n",
        "\n",
        "f5=['P1_B3005', 'P1_FT01', 'P1_FT01Z', 'P1_FT03', 'P1_FT03Z', 'P1_LCV01D', 'P1_LCV01Z']\n",
        "f6=['P1_PCV02D', 'P1_PCV02Z']\n",
        "\n",
        "f7=['P1_PIT01', 'P4_ST_PT01']\n",
        "\n",
        "f8=['P1_TIT01', 'P1_TIT02']\n",
        "f9=['P2_VXT02', 'P2_VXT03', 'P2_VYT02']\n",
        "f10=['P2_VYT02', 'P2_VYT03', 'P2_VXT03']\n",
        "f11=['P2_VYT02', 'P2_VYT03']\n",
        "f12=['P1_PIT01', 'P4_ST_PT01']\n",
        "f13=['P1_B4002', 'P1_B4022', 'P1_TIT01', 'P4_ST_TT01']\n",
        "f14=['P1_TIT01', 'P4_ST_TT01']"
      ]
    },
    {
      "cell_type": "code",
      "source": [
        "VALID_COLUMNS_IN_TRAIN_DATASET=f9"
      ],
      "metadata": {
        "id": "iL4h-a9w25bS"
      },
      "execution_count": 8,
      "outputs": []
    },
    {
      "cell_type": "code",
      "execution_count": 9,
      "metadata": {
        "id": "K2IeSkoJIEpP"
      },
      "outputs": [],
      "source": [
        "TAG_MIN = TRAIN_DF_RAW[VALID_COLUMNS_IN_TRAIN_DATASET].min()\n",
        "TAG_MAX = TRAIN_DF_RAW[VALID_COLUMNS_IN_TRAIN_DATASET].max()"
      ]
    },
    {
      "cell_type": "code",
      "execution_count": 10,
      "metadata": {
        "id": "-ZrWCDvSIKQ_"
      },
      "outputs": [],
      "source": [
        "def normalize(df):\n",
        "    ndf = df.copy()\n",
        "    for c in df.columns:\n",
        "        if TAG_MIN[c] == TAG_MAX[c]:\n",
        "            ndf[c] = df[c] - TAG_MIN[c]\n",
        "        else:\n",
        "            ndf[c] = (df[c] - TAG_MIN[c]) / (TAG_MAX[c] - TAG_MIN[c])\n",
        "    return ndf"
      ]
    },
    {
      "cell_type": "code",
      "execution_count": 11,
      "metadata": {
        "id": "DhjCvNSpINMO"
      },
      "outputs": [],
      "source": [
        "TRAIN_DF = normalize(TRAIN_DF_RAW[VALID_COLUMNS_IN_TRAIN_DATASET])"
      ]
    },
    {
      "cell_type": "code",
      "execution_count": 12,
      "metadata": {
        "id": "xfoOHy4XIfR8"
      },
      "outputs": [],
      "source": [
        "def boundary_check(df):\n",
        "    x = np.array(df, dtype=np.float32)\n",
        "    return np.any(x > 1.0), np.any(x < 0), np.any(np.isnan(x))"
      ]
    },
    {
      "cell_type": "code",
      "execution_count": 13,
      "metadata": {
        "colab": {
          "base_uri": "https://localhost:8080/"
        },
        "id": "bNXuvUJCIjiT",
        "outputId": "8114bfd5-24c8-4159-8915-71424c16ae2a"
      },
      "outputs": [
        {
          "output_type": "execute_result",
          "data": {
            "text/plain": [
              "(False, False, False)"
            ]
          },
          "metadata": {},
          "execution_count": 13
        }
      ],
      "source": [
        "boundary_check(TRAIN_DF)"
      ]
    },
    {
      "cell_type": "code",
      "execution_count": 14,
      "metadata": {
        "id": "oX8u4umYIlQe"
      },
      "outputs": [],
      "source": [
        "def temporalize(X, y, timesteps):\n",
        "    output_X = []\n",
        "    output_y = []\n",
        "    for i in range(len(X) - timesteps - 1):\n",
        "        t = []\n",
        "        for j in range(1, timesteps + 1):\n",
        "            t.append(X[[(i + j + 1)], :])\n",
        "        output_X.append(t)\n",
        "        output_y.append(y[i + timesteps + 1])\n",
        "    return np.squeeze(np.array(output_X)), np.array(output_y)"
      ]
    },
    {
      "cell_type": "code",
      "execution_count": 15,
      "metadata": {
        "colab": {
          "base_uri": "https://localhost:8080/"
        },
        "id": "V37Iboh8Itik",
        "outputId": "7e125c6c-f93e-4017-da11-e5ce2e5c3b03"
      },
      "outputs": [
        {
          "output_type": "execute_result",
          "data": {
            "text/plain": [
              "(550800, 1, 3)"
            ]
          },
          "metadata": {},
          "execution_count": 15
        }
      ],
      "source": [
        "train = np.array(TRAIN_DF)\n",
        "x_train = train.reshape(train.shape[0], 1, train.shape[1])\n",
        "x_train.shape"
      ]
    },
    {
      "cell_type": "code",
      "execution_count": 16,
      "metadata": {
        "id": "JAhNT9a9Ivym"
      },
      "outputs": [],
      "source": [
        "def conv_auto_model(x):\n",
        "    n_steps = x.shape[1]\n",
        "    n_features = x.shape[2]\n",
        "\n",
        "    keras.backend.clear_session()\n",
        "\n",
        "    model = keras.Sequential(\n",
        "        [\n",
        "            layers.Input(shape=(n_steps, n_features)),\n",
        "            layers.Conv1D(filters=128, kernel_size=48, padding='same', data_format='channels_last',\n",
        "                          dilation_rate=1, activation=\"linear\"),\n",
        "            layers.BatchNormalization(),\n",
        "            layers.Dense(128),\n",
        "            layers.Bidirectional(layers.LSTM(\n",
        "                units=64, activation=\"relu\", name=\"lstm_1\", return_sequences=False\n",
        "            )),\n",
        "            layers.Dense(64),\n",
        "            layers.RepeatVector(n_steps),\n",
        "            layers.Dense(64),\n",
        "            layers.Bidirectional(layers.LSTM(\n",
        "                units=64, activation=\"relu\", name=\"lstm_2\", return_sequences=True\n",
        "            )),\n",
        "            layers.Dense(128),\n",
        "            layers.Conv1D(filters=128, kernel_size=48, padding='same', data_format='channels_last',\n",
        "                          dilation_rate=1, activation=\"linear\"),\n",
        "            layers.TimeDistributed(layers.Dense(x.shape[2], activation='linear'))\n",
        "        ]\n",
        "    )\n",
        "    return model"
      ]
    },
    {
      "cell_type": "code",
      "execution_count": 17,
      "metadata": {
        "colab": {
          "base_uri": "https://localhost:8080/"
        },
        "id": "dmoMT5RtIzVi",
        "outputId": "6e2b4487-ffe5-4fa9-d334-8c058addb72e"
      },
      "outputs": [
        {
          "output_type": "stream",
          "name": "stderr",
          "text": [
            "WARNING:tensorflow:Layer lstm_1 will not use cuDNN kernels since it doesn't meet the criteria. It will use a generic GPU kernel as fallback when running on GPU.\n",
            "WARNING:tensorflow:Layer lstm_1 will not use cuDNN kernels since it doesn't meet the criteria. It will use a generic GPU kernel as fallback when running on GPU.\n",
            "WARNING:tensorflow:Layer lstm_1 will not use cuDNN kernels since it doesn't meet the criteria. It will use a generic GPU kernel as fallback when running on GPU.\n",
            "WARNING:tensorflow:Layer lstm_2 will not use cuDNN kernels since it doesn't meet the criteria. It will use a generic GPU kernel as fallback when running on GPU.\n",
            "WARNING:tensorflow:Layer lstm_2 will not use cuDNN kernels since it doesn't meet the criteria. It will use a generic GPU kernel as fallback when running on GPU.\n",
            "WARNING:tensorflow:Layer lstm_2 will not use cuDNN kernels since it doesn't meet the criteria. It will use a generic GPU kernel as fallback when running on GPU.\n"
          ]
        },
        {
          "output_type": "stream",
          "name": "stdout",
          "text": [
            "Model: \"sequential\"\n",
            "_________________________________________________________________\n",
            " Layer (type)                Output Shape              Param #   \n",
            "=================================================================\n",
            " conv1d (Conv1D)             (None, 1, 128)            18560     \n",
            "                                                                 \n",
            " batch_normalization (BatchN  (None, 1, 128)           512       \n",
            " ormalization)                                                   \n",
            "                                                                 \n",
            " dense (Dense)               (None, 1, 128)            16512     \n",
            "                                                                 \n",
            " bidirectional (Bidirectiona  (None, 128)              98816     \n",
            " l)                                                              \n",
            "                                                                 \n",
            " dense_1 (Dense)             (None, 64)                8256      \n",
            "                                                                 \n",
            " repeat_vector (RepeatVector  (None, 1, 64)            0         \n",
            " )                                                               \n",
            "                                                                 \n",
            " dense_2 (Dense)             (None, 1, 64)             4160      \n",
            "                                                                 \n",
            " bidirectional_1 (Bidirectio  (None, 1, 128)           66048     \n",
            " nal)                                                            \n",
            "                                                                 \n",
            " dense_3 (Dense)             (None, 1, 128)            16512     \n",
            "                                                                 \n",
            " conv1d_1 (Conv1D)           (None, 1, 128)            786560    \n",
            "                                                                 \n",
            " time_distributed (TimeDistr  (None, 1, 3)             387       \n",
            " ibuted)                                                         \n",
            "                                                                 \n",
            "=================================================================\n",
            "Total params: 1,016,323\n",
            "Trainable params: 1,016,067\n",
            "Non-trainable params: 256\n",
            "_________________________________________________________________\n"
          ]
        }
      ],
      "source": [
        "model = conv_auto_model(x_train)\n",
        "model.compile(optimizer='adam', loss='mse')\n",
        "model.summary()"
      ]
    },
    {
      "cell_type": "code",
      "execution_count": 18,
      "metadata": {
        "colab": {
          "base_uri": "https://localhost:8080/"
        },
        "id": "02iXrLP7I5b2",
        "outputId": "d4310ecc-2c30-43cb-b0fc-9fefb663a823"
      },
      "outputs": [
        {
          "output_type": "stream",
          "name": "stdout",
          "text": [
            "Epoch 1/50\n",
            "3443/3443 [==============================] - 87s 23ms/step - loss: 0.0014 - val_loss: 6.5395e-04\n",
            "Epoch 2/50\n",
            "3443/3443 [==============================] - 69s 20ms/step - loss: 6.7747e-04 - val_loss: 2.8524e-04\n",
            "Epoch 3/50\n",
            "3443/3443 [==============================] - 68s 20ms/step - loss: 6.1758e-04 - val_loss: 1.8010e-04\n",
            "Epoch 4/50\n",
            "3443/3443 [==============================] - 68s 20ms/step - loss: 5.7425e-04 - val_loss: 2.3058e-04\n",
            "Epoch 5/50\n",
            "3443/3443 [==============================] - 68s 20ms/step - loss: 5.5313e-04 - val_loss: 3.0413e-04\n",
            "Epoch 6/50\n",
            "3443/3443 [==============================] - 68s 20ms/step - loss: 5.4849e-04 - val_loss: 2.7959e-04\n",
            "Epoch 7/50\n",
            "3443/3443 [==============================] - 68s 20ms/step - loss: 5.0602e-04 - val_loss: 2.2441e-04\n",
            "Epoch 8/50\n",
            "3443/3443 [==============================] - 68s 20ms/step - loss: 4.8485e-04 - val_loss: 4.7465e-04\n"
          ]
        }
      ],
      "source": [
        "early_stopping = EarlyStopping(monitor='val_loss', patience=5)\n",
        "\n",
        "epochs = 50\n",
        "batch = 128\n",
        "\n",
        "# fit\n",
        "history = model.fit(x_train, x_train,\n",
        "                     epochs=epochs, batch_size=batch,\n",
        "                     validation_split=0.2, callbacks=[early_stopping]).history\n",
        "\n",
        "model.save('F9model.h5')"
      ]
    },
    {
      "cell_type": "code",
      "execution_count": 19,
      "metadata": {
        "colab": {
          "base_uri": "https://localhost:8080/",
          "height": 279
        },
        "id": "RVzMNt1II7nh",
        "outputId": "38b02acb-64d9-4413-8932-44c76e965bdb"
      },
      "outputs": [
        {
          "output_type": "display_data",
          "data": {
            "text/plain": [
              "<Figure size 432x288 with 1 Axes>"
            ],
            "image/png": "[encoded data removed]"
          },
          "metadata": {
            "needs_background": "light"
          }
        }
      ],
      "source": [
        "plt.plot(history['loss'], label='train loss')\n",
        "plt.plot(history['val_loss'], label='valid loss')\n",
        "plt.legend()\n",
        "plt.xlabel('Epoch'); plt.ylabel('loss')\n",
        "plt.show()"
      ]
    },
    {
      "cell_type": "code",
      "execution_count": 20,
      "metadata": {
        "colab": {
          "base_uri": "https://localhost:8080/"
        },
        "id": "eM9uiZJHSPJ9",
        "outputId": "c801e455-2a94-402c-8fb3-7dabb3e87896"
      },
      "outputs": [
        {
          "output_type": "stream",
          "name": "stderr",
          "text": [
            "WARNING:tensorflow:Layer lstm_1 will not use cuDNN kernels since it doesn't meet the criteria. It will use a generic GPU kernel as fallback when running on GPU.\n",
            "WARNING:tensorflow:Layer lstm_1 will not use cuDNN kernels since it doesn't meet the criteria. It will use a generic GPU kernel as fallback when running on GPU.\n",
            "WARNING:tensorflow:Layer lstm_1 will not use cuDNN kernels since it doesn't meet the criteria. It will use a generic GPU kernel as fallback when running on GPU.\n",
            "WARNING:tensorflow:Layer lstm_2 will not use cuDNN kernels since it doesn't meet the criteria. It will use a generic GPU kernel as fallback when running on GPU.\n",
            "WARNING:tensorflow:Layer lstm_2 will not use cuDNN kernels since it doesn't meet the criteria. It will use a generic GPU kernel as fallback when running on GPU.\n",
            "WARNING:tensorflow:Layer lstm_2 will not use cuDNN kernels since it doesn't meet the criteria. It will use a generic GPU kernel as fallback when running on GPU.\n"
          ]
        }
      ],
      "source": [
        "model = load_model('F9model.h5')"
      ]
    },
    {
      "cell_type": "code",
      "execution_count": 21,
      "metadata": {
        "id": "GPXJtiBpSSpb"
      },
      "outputs": [],
      "source": [
        "test_data1 = pd.read_csv(\"/content/drive/MyDrive/HAI/test1.csv\", sep=\";\", engine=\"python\")\n",
        "test_data2 = pd.read_csv(\"/content/drive/MyDrive/HAI/test2.csv\", sep=\";\", engine=\"python\")"
      ]
    },
    {
      "cell_type": "code",
      "execution_count": 22,
      "metadata": {
        "id": "y9a22TefUd8b"
      },
      "outputs": [],
      "source": [
        "TEST_DF_RAW = pd.concat([test_data1, test_data2], axis=0).reset_index(drop=True)"
      ]
    },
    {
      "cell_type": "code",
      "execution_count": 23,
      "metadata": {
        "colab": {
          "base_uri": "https://localhost:8080/",
          "height": 423
        },
        "id": "fgFnLNk5Ufep",
        "outputId": "3a42c14d-b935-4a5a-bc37-7e812d85fc9a"
      },
      "outputs": [
        {
          "output_type": "execute_result",
          "data": {
            "text/plain": [
              "        P2_VXT02  P2_VXT03  P2_VYT02\n",
              "0       0.158166  0.133364  0.207999\n",
              "1       0.145792  0.256766  0.533228\n",
              "2       0.434592  0.462916  0.689985\n",
              "3       0.623442  0.457330  0.432752\n",
              "4       0.450345  0.255902  0.139864\n",
              "...          ...       ...       ...\n",
              "444595  0.057029  0.124035  0.345249\n",
              "444596  0.220629  0.312104  0.624510\n",
              "444597  0.507054  0.440113  0.589836\n",
              "444598  0.581937  0.358114  0.272261\n",
              "444599  0.348751  0.162674  0.065428\n",
              "\n",
              "[444600 rows x 3 columns]"
            ],
            "text/html": [
              "\n",
              "  <div id=\"df-4bf0ee1f-0dd9-4b40-8234-c61edd8175aa\">\n",
              "    <div class=\"colab-df-container\">\n",
              "      <div>\n",
              "<style scoped>\n",
              "    .dataframe tbody tr th:only-of-type {\n",
              "        vertical-align: middle;\n",
              "    }\n",
              "\n",
              "    .dataframe tbody tr th {\n",
              "        vertical-align: top;\n",
              "    }\n",
              "\n",
              "    .dataframe thead th {\n",
              "        text-align: right;\n",
              "    }\n",
              "</style>\n",
              "<table border=\"1\" class=\"dataframe\">\n",
              "  <thead>\n",
              "    <tr style=\"text-align: right;\">\n",
              "      <th></th>\n",
              "      <th>P2_VXT02</th>\n",
              "      <th>P2_VXT03</th>\n",
              "      <th>P2_VYT02</th>\n",
              "    </tr>\n",
              "  </thead>\n",
              "  <tbody>\n",
              "    <tr>\n",
              "      <th>0</th>\n",
              "      <td>0.158166</td>\n",
              "      <td>0.133364</td>\n",
              "      <td>0.207999</td>\n",
              "    </tr>\n",
              "    <tr>\n",
              "      <th>1</th>\n",
              "      <td>0.145792</td>\n",
              "      <td>0.256766</td>\n",
              "      <td>0.533228</td>\n",
              "    </tr>\n",
              "    <tr>\n",
              "      <th>2</th>\n",
              "      <td>0.434592</td>\n",
              "      <td>0.462916</td>\n",
              "      <td>0.689985</td>\n",
              "    </tr>\n",
              "    <tr>\n",
              "      <th>3</th>\n",
              "      <td>0.623442</td>\n",
              "      <td>0.457330</td>\n",
              "      <td>0.432752</td>\n",
              "    </tr>\n",
              "    <tr>\n",
              "      <th>4</th>\n",
              "      <td>0.450345</td>\n",
              "      <td>0.255902</td>\n",
              "      <td>0.139864</td>\n",
              "    </tr>\n",
              "    <tr>\n",
              "      <th>...</th>\n",
              "      <td>...</td>\n",
              "      <td>...</td>\n",
              "      <td>...</td>\n",
              "    </tr>\n",
              "    <tr>\n",
              "      <th>444595</th>\n",
              "      <td>0.057029</td>\n",
              "      <td>0.124035</td>\n",
              "      <td>0.345249</td>\n",
              "    </tr>\n",
              "    <tr>\n",
              "      <th>444596</th>\n",
              "      <td>0.220629</td>\n",
              "      <td>0.312104</td>\n",
              "      <td>0.624510</td>\n",
              "    </tr>\n",
              "    <tr>\n",
              "      <th>444597</th>\n",
              "      <td>0.507054</td>\n",
              "      <td>0.440113</td>\n",
              "      <td>0.589836</td>\n",
              "    </tr>\n",
              "    <tr>\n",
              "      <th>444598</th>\n",
              "      <td>0.581937</td>\n",
              "      <td>0.358114</td>\n",
              "      <td>0.272261</td>\n",
              "    </tr>\n",
              "    <tr>\n",
              "      <th>444599</th>\n",
              "      <td>0.348751</td>\n",
              "      <td>0.162674</td>\n",
              "      <td>0.065428</td>\n",
              "    </tr>\n",
              "  </tbody>\n",
              "</table>\n",
              "<p>444600 rows × 3 columns</p>\n",
              "</div>\n",
              "      <button class=\"colab-df-convert\" onclick=\"convertToInteractive('df-4bf0ee1f-0dd9-4b40-8234-c61edd8175aa')\"\n",
              "              title=\"Convert this dataframe to an interactive table.\"\n",
              "              style=\"display:none;\">\n",
              "        \n",
              "  <svg xmlns=\"http://www.w3.org/2000/svg\" height=\"24px\"viewBox=\"0 0 24 24\"\n",
              "       width=\"24px\">\n",
              "    <path d=\"M0 0h24v24H0V0z\" fill=\"none\"/>\n",
              "    <path d=\"M18.56 5.44l.94 2.06.94-2.06 2.06-.94-2.06-.94-.94-2.06-.94 2.06-2.06.94zm-11 1L8.5 8.5l.94-2.06 2.06-.94-2.06-.94L8.5 2.5l-.94 2.06-2.06.94zm10 10l.94 2.06.94-2.06 2.06-.94-2.06-.94-.94-2.06-.94 2.06-2.06.94z\"/><path d=\"M17.41 7.96l-1.37-1.37c-.4-.4-.92-.59-1.43-.59-.52 0-1.04.2-1.43.59L10.3 9.45l-7.72 7.72c-.78.78-.78 2.05 0 2.83L4 21.41c.39.39.9.59 1.41.59.51 0 1.02-.2 1.41-.59l7.78-7.78 2.81-2.81c.8-.78.8-2.07 0-2.86zM5.41 20L4 18.59l7.72-7.72 1.47 1.35L5.41 20z\"/>\n",
              "  </svg>\n",
              "      </button>\n",
              "      \n",
              "  <style>\n",
              "    .colab-df-container {\n",
              "      display:flex;\n",
              "      flex-wrap:wrap;\n",
              "      gap: 12px;\n",
              "    }\n",
              "\n",
              "    .colab-df-convert {\n",
              "      background-color: #E8F0FE;\n",
              "      border: none;\n",
              "      border-radius: 50%;\n",
              "      cursor: pointer;\n",
              "      display: none;\n",
              "      fill: #1967D2;\n",
              "      height: 32px;\n",
              "      padding: 0 0 0 0;\n",
              "      width: 32px;\n",
              "    }\n",
              "\n",
              "    .colab-df-convert:hover {\n",
              "      background-color: #E2EBFA;\n",
              "      box-shadow: 0px 1px 2px rgba(60, 64, 67, 0.3), 0px 1px 3px 1px rgba(60, 64, 67, 0.15);\n",
              "      fill: #174EA6;\n",
              "    }\n",
              "\n",
              "    [theme=dark] .colab-df-convert {\n",
              "      background-color: #3B4455;\n",
              "      fill: #D2E3FC;\n",
              "    }\n",
              "\n",
              "    [theme=dark] .colab-df-convert:hover {\n",
              "      background-color: #434B5C;\n",
              "      box-shadow: 0px 1px 3px 1px rgba(0, 0, 0, 0.15);\n",
              "      filter: drop-shadow(0px 1px 2px rgba(0, 0, 0, 0.3));\n",
              "      fill: #FFFFFF;\n",
              "    }\n",
              "  </style>\n",
              "\n",
              "      <script>\n",
              "        const buttonEl =\n",
              "          document.querySelector('#df-4bf0ee1f-0dd9-4b40-8234-c61edd8175aa button.colab-df-convert');\n",
              "        buttonEl.style.display =\n",
              "          google.colab.kernel.accessAllowed ? 'block' : 'none';\n",
              "\n",
              "        async function convertToInteractive(key) {\n",
              "          const element = document.querySelector('#df-4bf0ee1f-0dd9-4b40-8234-c61edd8175aa');\n",
              "          const dataTable =\n",
              "            await google.colab.kernel.invokeFunction('convertToInteractive',\n",
              "                                                     [key], {});\n",
              "          if (!dataTable) return;\n",
              "\n",
              "          const docLinkHtml = 'Like what you see? Visit the ' +\n",
              "            '<a target=\"_blank\" href=https://colab.research.google.com/notebooks/data_table.ipynb>data table notebook</a>'\n",
              "            + ' to learn more about interactive tables.';\n",
              "          element.innerHTML = '';\n",
              "          dataTable['output_type'] = 'display_data';\n",
              "          await google.colab.output.renderOutput(dataTable, element);\n",
              "          const docLink = document.createElement('div');\n",
              "          docLink.innerHTML = docLinkHtml;\n",
              "          element.appendChild(docLink);\n",
              "        }\n",
              "      </script>\n",
              "    </div>\n",
              "  </div>\n",
              "  "
            ]
          },
          "metadata": {},
          "execution_count": 23
        }
      ],
      "source": [
        "TEST_DF = normalize(TEST_DF_RAW[VALID_COLUMNS_IN_TRAIN_DATASET])\n",
        "TEST_DF"
      ]
    },
    {
      "cell_type": "code",
      "execution_count": 24,
      "metadata": {
        "colab": {
          "base_uri": "https://localhost:8080/"
        },
        "id": "9i0hffjGUiAH",
        "outputId": "1b7ae1bf-51a4-4181-b67f-696c8ecaf610"
      },
      "outputs": [
        {
          "output_type": "execute_result",
          "data": {
            "text/plain": [
              "(True, True, False)"
            ]
          },
          "metadata": {},
          "execution_count": 24
        }
      ],
      "source": [
        "boundary_check(TEST_DF)"
      ]
    },
    {
      "cell_type": "code",
      "execution_count": 25,
      "metadata": {
        "colab": {
          "base_uri": "https://localhost:8080/",
          "height": 423
        },
        "id": "UA6h7tkmlreh",
        "outputId": "062ab80e-e438-43bb-d65a-f7cd668f18b4"
      },
      "outputs": [
        {
          "output_type": "execute_result",
          "data": {
            "text/plain": [
              "        P2_VXT02  P2_VXT03  P2_VYT02\n",
              "0       0.158166  0.133364  0.207999\n",
              "1       0.145792  0.256766  0.533228\n",
              "2       0.434592  0.462916  0.689985\n",
              "3       0.623442  0.457330  0.432752\n",
              "4       0.450345  0.255902  0.139864\n",
              "...          ...       ...       ...\n",
              "444595  0.057029  0.124035  0.345249\n",
              "444596  0.220629  0.312104  0.624510\n",
              "444597  0.507054  0.440113  0.589836\n",
              "444598  0.581937  0.358114  0.272261\n",
              "444599  0.348751  0.162674  0.065428\n",
              "\n",
              "[444600 rows x 3 columns]"
            ],
            "text/html": [
              "\n",
              "  <div id=\"df-5889a24e-f690-48cb-8490-57babb041f44\">\n",
              "    <div class=\"colab-df-container\">\n",
              "      <div>\n",
              "<style scoped>\n",
              "    .dataframe tbody tr th:only-of-type {\n",
              "        vertical-align: middle;\n",
              "    }\n",
              "\n",
              "    .dataframe tbody tr th {\n",
              "        vertical-align: top;\n",
              "    }\n",
              "\n",
              "    .dataframe thead th {\n",
              "        text-align: right;\n",
              "    }\n",
              "</style>\n",
              "<table border=\"1\" class=\"dataframe\">\n",
              "  <thead>\n",
              "    <tr style=\"text-align: right;\">\n",
              "      <th></th>\n",
              "      <th>P2_VXT02</th>\n",
              "      <th>P2_VXT03</th>\n",
              "      <th>P2_VYT02</th>\n",
              "    </tr>\n",
              "  </thead>\n",
              "  <tbody>\n",
              "    <tr>\n",
              "      <th>0</th>\n",
              "      <td>0.158166</td>\n",
              "      <td>0.133364</td>\n",
              "      <td>0.207999</td>\n",
              "    </tr>\n",
              "    <tr>\n",
              "      <th>1</th>\n",
              "      <td>0.145792</td>\n",
              "      <td>0.256766</td>\n",
              "      <td>0.533228</td>\n",
              "    </tr>\n",
              "    <tr>\n",
              "      <th>2</th>\n",
              "      <td>0.434592</td>\n",
              "      <td>0.462916</td>\n",
              "      <td>0.689985</td>\n",
              "    </tr>\n",
              "    <tr>\n",
              "      <th>3</th>\n",
              "      <td>0.623442</td>\n",
              "      <td>0.457330</td>\n",
              "      <td>0.432752</td>\n",
              "    </tr>\n",
              "    <tr>\n",
              "      <th>4</th>\n",
              "      <td>0.450345</td>\n",
              "      <td>0.255902</td>\n",
              "      <td>0.139864</td>\n",
              "    </tr>\n",
              "    <tr>\n",
              "      <th>...</th>\n",
              "      <td>...</td>\n",
              "      <td>...</td>\n",
              "      <td>...</td>\n",
              "    </tr>\n",
              "    <tr>\n",
              "      <th>444595</th>\n",
              "      <td>0.057029</td>\n",
              "      <td>0.124035</td>\n",
              "      <td>0.345249</td>\n",
              "    </tr>\n",
              "    <tr>\n",
              "      <th>444596</th>\n",
              "      <td>0.220629</td>\n",
              "      <td>0.312104</td>\n",
              "      <td>0.624510</td>\n",
              "    </tr>\n",
              "    <tr>\n",
              "      <th>444597</th>\n",
              "      <td>0.507054</td>\n",
              "      <td>0.440113</td>\n",
              "      <td>0.589836</td>\n",
              "    </tr>\n",
              "    <tr>\n",
              "      <th>444598</th>\n",
              "      <td>0.581937</td>\n",
              "      <td>0.358114</td>\n",
              "      <td>0.272261</td>\n",
              "    </tr>\n",
              "    <tr>\n",
              "      <th>444599</th>\n",
              "      <td>0.348751</td>\n",
              "      <td>0.162674</td>\n",
              "      <td>0.065428</td>\n",
              "    </tr>\n",
              "  </tbody>\n",
              "</table>\n",
              "<p>444600 rows × 3 columns</p>\n",
              "</div>\n",
              "      <button class=\"colab-df-convert\" onclick=\"convertToInteractive('df-5889a24e-f690-48cb-8490-57babb041f44')\"\n",
              "              title=\"Convert this dataframe to an interactive table.\"\n",
              "              style=\"display:none;\">\n",
              "        \n",
              "  <svg xmlns=\"http://www.w3.org/2000/svg\" height=\"24px\"viewBox=\"0 0 24 24\"\n",
              "       width=\"24px\">\n",
              "    <path d=\"M0 0h24v24H0V0z\" fill=\"none\"/>\n",
              "    <path d=\"M18.56 5.44l.94 2.06.94-2.06 2.06-.94-2.06-.94-.94-2.06-.94 2.06-2.06.94zm-11 1L8.5 8.5l.94-2.06 2.06-.94-2.06-.94L8.5 2.5l-.94 2.06-2.06.94zm10 10l.94 2.06.94-2.06 2.06-.94-2.06-.94-.94-2.06-.94 2.06-2.06.94z\"/><path d=\"M17.41 7.96l-1.37-1.37c-.4-.4-.92-.59-1.43-.59-.52 0-1.04.2-1.43.59L10.3 9.45l-7.72 7.72c-.78.78-.78 2.05 0 2.83L4 21.41c.39.39.9.59 1.41.59.51 0 1.02-.2 1.41-.59l7.78-7.78 2.81-2.81c.8-.78.8-2.07 0-2.86zM5.41 20L4 18.59l7.72-7.72 1.47 1.35L5.41 20z\"/>\n",
              "  </svg>\n",
              "      </button>\n",
              "      \n",
              "  <style>\n",
              "    .colab-df-container {\n",
              "      display:flex;\n",
              "      flex-wrap:wrap;\n",
              "      gap: 12px;\n",
              "    }\n",
              "\n",
              "    .colab-df-convert {\n",
              "      background-color: #E8F0FE;\n",
              "      border: none;\n",
              "      border-radius: 50%;\n",
              "      cursor: pointer;\n",
              "      display: none;\n",
              "      fill: #1967D2;\n",
              "      height: 32px;\n",
              "      padding: 0 0 0 0;\n",
              "      width: 32px;\n",
              "    }\n",
              "\n",
              "    .colab-df-convert:hover {\n",
              "      background-color: #E2EBFA;\n",
              "      box-shadow: 0px 1px 2px rgba(60, 64, 67, 0.3), 0px 1px 3px 1px rgba(60, 64, 67, 0.15);\n",
              "      fill: #174EA6;\n",
              "    }\n",
              "\n",
              "    [theme=dark] .colab-df-convert {\n",
              "      background-color: #3B4455;\n",
              "      fill: #D2E3FC;\n",
              "    }\n",
              "\n",
              "    [theme=dark] .colab-df-convert:hover {\n",
              "      background-color: #434B5C;\n",
              "      box-shadow: 0px 1px 3px 1px rgba(0, 0, 0, 0.15);\n",
              "      filter: drop-shadow(0px 1px 2px rgba(0, 0, 0, 0.3));\n",
              "      fill: #FFFFFF;\n",
              "    }\n",
              "  </style>\n",
              "\n",
              "      <script>\n",
              "        const buttonEl =\n",
              "          document.querySelector('#df-5889a24e-f690-48cb-8490-57babb041f44 button.colab-df-convert');\n",
              "        buttonEl.style.display =\n",
              "          google.colab.kernel.accessAllowed ? 'block' : 'none';\n",
              "\n",
              "        async function convertToInteractive(key) {\n",
              "          const element = document.querySelector('#df-5889a24e-f690-48cb-8490-57babb041f44');\n",
              "          const dataTable =\n",
              "            await google.colab.kernel.invokeFunction('convertToInteractive',\n",
              "                                                     [key], {});\n",
              "          if (!dataTable) return;\n",
              "\n",
              "          const docLinkHtml = 'Like what you see? Visit the ' +\n",
              "            '<a target=\"_blank\" href=https://colab.research.google.com/notebooks/data_table.ipynb>data table notebook</a>'\n",
              "            + ' to learn more about interactive tables.';\n",
              "          element.innerHTML = '';\n",
              "          dataTable['output_type'] = 'display_data';\n",
              "          await google.colab.output.renderOutput(dataTable, element);\n",
              "          const docLink = document.createElement('div');\n",
              "          docLink.innerHTML = docLinkHtml;\n",
              "          element.appendChild(docLink);\n",
              "        }\n",
              "      </script>\n",
              "    </div>\n",
              "  </div>\n",
              "  "
            ]
          },
          "metadata": {},
          "execution_count": 25
        }
      ],
      "source": [
        "TEST_DF"
      ]
    },
    {
      "cell_type": "code",
      "execution_count": 26,
      "metadata": {
        "id": "o-exUWrEUsjI"
      },
      "outputs": [],
      "source": [
        "def flatten(X):\n",
        "    flattened_X = np.empty((X.shape[0], X.shape[2]))  # sample x features array.\n",
        "    for i in range(X.shape[0]):\n",
        "        flattened_X[i] = X[i, (X.shape[1]-1), :]\n",
        "    return(flattened_X)\n",
        "\n",
        "def scale(X, scaler):\n",
        "    for i in range(X.shape[0]):\n",
        "        X[i, :, :] = scaler.transform(X[i, :, :])\n",
        "        \n",
        "    return X"
      ]
    },
    {
      "cell_type": "code",
      "execution_count": 27,
      "metadata": {
        "colab": {
          "base_uri": "https://localhost:8080/"
        },
        "id": "2GXstVynVk5U",
        "outputId": "16eb96b9-3a07-4624-d952-338811d28f1e"
      },
      "outputs": [
        {
          "output_type": "execute_result",
          "data": {
            "text/plain": [
              "(444600, 1, 3)"
            ]
          },
          "metadata": {},
          "execution_count": 27
        }
      ],
      "source": [
        "test = np.array(TEST_DF)\n",
        "x_test = test.reshape(test.shape[0], 1, test.shape[1])\n",
        "x_test.shape"
      ]
    },
    {
      "cell_type": "code",
      "execution_count": 28,
      "metadata": {
        "id": "tnTnlGu9VdgB",
        "colab": {
          "base_uri": "https://localhost:8080/"
        },
        "outputId": "33badb78-b0ee-402f-d1cb-895db3769e0d"
      },
      "outputs": [
        {
          "output_type": "stream",
          "name": "stdout",
          "text": [
            "13894/13894 [==============================] - 71s 5ms/step\n",
            "(444600, 1, 3)\n",
            "(444600, 3)\n",
            "(444600,)\n",
            "84.27310633659363\n"
          ]
        }
      ],
      "source": [
        "start = time.time()\n",
        "test_x_predictions = model.predict(x_test)\n",
        "print(test_x_predictions.shape)\n",
        "\n",
        "error = flatten(x_test) - flatten(test_x_predictions)\n",
        "print((flatten(x_test) - flatten(test_x_predictions)).shape)\n",
        "\n",
        "test_mse = np.mean(np.power(flatten(x_test) - flatten(test_x_predictions), 2), axis=1)\n",
        "print(test_mse.shape)\n",
        "print(time.time()-start)"
      ]
    },
    {
      "cell_type": "code",
      "source": [
        "test_error = pd.DataFrame({'Reconstruction_error': test_mse})"
      ],
      "metadata": {
        "id": "n5Rz9tRn8v8H"
      },
      "execution_count": 29,
      "outputs": []
    },
    {
      "cell_type": "code",
      "source": [
        "move = 70\n",
        "test_move = test_error['Reconstruction_error'].rolling(move, center=True).mean()\n",
        "\n",
        "test_d = test_move.fillna(0)\n",
        "test_d"
      ],
      "metadata": {
        "colab": {
          "base_uri": "https://localhost:8080/"
        },
        "id": "7DWM-iFN83Bm",
        "outputId": "138a6a0d-ce07-4726-a85d-2836870f7681"
      },
      "execution_count": 30,
      "outputs": [
        {
          "output_type": "execute_result",
          "data": {
            "text/plain": [
              "0         0.0\n",
              "1         0.0\n",
              "2         0.0\n",
              "3         0.0\n",
              "4         0.0\n",
              "         ... \n",
              "444595    0.0\n",
              "444596    0.0\n",
              "444597    0.0\n",
              "444598    0.0\n",
              "444599    0.0\n",
              "Name: Reconstruction_error, Length: 444600, dtype: float64"
            ]
          },
          "metadata": {},
          "execution_count": 30
        }
      ]
    },
    {
      "cell_type": "code",
      "source": [
        "movemean_test = pd.DataFrame({'Reconstruction_error': test_d})"
      ],
      "metadata": {
        "id": "eia6uL3w86TJ"
      },
      "execution_count": 31,
      "outputs": []
    },
    {
      "cell_type": "code",
      "source": [
        "pred_y = [1 if e > 0.0027 else 0 for e in movemean_test['Reconstruction_error'].values]\n",
        "pred_y = np.array(pred_y)\n",
        "pred_y.shape"
      ],
      "metadata": {
        "colab": {
          "base_uri": "https://localhost:8080/"
        },
        "id": "dWc_j2BR-c5C",
        "outputId": "516d32f7-c9f5-45bd-e9c0-5aed4b0d81af"
      },
      "execution_count": 32,
      "outputs": [
        {
          "output_type": "execute_result",
          "data": {
            "text/plain": [
              "(444600,)"
            ]
          },
          "metadata": {},
          "execution_count": 32
        }
      ]
    },
    {
      "cell_type": "code",
      "source": [
        "ATTACK_LABELS = np.array(TEST_DF_RAW[ATTACK_FIELD])\n",
        "FINAL_LABELS = np.array(pred_y)\n",
        "\n",
        "ATTACK_LABELS.shape[0] == FINAL_LABELS.shape[0]"
      ],
      "metadata": {
        "colab": {
          "base_uri": "https://localhost:8080/"
        },
        "id": "A58Ek8BM-s5d",
        "outputId": "69586be6-4bfa-4393-d5c4-6a50de581dff"
      },
      "execution_count": 33,
      "outputs": [
        {
          "output_type": "execute_result",
          "data": {
            "text/plain": [
              "True"
            ]
          },
          "metadata": {},
          "execution_count": 33
        }
      ]
    },
    {
      "cell_type": "code",
      "source": [
        "TaPR = etapr.evaluate_haicon(anomalies=ATTACK_LABELS, predictions=FINAL_LABELS)\n",
        "print(f\"F1: {TaPR['f1']:.3f} (TaP: {TaPR['TaP']:.3f}, TaR: {TaPR['TaR']:.3f})\")\n",
        "print(f\"# of detected anomalies: {len(TaPR['Detected_Anomalies'])}\")\n",
        "print(f\"Detected anomalies: {TaPR['Detected_Anomalies']}\")"
      ],
      "metadata": {
        "colab": {
          "base_uri": "https://localhost:8080/"
        },
        "id": "v_6stgsm-u_M",
        "outputId": "2c452b48-6409-4327-c814-defc50f31c13"
      },
      "execution_count": 34,
      "outputs": [
        {
          "output_type": "stream",
          "name": "stdout",
          "text": [
            "F1: 0.393 (TaP: 0.950, TaR: 0.248)\n",
            "# of detected anomalies: 10\n",
            "Detected anomalies: [<TaPR_pkg.DataManage.Range.Range object at 0x7f94c5ebc2b0>, <TaPR_pkg.DataManage.Range.Range object at 0x7f94eedc1370>, <TaPR_pkg.DataManage.Range.Range object at 0x7f94cc79f070>, <TaPR_pkg.DataManage.Range.Range object at 0x7f94cc79f0d0>, <TaPR_pkg.DataManage.Range.Range object at 0x7f94cc79f130>, <TaPR_pkg.DataManage.Range.Range object at 0x7f94cc79f190>, <TaPR_pkg.DataManage.Range.Range object at 0x7f94cc79f1f0>, <TaPR_pkg.DataManage.Range.Range object at 0x7f94cc79f730>, <TaPR_pkg.DataManage.Range.Range object at 0x7f94cc79f7c0>, <TaPR_pkg.DataManage.Range.Range object at 0x7f94cc79f820>]\n"
          ]
        }
      ]
    },
    {
      "cell_type": "code",
      "source": [
        "submission = pd.read_csv('/content/drive/MyDrive/HAI/sample_submission.csv')\n",
        "submission.index = submission['timestamp']\n",
        "submission['attack'] = pred_y"
      ],
      "metadata": {
        "id": "6QnBeMNr86uA"
      },
      "execution_count": 35,
      "outputs": []
    },
    {
      "cell_type": "code",
      "source": [
        "submission['attack'].value_counts()"
      ],
      "metadata": {
        "colab": {
          "base_uri": "https://localhost:8080/"
        },
        "id": "WAMF4s7h6Yf0",
        "outputId": "1e5060ec-54c9-407a-abb0-f6b2abf0b9f2"
      },
      "execution_count": 36,
      "outputs": [
        {
          "output_type": "execute_result",
          "data": {
            "text/plain": [
              "0    438547\n",
              "1      6053\n",
              "Name: attack, dtype: int64"
            ]
          },
          "metadata": {},
          "execution_count": 36
        }
      ]
    },
    {
      "cell_type": "code",
      "source": [
        "submission['attack'].value_counts()"
      ],
      "metadata": {
        "colab": {
          "base_uri": "https://localhost:8080/"
        },
        "id": "WxNGuVwsF1ZR",
        "outputId": "249716b2-490e-4fd4-beaf-6b276f716ca6"
      },
      "execution_count": null,
      "outputs": [
        {
          "output_type": "execute_result",
          "data": {
            "text/plain": [
              "0    438547\n",
              "1      6053\n",
              "Name: attack, dtype: int64"
            ]
          },
          "metadata": {},
          "execution_count": 48
        }
      ]
    },
    {
      "cell_type": "code",
      "source": [
        "submission.to_csv('f9-find6053.csv', index=False)"
      ],
      "metadata": {
        "id": "0npwv1kV9CRq"
      },
      "execution_count": null,
      "outputs": []
    },
    {
      "cell_type": "code",
      "source": [],
      "metadata": {
        "id": "G_xHdbPf9CUG"
      },
      "execution_count": null,
      "outputs": []
    }
  ],
  "metadata": {
    "accelerator": "GPU",
    "colab": {
      "machine_shape": "hm",
      "provenance": []
    },
    "gpuClass": "premium",
    "kernelspec": {
      "display_name": "Python 3",
      "name": "python3"
    },
    "language_info": {
      "name": "python"
    }
  },
  "nbformat": 4,
  "nbformat_minor": 0
}